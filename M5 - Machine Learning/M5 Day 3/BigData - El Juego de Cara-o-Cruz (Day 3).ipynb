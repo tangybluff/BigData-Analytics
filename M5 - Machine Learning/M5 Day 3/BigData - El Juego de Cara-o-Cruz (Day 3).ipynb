{
 "cells": [
  {
   "cell_type": "markdown",
   "id": "a6936716",
   "metadata": {
    "papermill": {
     "duration": 0.003733,
     "end_time": "2023-10-22T16:10:55.811864",
     "exception": false,
     "start_time": "2023-10-22T16:10:55.808131",
     "status": "completed"
    },
    "tags": []
   },
   "source": [
    "### Simulación tipo [Monte Carlo](https://es.wikipedia.org/wiki/M%C3%A9todo_de_Montecarlo): El juego de \"[cara o cruz](https://es.wikipedia.org/wiki/Cara_o_cruz)\""
   ]
  },
  {
   "cell_type": "code",
   "execution_count": 1,
   "id": "d7e4cf86",
   "metadata": {
    "execution": {
     "iopub.execute_input": "2023-10-22T16:10:55.819341Z",
     "iopub.status.busy": "2023-10-22T16:10:55.818800Z",
     "iopub.status.idle": "2023-10-22T16:10:57.137119Z",
     "shell.execute_reply": "2023-10-22T16:10:57.135733Z"
    },
    "papermill": {
     "duration": 1.325895,
     "end_time": "2023-10-22T16:10:57.140517",
     "exception": false,
     "start_time": "2023-10-22T16:10:55.814622",
     "status": "completed"
    },
    "tags": []
   },
   "outputs": [],
   "source": [
    "import numpy as np\n",
    "import pandas as pd\n",
    "import matplotlib.pyplot as plt\n",
    "\n",
    "import random\n",
    "from sklearn.metrics import accuracy_score"
   ]
  },
  {
   "cell_type": "markdown",
   "id": "5d727fd9",
   "metadata": {
    "papermill": {
     "duration": 0.002213,
     "end_time": "2023-10-22T16:10:57.145377",
     "exception": false,
     "start_time": "2023-10-22T16:10:57.143164",
     "status": "completed"
    },
    "tags": []
   },
   "source": [
    "### El juego"
   ]
  },
  {
   "cell_type": "code",
   "execution_count": 2,
   "id": "a6cf8665",
   "metadata": {
    "execution": {
     "iopub.execute_input": "2023-10-22T16:10:57.153141Z",
     "iopub.status.busy": "2023-10-22T16:10:57.152639Z",
     "iopub.status.idle": "2023-10-22T16:10:59.725273Z",
     "shell.execute_reply": "2023-10-22T16:10:59.723518Z"
    },
    "papermill": {
     "duration": 2.581474,
     "end_time": "2023-10-22T16:10:59.729629",
     "exception": false,
     "start_time": "2023-10-22T16:10:57.148155",
     "status": "completed"
    },
    "tags": []
   },
   "outputs": [
    {
     "data": {
      "image/png": "[encoded data removed]",
      "text/plain": [
       "<Figure size 1296x288 with 1 Axes>"
      ]
     },
     "metadata": {
      "needs_background": "light"
     },
     "output_type": "display_data"
    },
    {
     "name": "stdout",
     "output_type": "stream",
     "text": [
      "Mi balance final: 4716\n",
      "accuracy_score:   0.504616\n"
     ]
    }
   ],
   "source": [
    "# empiezo con 100 monedas\n",
    "mi_dinero = 100\n",
    "\n",
    "# guardar mi balance aqui\n",
    "mi_balance = []\n",
    "\n",
    "# el numero de juegos\n",
    "n_juegos =  500_000\n",
    "\n",
    "y_true = []\n",
    "y_pred = []\n",
    "\n",
    "for i in range(n_juegos):\n",
    "    \n",
    "    arrojada   = (random.uniform(0, 1) >= 0.5 )*1\n",
    "    y_true.append(arrojada)\n",
    "\n",
    "    mi_elecion = (random.uniform(0, 1) >= 0.5 )*1\n",
    "    ventaja    = random.uniform(0, 1)\n",
    "\n",
    "# We are going to change the value from 0.0 to 0.0001\n",
    "# We are going to change from 0.0001 to 0.001\n",
    "# We are going to change from 0.001 to 0.01 and increase to 500k\n",
    "    if ventaja < 0.01: # gano yo una moneda ¡fijo!\n",
    "        mi_dinero = mi_dinero +1\n",
    "        mi_balance.append(mi_dinero)\n",
    "        y_pred.append(arrojada)\n",
    "        \n",
    "    elif mi_elecion == arrojada: # si acierto, gano una moneda\n",
    "        mi_dinero = mi_dinero +1\n",
    "        mi_balance.append(mi_dinero)\n",
    "        y_pred.append(arrojada)\n",
    "        \n",
    "    else:                       # si no acierto, pierdo una moneda\n",
    "        mi_dinero = mi_dinero -1\n",
    "        mi_balance.append(mi_dinero)\n",
    "        if arrojada == 1:\n",
    "            y_pred.append(0)\n",
    "        else:\n",
    "            y_pred.append(1)\n",
    "            \n",
    "\n",
    "# Plot\n",
    "mi_balance_array = np.array(mi_balance)\n",
    "en_credito = np.ma.masked_where(mi_balance_array < 100, mi_balance_array)\n",
    "en_deuda   = np.ma.masked_where(mi_balance_array > 99, mi_balance_array)\n",
    "\n",
    "fig, ax = plt.subplots(figsize=(18, 4))\n",
    "plt.plot(en_credito, color=\"green\")\n",
    "plt.plot(en_deuda,   color=\"red\")\n",
    "ax.set_ylabel (\"balance\", fontsize=18);\n",
    "ax.set_xlabel (\"n_juego\", fontsize=18)\n",
    "plt.show();\n",
    "\n",
    "# Print\n",
    "print(\"Mi balance final:\", mi_balance[-1])\n",
    "print(\"accuracy_score:  \", accuracy_score(y_true, y_pred))"
   ]
  }
 ],
 "metadata": {
  "kernelspec": {
   "display_name": "Python 3",
   "language": "python",
   "name": "python3"
  },
  "language_info": {
   "codemirror_mode": {
    "name": "ipython",
    "version": 3
   },
   "file_extension": ".py",
   "mimetype": "text/x-python",
   "name": "python",
   "nbconvert_exporter": "python",
   "pygments_lexer": "ipython3",
   "version": "3.7.12"
  },
  "papermill": {
   "default_parameters": {},
   "duration": 18.386847,
   "end_time": "2023-10-22T16:11:00.558843",
   "environment_variables": {},
   "exception": null,
   "input_path": "__notebook__.ipynb",
   "output_path": "__notebook__.ipynb",
   "parameters": {},
   "start_time": "2023-10-22T16:10:42.171996",
   "version": "2.3.4"
  }
 },
 "nbformat": 4,
 "nbformat_minor": 5
}
