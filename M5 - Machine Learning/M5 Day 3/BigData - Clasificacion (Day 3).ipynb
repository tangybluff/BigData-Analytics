{
 "cells": [
  {
   "cell_type": "markdown",
   "id": "7910fbff",
   "metadata": {
    "papermill": {
     "duration": 0.013604,
     "end_time": "2023-10-22T16:13:26.419245",
     "exception": false,
     "start_time": "2023-10-22T16:13:26.405641",
     "status": "completed"
    },
    "tags": []
   },
   "source": [
    "# BIG DATA: Práctica: Clasificación\n",
    "### Cargar las librerías"
   ]
  },
  {
   "cell_type": "code",
   "execution_count": 1,
   "id": "07c0cafd",
   "metadata": {
    "_cell_guid": "b1076dfc-b9ad-4769-8c92-a6c4dae69d19",
    "_uuid": "8f2839f25d086af736a60e9eeb907d3b93b6e0e5",
    "execution": {
     "iopub.execute_input": "2023-10-22T16:13:26.439886Z",
     "iopub.status.busy": "2023-10-22T16:13:26.439028Z",
     "iopub.status.idle": "2023-10-22T16:13:26.451896Z",
     "shell.execute_reply": "2023-10-22T16:13:26.451091Z"
    },
    "papermill": {
     "duration": 0.024788,
     "end_time": "2023-10-22T16:13:26.454228",
     "exception": false,
     "start_time": "2023-10-22T16:13:26.429440",
     "status": "completed"
    },
    "tags": []
   },
   "outputs": [],
   "source": [
    "import pandas as pd\n",
    "import numpy as np\n",
    "import matplotlib.pyplot as plt\n",
    "\n",
    "np.random.seed(42)"
   ]
  },
  {
   "cell_type": "markdown",
   "id": "9ddaef9d",
   "metadata": {
    "papermill": {
     "duration": 0.00746,
     "end_time": "2023-10-22T16:13:26.469618",
     "exception": false,
     "start_time": "2023-10-22T16:13:26.462158",
     "status": "completed"
    },
    "tags": []
   },
   "source": [
    "### Generar los datos"
   ]
  },
  {
   "cell_type": "code",
   "execution_count": 2,
   "id": "a9c331e2",
   "metadata": {
    "execution": {
     "iopub.execute_input": "2023-10-22T16:13:26.487866Z",
     "iopub.status.busy": "2023-10-22T16:13:26.487084Z",
     "iopub.status.idle": "2023-10-22T16:13:26.582428Z",
     "shell.execute_reply": "2023-10-22T16:13:26.581059Z"
    },
    "papermill": {
     "duration": 0.107747,
     "end_time": "2023-10-22T16:13:26.585241",
     "exception": false,
     "start_time": "2023-10-22T16:13:26.477494",
     "status": "completed"
    },
    "tags": []
   },
   "outputs": [],
   "source": [
    "mu        = 250\n",
    "sigma     = 50\n",
    "n_numbers = 500\n",
    "\n",
    "data = (np.random.randn(n_numbers) * sigma + mu).astype('int')\n",
    "times = data.tolist()\n",
    "\n",
    "X  = np.arange(0,251)\n",
    "df = pd.DataFrame(X, columns = ['X'])\n",
    "df[\"y_true\"] = 0\n",
    "\n",
    "for i in times:\n",
    "    if i <= 250:\n",
    "        df['y_true'].iloc[i] = 1\n",
    "        \n",
    "X = df[\"X\"].values\n",
    "y = df[\"y_true\"]"
   ]
  },
  {
   "cell_type": "markdown",
   "id": "3e2e39bc",
   "metadata": {
    "papermill": {
     "duration": 0.007564,
     "end_time": "2023-10-22T16:13:26.600819",
     "exception": false,
     "start_time": "2023-10-22T16:13:26.593255",
     "status": "completed"
    },
    "tags": []
   },
   "source": [
    "## El ajuste: Logistic Regression\n",
    "[`sklearn.linear_model.LogisticRegression`](https://scikit-learn.org/stable/modules/generated/sklearn.linear_model.LogisticRegression.html)\n",
    "\n",
    "$$\\Large  \\mathrm{logistic}(x):= \\frac{1}{1+e^{-( \\kappa_{1} x + \\kappa_{0})}} $$\n"
   ]
  },
  {
   "cell_type": "code",
   "execution_count": 3,
   "id": "c4c07d54",
   "metadata": {
    "execution": {
     "iopub.execute_input": "2023-10-22T16:13:26.620001Z",
     "iopub.status.busy": "2023-10-22T16:13:26.619221Z",
     "iopub.status.idle": "2023-10-22T16:13:27.694826Z",
     "shell.execute_reply": "2023-10-22T16:13:27.693618Z"
    },
    "papermill": {
     "duration": 1.089044,
     "end_time": "2023-10-22T16:13:27.697480",
     "exception": false,
     "start_time": "2023-10-22T16:13:26.608436",
     "status": "completed"
    },
    "tags": []
   },
   "outputs": [
    {
     "name": "stdout",
     "output_type": "stream",
     "text": [
      "kappa_1 =  [0.065339]\n",
      "kappa_0 =  [-10.42416397]\n"
     ]
    }
   ],
   "source": [
    "from sklearn.linear_model import LogisticRegression\n",
    "\n",
    "classifier = LogisticRegression(penalty='none')\n",
    "\n",
    "classifier.fit(X.reshape(-1, 1), y)\n",
    "\n",
    "# calcular las probabilidades\n",
    "df[\"probability\"]  = classifier.predict_proba(X.reshape(-1, 1))[:,1]\n",
    "\n",
    "k1 = classifier.coef_[0]\n",
    "k0 = classifier.intercept_\n",
    "\n",
    "print(\"kappa_1 = \",k1) \n",
    "print(\"kappa_0 = \",k0)"
   ]
  },
  {
   "cell_type": "markdown",
   "id": "f3fe4f75",
   "metadata": {
    "papermill": {
     "duration": 0.008302,
     "end_time": "2023-10-22T16:13:27.713806",
     "exception": false,
     "start_time": "2023-10-22T16:13:27.705504",
     "status": "completed"
    },
    "tags": []
   },
   "source": [
    "también dibujar una regresión lineal a los datos de forma comparativa"
   ]
  },
  {
   "cell_type": "code",
   "execution_count": 4,
   "id": "02f52846",
   "metadata": {
    "execution": {
     "iopub.execute_input": "2023-10-22T16:13:27.731835Z",
     "iopub.status.busy": "2023-10-22T16:13:27.731219Z",
     "iopub.status.idle": "2023-10-22T16:13:27.745031Z",
     "shell.execute_reply": "2023-10-22T16:13:27.743958Z"
    },
    "papermill": {
     "duration": 0.025638,
     "end_time": "2023-10-22T16:13:27.747469",
     "exception": false,
     "start_time": "2023-10-22T16:13:27.721831",
     "status": "completed"
    },
    "tags": []
   },
   "outputs": [],
   "source": [
    "from sklearn.linear_model import LinearRegression\n",
    "regressor = LinearRegression()\n",
    "regressor.fit(X.reshape(-1, 1), y)\n",
    "y_lineal    = regressor.predict(X.reshape(-1, 1))"
   ]
  },
  {
   "cell_type": "code",
   "execution_count": 5,
   "id": "4b56822c",
   "metadata": {
    "_kg_hide-input": true,
    "execution": {
     "iopub.execute_input": "2023-10-22T16:13:27.765143Z",
     "iopub.status.busy": "2023-10-22T16:13:27.764515Z",
     "iopub.status.idle": "2023-10-22T16:13:28.133718Z",
     "shell.execute_reply": "2023-10-22T16:13:28.132825Z"
    },
    "papermill": {
     "duration": 0.380761,
     "end_time": "2023-10-22T16:13:28.136153",
     "exception": false,
     "start_time": "2023-10-22T16:13:27.755392",
     "status": "completed"
    },
    "tags": []
   },
   "outputs": [
    {
     "data": {
      "image/png": "[encoded data removed]",
      "text/plain": [
       "<Figure size 1296x720 with 1 Axes>"
      ]
     },
     "metadata": {
      "needs_background": "light"
     },
     "output_type": "display_data"
    }
   ],
   "source": [
    "fig, ax = plt.subplots(figsize=(18, 10))\n",
    "\n",
    "plt.scatter(df.X, df.y_true, color=\"blue\", s=80)\n",
    "plt.scatter(df.X, df.probability, color=\"red\",s=25)\n",
    "plt.plot(df.X, y_lineal, color=\"green\", lw = 3)\n",
    "\n",
    "def logistic(x):\n",
    "    return 1/(1 + np.exp(-(k1*x + k0) ) )\n",
    "\n",
    "df[\"logistic\"] = df[\"X\"].apply(logistic)\n",
    "plt.plot(df.X, df.logistic, color=\"red\")\n",
    "\n",
    "plt.axhline(y=0.5, color='grey', linestyle='--')\n",
    "ax.text(30, 0.85, \"clase 1\", size=22)\n",
    "ax.text(20, 0.53, \"p = 0.5\", size=16)\n",
    "ax.text(30, 0.15, \"clase 0\", size=22)\n",
    "ax.arrow(x=200, y=0, dx=0, dy=0.65, width=.002, head_width=3, head_length=0.1)\n",
    "ax.text(203, 0.35, \"p\", size=20)\n",
    "ax.arrow(x=200, y=1, dx=0, dy=-0.15, width=.002, head_width=3, head_length=0.1)\n",
    "ax.text(203, 0.87, \"1-p\", size=20)\n",
    "\n",
    "ax.set_title(\"Linear vs. logistic regression\", fontsize=22)\n",
    "ax.set_ylabel (\"p(x)\", fontsize=22)\n",
    "ax.set_xlabel (\"x\", fontsize=22);"
   ]
  },
  {
   "cell_type": "markdown",
   "id": "26f52753",
   "metadata": {
    "papermill": {
     "duration": 0.008573,
     "end_time": "2023-10-22T16:13:28.153781",
     "exception": false,
     "start_time": "2023-10-22T16:13:28.145208",
     "status": "completed"
    },
    "tags": []
   },
   "source": [
    "### Predicciones binarias"
   ]
  },
  {
   "cell_type": "code",
   "execution_count": 6,
   "id": "6e7244ff",
   "metadata": {
    "execution": {
     "iopub.execute_input": "2023-10-22T16:13:28.173084Z",
     "iopub.status.busy": "2023-10-22T16:13:28.172698Z",
     "iopub.status.idle": "2023-10-22T16:13:28.179007Z",
     "shell.execute_reply": "2023-10-22T16:13:28.178074Z"
    },
    "papermill": {
     "duration": 0.01875,
     "end_time": "2023-10-22T16:13:28.181311",
     "exception": false,
     "start_time": "2023-10-22T16:13:28.162561",
     "status": "completed"
    },
    "tags": []
   },
   "outputs": [],
   "source": [
    "df[\"y_pred\"]  = classifier.predict(X.reshape(-1, 1))"
   ]
  },
  {
   "cell_type": "markdown",
   "id": "17d54659",
   "metadata": {
    "papermill": {
     "duration": 0.008448,
     "end_time": "2023-10-22T16:13:28.198618",
     "exception": false,
     "start_time": "2023-10-22T16:13:28.190170",
     "status": "completed"
    },
    "tags": []
   },
   "source": [
    "mirar a un trozo del dataframe"
   ]
  },
  {
   "cell_type": "code",
   "execution_count": 7,
   "id": "254c1cc9",
   "metadata": {
    "execution": {
     "iopub.execute_input": "2023-10-22T16:13:28.217645Z",
     "iopub.status.busy": "2023-10-22T16:13:28.217260Z",
     "iopub.status.idle": "2023-10-22T16:13:28.244747Z",
     "shell.execute_reply": "2023-10-22T16:13:28.243709Z"
    },
    "papermill": {
     "duration": 0.03943,
     "end_time": "2023-10-22T16:13:28.246804",
     "exception": false,
     "start_time": "2023-10-22T16:13:28.207374",
     "status": "completed"
    },
    "tags": []
   },
   "outputs": [
    {
     "data": {
      "text/html": [
       "<div>\n",
       "<style scoped>\n",
       "    .dataframe tbody tr th:only-of-type {\n",
       "        vertical-align: middle;\n",
       "    }\n",
       "\n",
       "    .dataframe tbody tr th {\n",
       "        vertical-align: top;\n",
       "    }\n",
       "\n",
       "    .dataframe thead th {\n",
       "        text-align: right;\n",
       "    }\n",
       "</style>\n",
       "<table border=\"1\" class=\"dataframe\">\n",
       "  <thead>\n",
       "    <tr style=\"text-align: right;\">\n",
       "      <th></th>\n",
       "      <th>X</th>\n",
       "      <th>y_true</th>\n",
       "      <th>probability</th>\n",
       "      <th>logistic</th>\n",
       "      <th>y_pred</th>\n",
       "    </tr>\n",
       "  </thead>\n",
       "  <tbody>\n",
       "    <tr>\n",
       "      <th>145</th>\n",
       "      <td>145</td>\n",
       "      <td>0</td>\n",
       "      <td>0.278883</td>\n",
       "      <td>[0.2788829141738906]</td>\n",
       "      <td>0</td>\n",
       "    </tr>\n",
       "    <tr>\n",
       "      <th>146</th>\n",
       "      <td>146</td>\n",
       "      <td>1</td>\n",
       "      <td>0.292211</td>\n",
       "      <td>[0.2922108743750522]</td>\n",
       "      <td>0</td>\n",
       "    </tr>\n",
       "    <tr>\n",
       "      <th>147</th>\n",
       "      <td>147</td>\n",
       "      <td>0</td>\n",
       "      <td>0.305906</td>\n",
       "      <td>[0.30590558367609627]</td>\n",
       "      <td>0</td>\n",
       "    </tr>\n",
       "    <tr>\n",
       "      <th>148</th>\n",
       "      <td>148</td>\n",
       "      <td>1</td>\n",
       "      <td>0.319952</td>\n",
       "      <td>[0.31995197873353726]</td>\n",
       "      <td>0</td>\n",
       "    </tr>\n",
       "    <tr>\n",
       "      <th>149</th>\n",
       "      <td>149</td>\n",
       "      <td>0</td>\n",
       "      <td>0.334333</td>\n",
       "      <td>[0.3343326756399983]</td>\n",
       "      <td>0</td>\n",
       "    </tr>\n",
       "    <tr>\n",
       "      <th>150</th>\n",
       "      <td>150</td>\n",
       "      <td>1</td>\n",
       "      <td>0.349028</td>\n",
       "      <td>[0.349027995028671]</td>\n",
       "      <td>0</td>\n",
       "    </tr>\n",
       "    <tr>\n",
       "      <th>151</th>\n",
       "      <td>151</td>\n",
       "      <td>0</td>\n",
       "      <td>0.364016</td>\n",
       "      <td>[0.3640160174398228]</td>\n",
       "      <td>0</td>\n",
       "    </tr>\n",
       "    <tr>\n",
       "      <th>152</th>\n",
       "      <td>152</td>\n",
       "      <td>1</td>\n",
       "      <td>0.379273</td>\n",
       "      <td>[0.3792726699477135]</td>\n",
       "      <td>0</td>\n",
       "    </tr>\n",
       "    <tr>\n",
       "      <th>153</th>\n",
       "      <td>153</td>\n",
       "      <td>0</td>\n",
       "      <td>0.394772</td>\n",
       "      <td>[0.3947718443745368]</td>\n",
       "      <td>0</td>\n",
       "    </tr>\n",
       "    <tr>\n",
       "      <th>154</th>\n",
       "      <td>154</td>\n",
       "      <td>1</td>\n",
       "      <td>0.410486</td>\n",
       "      <td>[0.41048554668435566]</td>\n",
       "      <td>0</td>\n",
       "    </tr>\n",
       "    <tr>\n",
       "      <th>155</th>\n",
       "      <td>155</td>\n",
       "      <td>0</td>\n",
       "      <td>0.426384</td>\n",
       "      <td>[0.4263840763777349]</td>\n",
       "      <td>0</td>\n",
       "    </tr>\n",
       "    <tr>\n",
       "      <th>156</th>\n",
       "      <td>156</td>\n",
       "      <td>1</td>\n",
       "      <td>0.442436</td>\n",
       "      <td>[0.44243623392394305]</td>\n",
       "      <td>0</td>\n",
       "    </tr>\n",
       "    <tr>\n",
       "      <th>157</th>\n",
       "      <td>157</td>\n",
       "      <td>0</td>\n",
       "      <td>0.458610</td>\n",
       "      <td>[0.4586095535018552]</td>\n",
       "      <td>0</td>\n",
       "    </tr>\n",
       "    <tr>\n",
       "      <th>158</th>\n",
       "      <td>158</td>\n",
       "      <td>0</td>\n",
       "      <td>0.474871</td>\n",
       "      <td>[0.47487055760386054]</td>\n",
       "      <td>0</td>\n",
       "    </tr>\n",
       "    <tr>\n",
       "      <th>159</th>\n",
       "      <td>159</td>\n",
       "      <td>0</td>\n",
       "      <td>0.491185</td>\n",
       "      <td>[0.49118502941942216]</td>\n",
       "      <td>0</td>\n",
       "    </tr>\n",
       "    <tr>\n",
       "      <th>160</th>\n",
       "      <td>160</td>\n",
       "      <td>0</td>\n",
       "      <td>0.507518</td>\n",
       "      <td>[0.507518298384336]</td>\n",
       "      <td>1</td>\n",
       "    </tr>\n",
       "    <tr>\n",
       "      <th>161</th>\n",
       "      <td>161</td>\n",
       "      <td>1</td>\n",
       "      <td>0.523836</td>\n",
       "      <td>[0.5238355338821512]</td>\n",
       "      <td>1</td>\n",
       "    </tr>\n",
       "    <tr>\n",
       "      <th>162</th>\n",
       "      <td>162</td>\n",
       "      <td>1</td>\n",
       "      <td>0.540102</td>\n",
       "      <td>[0.5401020418340117]</td>\n",
       "      <td>1</td>\n",
       "    </tr>\n",
       "    <tr>\n",
       "      <th>163</th>\n",
       "      <td>163</td>\n",
       "      <td>1</td>\n",
       "      <td>0.556284</td>\n",
       "      <td>[0.5562835588240215]</td>\n",
       "      <td>1</td>\n",
       "    </tr>\n",
       "    <tr>\n",
       "      <th>164</th>\n",
       "      <td>164</td>\n",
       "      <td>1</td>\n",
       "      <td>0.572347</td>\n",
       "      <td>[0.572346538483314]</td>\n",
       "      <td>1</td>\n",
       "    </tr>\n",
       "    <tr>\n",
       "      <th>165</th>\n",
       "      <td>165</td>\n",
       "      <td>0</td>\n",
       "      <td>0.588258</td>\n",
       "      <td>[0.5882584250937727]</td>\n",
       "      <td>1</td>\n",
       "    </tr>\n",
       "    <tr>\n",
       "      <th>166</th>\n",
       "      <td>166</td>\n",
       "      <td>0</td>\n",
       "      <td>0.603988</td>\n",
       "      <td>[0.6039879097606551]</td>\n",
       "      <td>1</td>\n",
       "    </tr>\n",
       "    <tr>\n",
       "      <th>167</th>\n",
       "      <td>167</td>\n",
       "      <td>0</td>\n",
       "      <td>0.619505</td>\n",
       "      <td>[0.6195051650243663]</td>\n",
       "      <td>1</td>\n",
       "    </tr>\n",
       "    <tr>\n",
       "      <th>168</th>\n",
       "      <td>168</td>\n",
       "      <td>0</td>\n",
       "      <td>0.634782</td>\n",
       "      <td>[0.6347820544117861]</td>\n",
       "      <td>1</td>\n",
       "    </tr>\n",
       "    <tr>\n",
       "      <th>169</th>\n",
       "      <td>169</td>\n",
       "      <td>1</td>\n",
       "      <td>0.649792</td>\n",
       "      <td>[0.6497923141391725]</td>\n",
       "      <td>1</td>\n",
       "    </tr>\n",
       "    <tr>\n",
       "      <th>170</th>\n",
       "      <td>170</td>\n",
       "      <td>1</td>\n",
       "      <td>0.664512</td>\n",
       "      <td>[0.6645117049416324]</td>\n",
       "      <td>1</td>\n",
       "    </tr>\n",
       "    <tr>\n",
       "      <th>171</th>\n",
       "      <td>171</td>\n",
       "      <td>0</td>\n",
       "      <td>0.678918</td>\n",
       "      <td>[0.6789181327876868]</td>\n",
       "      <td>1</td>\n",
       "    </tr>\n",
       "    <tr>\n",
       "      <th>172</th>\n",
       "      <td>172</td>\n",
       "      <td>1</td>\n",
       "      <td>0.692992</td>\n",
       "      <td>[0.692991738011652]</td>\n",
       "      <td>1</td>\n",
       "    </tr>\n",
       "    <tr>\n",
       "      <th>173</th>\n",
       "      <td>173</td>\n",
       "      <td>1</td>\n",
       "      <td>0.706715</td>\n",
       "      <td>[0.7067149531341759]</td>\n",
       "      <td>1</td>\n",
       "    </tr>\n",
       "    <tr>\n",
       "      <th>174</th>\n",
       "      <td>174</td>\n",
       "      <td>1</td>\n",
       "      <td>0.720073</td>\n",
       "      <td>[0.7200725303186885]</td>\n",
       "      <td>1</td>\n",
       "    </tr>\n",
       "    <tr>\n",
       "      <th>175</th>\n",
       "      <td>175</td>\n",
       "      <td>0</td>\n",
       "      <td>0.733052</td>\n",
       "      <td>[0.7330515400097728]</td>\n",
       "      <td>1</td>\n",
       "    </tr>\n",
       "  </tbody>\n",
       "</table>\n",
       "</div>"
      ],
      "text/plain": [
       "       X  y_true  probability               logistic  y_pred\n",
       "145  145       0     0.278883   [0.2788829141738906]       0\n",
       "146  146       1     0.292211   [0.2922108743750522]       0\n",
       "147  147       0     0.305906  [0.30590558367609627]       0\n",
       "148  148       1     0.319952  [0.31995197873353726]       0\n",
       "149  149       0     0.334333   [0.3343326756399983]       0\n",
       "150  150       1     0.349028    [0.349027995028671]       0\n",
       "151  151       0     0.364016   [0.3640160174398228]       0\n",
       "152  152       1     0.379273   [0.3792726699477135]       0\n",
       "153  153       0     0.394772   [0.3947718443745368]       0\n",
       "154  154       1     0.410486  [0.41048554668435566]       0\n",
       "155  155       0     0.426384   [0.4263840763777349]       0\n",
       "156  156       1     0.442436  [0.44243623392394305]       0\n",
       "157  157       0     0.458610   [0.4586095535018552]       0\n",
       "158  158       0     0.474871  [0.47487055760386054]       0\n",
       "159  159       0     0.491185  [0.49118502941942216]       0\n",
       "160  160       0     0.507518    [0.507518298384336]       1\n",
       "161  161       1     0.523836   [0.5238355338821512]       1\n",
       "162  162       1     0.540102   [0.5401020418340117]       1\n",
       "163  163       1     0.556284   [0.5562835588240215]       1\n",
       "164  164       1     0.572347    [0.572346538483314]       1\n",
       "165  165       0     0.588258   [0.5882584250937727]       1\n",
       "166  166       0     0.603988   [0.6039879097606551]       1\n",
       "167  167       0     0.619505   [0.6195051650243663]       1\n",
       "168  168       0     0.634782   [0.6347820544117861]       1\n",
       "169  169       1     0.649792   [0.6497923141391725]       1\n",
       "170  170       1     0.664512   [0.6645117049416324]       1\n",
       "171  171       0     0.678918   [0.6789181327876868]       1\n",
       "172  172       1     0.692992    [0.692991738011652]       1\n",
       "173  173       1     0.706715   [0.7067149531341759]       1\n",
       "174  174       1     0.720073   [0.7200725303186885]       1\n",
       "175  175       0     0.733052   [0.7330515400097728]       1"
      ]
     },
     "execution_count": 7,
     "metadata": {},
     "output_type": "execute_result"
    }
   ],
   "source": [
    "df.loc[145:175]"
   ]
  },
  {
   "cell_type": "markdown",
   "id": "e6f2585d",
   "metadata": {
    "papermill": {
     "duration": 0.009041,
     "end_time": "2023-10-22T16:13:28.265219",
     "exception": false,
     "start_time": "2023-10-22T16:13:28.256178",
     "status": "completed"
    },
    "tags": []
   },
   "source": [
    "### Métricas\n",
    "[`sklearn.metrics.accuracy_score`](https://scikit-learn.org/stable/modules/generated/sklearn.metrics.accuracy_score.html)"
   ]
  },
  {
   "cell_type": "code",
   "execution_count": 8,
   "id": "7ce58cb1",
   "metadata": {
    "execution": {
     "iopub.execute_input": "2023-10-22T16:13:28.285604Z",
     "iopub.status.busy": "2023-10-22T16:13:28.284847Z",
     "iopub.status.idle": "2023-10-22T16:13:28.292793Z",
     "shell.execute_reply": "2023-10-22T16:13:28.291804Z"
    },
    "papermill": {
     "duration": 0.020491,
     "end_time": "2023-10-22T16:13:28.294968",
     "exception": false,
     "start_time": "2023-10-22T16:13:28.274477",
     "status": "completed"
    },
    "tags": []
   },
   "outputs": [
    {
     "data": {
      "text/plain": [
       "0.9203187250996016"
      ]
     },
     "execution_count": 8,
     "metadata": {},
     "output_type": "execute_result"
    }
   ],
   "source": [
    "from sklearn.metrics import accuracy_score\n",
    "accuracy_score(df[\"y_true\"], df[\"y_pred\"])"
   ]
  },
  {
   "cell_type": "markdown",
   "id": "5388aaf9",
   "metadata": {
    "papermill": {
     "duration": 0.009272,
     "end_time": "2023-10-22T16:13:28.313866",
     "exception": false,
     "start_time": "2023-10-22T16:13:28.304594",
     "status": "completed"
    },
    "tags": []
   },
   "source": [
    "[`sklearn.metrics.balanced_accuracy_score`](https://scikit-learn.org/stable/modules/generated/sklearn.metrics.balanced_accuracy_score.html)"
   ]
  },
  {
   "cell_type": "code",
   "execution_count": 9,
   "id": "09e26817",
   "metadata": {
    "execution": {
     "iopub.execute_input": "2023-10-22T16:13:28.334159Z",
     "iopub.status.busy": "2023-10-22T16:13:28.333777Z",
     "iopub.status.idle": "2023-10-22T16:13:28.343805Z",
     "shell.execute_reply": "2023-10-22T16:13:28.342828Z"
    },
    "papermill": {
     "duration": 0.022858,
     "end_time": "2023-10-22T16:13:28.345971",
     "exception": false,
     "start_time": "2023-10-22T16:13:28.323113",
     "status": "completed"
    },
    "tags": []
   },
   "outputs": [
    {
     "data": {
      "text/plain": [
       "0.913804945054945"
      ]
     },
     "execution_count": 9,
     "metadata": {},
     "output_type": "execute_result"
    }
   ],
   "source": [
    "from sklearn.metrics import balanced_accuracy_score\n",
    "balanced_accuracy_score(df[\"y_true\"], df[\"y_pred\"])"
   ]
  },
  {
   "cell_type": "markdown",
   "id": "88e957a5",
   "metadata": {
    "papermill": {
     "duration": 0.009212,
     "end_time": "2023-10-22T16:13:28.364834",
     "exception": false,
     "start_time": "2023-10-22T16:13:28.355622",
     "status": "completed"
    },
    "tags": []
   },
   "source": [
    "## Árboles de decisión (Decision tree)\n",
    "[`sklearn.tree.DecisionTreeClassifier`](https://scikit-learn.org/stable/modules/generated/sklearn.tree.DecisionTreeClassifier.html)"
   ]
  },
  {
   "cell_type": "code",
   "execution_count": 10,
   "id": "e23f5e19",
   "metadata": {
    "execution": {
     "iopub.execute_input": "2023-10-22T16:13:28.385775Z",
     "iopub.status.busy": "2023-10-22T16:13:28.385326Z",
     "iopub.status.idle": "2023-10-22T16:13:28.458281Z",
     "shell.execute_reply": "2023-10-22T16:13:28.457469Z"
    },
    "papermill": {
     "duration": 0.086398,
     "end_time": "2023-10-22T16:13:28.460789",
     "exception": false,
     "start_time": "2023-10-22T16:13:28.374391",
     "status": "completed"
    },
    "tags": []
   },
   "outputs": [],
   "source": [
    "from sklearn.tree import DecisionTreeClassifier\n",
    "classifier = DecisionTreeClassifier(max_depth=1)"
   ]
  },
  {
   "cell_type": "markdown",
   "id": "2fa53407",
   "metadata": {
    "papermill": {
     "duration": 0.009292,
     "end_time": "2023-10-22T16:13:28.480175",
     "exception": false,
     "start_time": "2023-10-22T16:13:28.470883",
     "status": "completed"
    },
    "tags": []
   },
   "source": [
    "### Ejemplo sencillo"
   ]
  },
  {
   "cell_type": "code",
   "execution_count": 11,
   "id": "c7d89241",
   "metadata": {
    "execution": {
     "iopub.execute_input": "2023-10-22T16:13:28.500606Z",
     "iopub.status.busy": "2023-10-22T16:13:28.500208Z",
     "iopub.status.idle": "2023-10-22T16:13:29.514705Z",
     "shell.execute_reply": "2023-10-22T16:13:29.513588Z"
    },
    "papermill": {
     "duration": 1.027316,
     "end_time": "2023-10-22T16:13:29.516850",
     "exception": false,
     "start_time": "2023-10-22T16:13:28.489534",
     "status": "completed"
    },
    "tags": []
   },
   "outputs": [
    {
     "data": {
      "image/svg+xml": [
       "<?xml version=\"1.0\" encoding=\"UTF-8\" standalone=\"no\"?>\n",
       "<!DOCTYPE svg PUBLIC \"-//W3C//DTD SVG 1.1//EN\"\n",
       " \"http://www.w3.org/Graphics/SVG/1.1/DTD/svg11.dtd\">\n",
       "<!-- Generated by graphviz version 5.0.0 (20220707.2338)\n",
       " -->\n",
       "<!-- Title: Tree Pages: 1 -->\n",
       "<svg width=\"252pt\" height=\"195pt\"\n",
       " viewBox=\"0.00 0.00 252.00 195.00\" xmlns=\"http://www.w3.org/2000/svg\" xmlns:xlink=\"http://www.w3.org/1999/xlink\">\n",
       "<g id=\"graph0\" class=\"graph\" transform=\"scale(1 1) rotate(0) translate(4 191)\">\n",
       "<title>Tree</title>\n",
       "<polygon fill=\"white\" stroke=\"transparent\" points=\"-4,4 -4,-191 248,-191 248,4 -4,4\"/>\n",
       "<!-- 0 -->\n",
       "<g id=\"node1\" class=\"node\">\n",
       "<title>0</title>\n",
       "<path fill=\"#ffffff\" stroke=\"black\" d=\"M166,-187C166,-187 77,-187 77,-187 71,-187 65,-181 65,-175 65,-175 65,-116 65,-116 65,-110 71,-104 77,-104 77,-104 166,-104 166,-104 172,-104 178,-110 178,-116 178,-116 178,-175 178,-175 178,-181 172,-187 166,-187\"/>\n",
       "<text text-anchor=\"middle\" x=\"121.5\" y=\"-171.8\" font-family=\"Helvetica,sans-Serif\" font-size=\"14.00\">X[0] &lt;= 3.0</text>\n",
       "<text text-anchor=\"middle\" x=\"121.5\" y=\"-156.8\" font-family=\"Helvetica,sans-Serif\" font-size=\"14.00\">gini = 0.5</text>\n",
       "<text text-anchor=\"middle\" x=\"121.5\" y=\"-141.8\" font-family=\"Helvetica,sans-Serif\" font-size=\"14.00\">samples = 4</text>\n",
       "<text text-anchor=\"middle\" x=\"121.5\" y=\"-126.8\" font-family=\"Helvetica,sans-Serif\" font-size=\"14.00\">value = [2, 2]</text>\n",
       "<text text-anchor=\"middle\" x=\"121.5\" y=\"-111.8\" font-family=\"Helvetica,sans-Serif\" font-size=\"14.00\">class = 0</text>\n",
       "</g>\n",
       "<!-- 1 -->\n",
       "<g id=\"node2\" class=\"node\">\n",
       "<title>1</title>\n",
       "<path fill=\"#e58139\" stroke=\"black\" d=\"M101,-68C101,-68 12,-68 12,-68 6,-68 0,-62 0,-56 0,-56 0,-12 0,-12 0,-6 6,0 12,0 12,0 101,0 101,0 107,0 113,-6 113,-12 113,-12 113,-56 113,-56 113,-62 107,-68 101,-68\"/>\n",
       "<text text-anchor=\"middle\" x=\"56.5\" y=\"-52.8\" font-family=\"Helvetica,sans-Serif\" font-size=\"14.00\">gini = 0.0</text>\n",
       "<text text-anchor=\"middle\" x=\"56.5\" y=\"-37.8\" font-family=\"Helvetica,sans-Serif\" font-size=\"14.00\">samples = 2</text>\n",
       "<text text-anchor=\"middle\" x=\"56.5\" y=\"-22.8\" font-family=\"Helvetica,sans-Serif\" font-size=\"14.00\">value = [2, 0]</text>\n",
       "<text text-anchor=\"middle\" x=\"56.5\" y=\"-7.8\" font-family=\"Helvetica,sans-Serif\" font-size=\"14.00\">class = 0</text>\n",
       "</g>\n",
       "<!-- 0&#45;&gt;1 -->\n",
       "<g id=\"edge1\" class=\"edge\">\n",
       "<title>0&#45;&gt;1</title>\n",
       "<path fill=\"none\" stroke=\"black\" d=\"M97.3,-103.73C92.1,-94.97 86.6,-85.7 81.38,-76.91\"/>\n",
       "<polygon fill=\"black\" stroke=\"black\" points=\"84.38,-75.11 76.27,-68.3 78.36,-78.69 84.38,-75.11\"/>\n",
       "<text text-anchor=\"middle\" x=\"70.09\" y=\"-88.82\" font-family=\"Helvetica,sans-Serif\" font-size=\"14.00\">True</text>\n",
       "</g>\n",
       "<!-- 2 -->\n",
       "<g id=\"node3\" class=\"node\">\n",
       "<title>2</title>\n",
       "<path fill=\"#399de5\" stroke=\"black\" d=\"M232,-68C232,-68 143,-68 143,-68 137,-68 131,-62 131,-56 131,-56 131,-12 131,-12 131,-6 137,0 143,0 143,0 232,0 232,0 238,0 244,-6 244,-12 244,-12 244,-56 244,-56 244,-62 238,-68 232,-68\"/>\n",
       "<text text-anchor=\"middle\" x=\"187.5\" y=\"-52.8\" font-family=\"Helvetica,sans-Serif\" font-size=\"14.00\">gini = 0.0</text>\n",
       "<text text-anchor=\"middle\" x=\"187.5\" y=\"-37.8\" font-family=\"Helvetica,sans-Serif\" font-size=\"14.00\">samples = 2</text>\n",
       "<text text-anchor=\"middle\" x=\"187.5\" y=\"-22.8\" font-family=\"Helvetica,sans-Serif\" font-size=\"14.00\">value = [0, 2]</text>\n",
       "<text text-anchor=\"middle\" x=\"187.5\" y=\"-7.8\" font-family=\"Helvetica,sans-Serif\" font-size=\"14.00\">class = 1</text>\n",
       "</g>\n",
       "<!-- 0&#45;&gt;2 -->\n",
       "<g id=\"edge2\" class=\"edge\">\n",
       "<title>0&#45;&gt;2</title>\n",
       "<path fill=\"none\" stroke=\"black\" d=\"M146.08,-103.73C151.35,-94.97 156.94,-85.7 162.24,-76.91\"/>\n",
       "<polygon fill=\"black\" stroke=\"black\" points=\"165.26,-78.67 167.43,-68.3 159.27,-75.06 165.26,-78.67\"/>\n",
       "<text text-anchor=\"middle\" x=\"173.44\" y=\"-88.87\" font-family=\"Helvetica,sans-Serif\" font-size=\"14.00\">False</text>\n",
       "</g>\n",
       "</g>\n",
       "</svg>\n"
      ],
      "text/plain": [
       "<graphviz.files.Source at 0x7f84a4cd9850>"
      ]
     },
     "execution_count": 11,
     "metadata": {},
     "output_type": "execute_result"
    }
   ],
   "source": [
    "coordinadas = {\n",
    "    'x' : [1, 2, 4, 5],\n",
    "    'y' : [0, 0, 1, 1],\n",
    "}\n",
    "  \n",
    "# crear Dataframe \n",
    "small_df = pd.DataFrame(coordinadas)\n",
    "\n",
    "classifier.fit(small_df[\"x\"].values.reshape(-1, 1), small_df[\"y\"])\n",
    "\n",
    "from sklearn.tree import export_graphviz\n",
    "import graphviz\n",
    "\n",
    "dot_data = export_graphviz(classifier, filled=True, rounded=True, proportion=False, class_names=['0', '1'])\n",
    "graphviz.Source(dot_data)"
   ]
  },
  {
   "cell_type": "code",
   "execution_count": 12,
   "id": "ff35712b",
   "metadata": {
    "_kg_hide-input": true,
    "execution": {
     "iopub.execute_input": "2023-10-22T16:13:29.539036Z",
     "iopub.status.busy": "2023-10-22T16:13:29.538364Z",
     "iopub.status.idle": "2023-10-22T16:13:29.801143Z",
     "shell.execute_reply": "2023-10-22T16:13:29.799957Z"
    },
    "papermill": {
     "duration": 0.276685,
     "end_time": "2023-10-22T16:13:29.803600",
     "exception": false,
     "start_time": "2023-10-22T16:13:29.526915",
     "status": "completed"
    },
    "tags": []
   },
   "outputs": [
    {
     "data": {
      "image/png": "[encoded data removed]",
      "text/plain": [
       "<Figure size 1080x576 with 1 Axes>"
      ]
     },
     "metadata": {
      "needs_background": "light"
     },
     "output_type": "display_data"
    }
   ],
   "source": [
    "fig = plt.figure(figsize=(15, 8))\n",
    "fig = plt.scatter(small_df[\"x\"], small_df[\"y\"], s=400, lw=4, label=\"Datos\", marker=\"x\")\n",
    "\n",
    "x = np.linspace(1, 5, 51)\n",
    "y_pred = classifier.predict(x.reshape(-1, 1))\n",
    "fig = plt.plot(x, y_pred, lw=3, color=\"red\", label=\"Árbol de decisión\")\n",
    "\n",
    "plt.legend([\"Datos\", \"Árbol de decisión (max_depth=1)\"], loc =\"upper left\", fontsize=18);"
   ]
  },
  {
   "cell_type": "code",
   "execution_count": 13,
   "id": "fcccc3c3",
   "metadata": {
    "execution": {
     "iopub.execute_input": "2023-10-22T16:13:29.826508Z",
     "iopub.status.busy": "2023-10-22T16:13:29.826126Z",
     "iopub.status.idle": "2023-10-22T16:13:29.830885Z",
     "shell.execute_reply": "2023-10-22T16:13:29.829817Z"
    },
    "papermill": {
     "duration": 0.019042,
     "end_time": "2023-10-22T16:13:29.833001",
     "exception": false,
     "start_time": "2023-10-22T16:13:29.813959",
     "status": "completed"
    },
    "tags": []
   },
   "outputs": [],
   "source": [
    "max_depth = 3"
   ]
  },
  {
   "cell_type": "code",
   "execution_count": 14,
   "id": "58b67087",
   "metadata": {
    "execution": {
     "iopub.execute_input": "2023-10-22T16:13:29.855124Z",
     "iopub.status.busy": "2023-10-22T16:13:29.854439Z",
     "iopub.status.idle": "2023-10-22T16:13:29.862638Z",
     "shell.execute_reply": "2023-10-22T16:13:29.861860Z"
    },
    "papermill": {
     "duration": 0.021474,
     "end_time": "2023-10-22T16:13:29.864626",
     "exception": false,
     "start_time": "2023-10-22T16:13:29.843152",
     "status": "completed"
    },
    "tags": []
   },
   "outputs": [],
   "source": [
    "from sklearn.tree import DecisionTreeClassifier\n",
    "classifier = DecisionTreeClassifier(max_depth=max_depth,random_state=0)\n",
    "classifier.fit(X.reshape(-1, 1), y)\n",
    "\n",
    "df[\"probability\"]  = classifier.predict_proba(X.reshape(-1, 1))[:,1]\n",
    "df[\"y_pred\"]       = classifier.predict(X.reshape(-1, 1))"
   ]
  },
  {
   "cell_type": "code",
   "execution_count": 15,
   "id": "6970ad3d",
   "metadata": {
    "_kg_hide-input": true,
    "execution": {
     "iopub.execute_input": "2023-10-22T16:13:29.886886Z",
     "iopub.status.busy": "2023-10-22T16:13:29.885853Z",
     "iopub.status.idle": "2023-10-22T16:13:30.102165Z",
     "shell.execute_reply": "2023-10-22T16:13:30.101082Z"
    },
    "papermill": {
     "duration": 0.229566,
     "end_time": "2023-10-22T16:13:30.104362",
     "exception": false,
     "start_time": "2023-10-22T16:13:29.874796",
     "status": "completed"
    },
    "tags": []
   },
   "outputs": [
    {
     "data": {
      "image/png": "[encoded data removed]",
      "text/plain": [
       "<Figure size 864x432 with 1 Axes>"
      ]
     },
     "metadata": {
      "needs_background": "light"
     },
     "output_type": "display_data"
    }
   ],
   "source": [
    "fig, ax = plt.subplots(figsize=(12, 6))\n",
    "plt.scatter(df.X, df.y_true, color=\"blue\", s=80)\n",
    "plt.scatter(df.X, df.probability, color=\"red\",s=20)\n",
    "ax.set_ylabel (\"p\", fontsize=18);"
   ]
  },
  {
   "cell_type": "code",
   "execution_count": 16,
   "id": "7bb87b2f",
   "metadata": {
    "_kg_hide-input": true,
    "execution": {
     "iopub.execute_input": "2023-10-22T16:13:30.127610Z",
     "iopub.status.busy": "2023-10-22T16:13:30.126508Z",
     "iopub.status.idle": "2023-10-22T16:13:30.168078Z",
     "shell.execute_reply": "2023-10-22T16:13:30.166756Z"
    },
    "papermill": {
     "duration": 0.055646,
     "end_time": "2023-10-22T16:13:30.170601",
     "exception": false,
     "start_time": "2023-10-22T16:13:30.114955",
     "status": "completed"
    },
    "tags": []
   },
   "outputs": [
    {
     "data": {
      "image/svg+xml": [
       "<?xml version=\"1.0\" encoding=\"UTF-8\" standalone=\"no\"?>\n",
       "<!DOCTYPE svg PUBLIC \"-//W3C//DTD SVG 1.1//EN\"\n",
       " \"http://www.w3.org/Graphics/SVG/1.1/DTD/svg11.dtd\">\n",
       "<!-- Generated by graphviz version 5.0.0 (20220707.2338)\n",
       " -->\n",
       "<!-- Title: Tree Pages: 1 -->\n",
       "<svg width=\"1094pt\" height=\"433pt\"\n",
       " viewBox=\"0.00 0.00 1093.50 433.00\" xmlns=\"http://www.w3.org/2000/svg\" xmlns:xlink=\"http://www.w3.org/1999/xlink\">\n",
       "<g id=\"graph0\" class=\"graph\" transform=\"scale(1 1) rotate(0) translate(4 429)\">\n",
       "<title>Tree</title>\n",
       "<polygon fill=\"white\" stroke=\"transparent\" points=\"-4,4 -4,-429 1089.5,-429 1089.5,4 -4,4\"/>\n",
       "<!-- 0 -->\n",
       "<g id=\"node1\" class=\"node\">\n",
       "<title>0</title>\n",
       "<path fill=\"#f4c9aa\" stroke=\"black\" d=\"M591.5,-425C591.5,-425 475.5,-425 475.5,-425 469.5,-425 463.5,-419 463.5,-413 463.5,-413 463.5,-354 463.5,-354 463.5,-348 469.5,-342 475.5,-342 475.5,-342 591.5,-342 591.5,-342 597.5,-342 603.5,-348 603.5,-354 603.5,-354 603.5,-413 603.5,-413 603.5,-419 597.5,-425 591.5,-425\"/>\n",
       "<text text-anchor=\"middle\" x=\"533.5\" y=\"-409.8\" font-family=\"Helvetica,sans-Serif\" font-size=\"14.00\">X[0] &lt;= 160.5</text>\n",
       "<text text-anchor=\"middle\" x=\"533.5\" y=\"-394.8\" font-family=\"Helvetica,sans-Serif\" font-size=\"14.00\">gini = 0.462</text>\n",
       "<text text-anchor=\"middle\" x=\"533.5\" y=\"-379.8\" font-family=\"Helvetica,sans-Serif\" font-size=\"14.00\">samples = 251</text>\n",
       "<text text-anchor=\"middle\" x=\"533.5\" y=\"-364.8\" font-family=\"Helvetica,sans-Serif\" font-size=\"14.00\">value = [160, 91]</text>\n",
       "<text text-anchor=\"middle\" x=\"533.5\" y=\"-349.8\" font-family=\"Helvetica,sans-Serif\" font-size=\"14.00\">class = 0</text>\n",
       "</g>\n",
       "<!-- 1 -->\n",
       "<g id=\"node2\" class=\"node\">\n",
       "<title>1</title>\n",
       "<path fill=\"#e78946\" stroke=\"black\" d=\"M465.5,-306C465.5,-306 349.5,-306 349.5,-306 343.5,-306 337.5,-300 337.5,-294 337.5,-294 337.5,-235 337.5,-235 337.5,-229 343.5,-223 349.5,-223 349.5,-223 465.5,-223 465.5,-223 471.5,-223 477.5,-229 477.5,-235 477.5,-235 477.5,-294 477.5,-294 477.5,-300 471.5,-306 465.5,-306\"/>\n",
       "<text text-anchor=\"middle\" x=\"407.5\" y=\"-290.8\" font-family=\"Helvetica,sans-Serif\" font-size=\"14.00\">X[0] &lt;= 142.5</text>\n",
       "<text text-anchor=\"middle\" x=\"407.5\" y=\"-275.8\" font-family=\"Helvetica,sans-Serif\" font-size=\"14.00\">gini = 0.117</text>\n",
       "<text text-anchor=\"middle\" x=\"407.5\" y=\"-260.8\" font-family=\"Helvetica,sans-Serif\" font-size=\"14.00\">samples = 161</text>\n",
       "<text text-anchor=\"middle\" x=\"407.5\" y=\"-245.8\" font-family=\"Helvetica,sans-Serif\" font-size=\"14.00\">value = [151, 10]</text>\n",
       "<text text-anchor=\"middle\" x=\"407.5\" y=\"-230.8\" font-family=\"Helvetica,sans-Serif\" font-size=\"14.00\">class = 0</text>\n",
       "</g>\n",
       "<!-- 0&#45;&gt;1 -->\n",
       "<g id=\"edge1\" class=\"edge\">\n",
       "<title>0&#45;&gt;1</title>\n",
       "<path fill=\"none\" stroke=\"black\" d=\"M489.78,-341.91C479.72,-332.56 468.93,-322.54 458.58,-312.93\"/>\n",
       "<polygon fill=\"black\" stroke=\"black\" points=\"460.85,-310.26 451.14,-306.02 456.08,-315.39 460.85,-310.26\"/>\n",
       "<text text-anchor=\"middle\" x=\"452.06\" y=\"-327.3\" font-family=\"Helvetica,sans-Serif\" font-size=\"14.00\">True</text>\n",
       "</g>\n",
       "<!-- 8 -->\n",
       "<g id=\"node9\" class=\"node\">\n",
       "<title>8</title>\n",
       "<path fill=\"#4fa8e8\" stroke=\"black\" d=\"M725.5,-306C725.5,-306 627.5,-306 627.5,-306 621.5,-306 615.5,-300 615.5,-294 615.5,-294 615.5,-235 615.5,-235 615.5,-229 621.5,-223 627.5,-223 627.5,-223 725.5,-223 725.5,-223 731.5,-223 737.5,-229 737.5,-235 737.5,-235 737.5,-294 737.5,-294 737.5,-300 731.5,-306 725.5,-306\"/>\n",
       "<text text-anchor=\"middle\" x=\"676.5\" y=\"-290.8\" font-family=\"Helvetica,sans-Serif\" font-size=\"14.00\">X[0] &lt;= 185.5</text>\n",
       "<text text-anchor=\"middle\" x=\"676.5\" y=\"-275.8\" font-family=\"Helvetica,sans-Serif\" font-size=\"14.00\">gini = 0.18</text>\n",
       "<text text-anchor=\"middle\" x=\"676.5\" y=\"-260.8\" font-family=\"Helvetica,sans-Serif\" font-size=\"14.00\">samples = 90</text>\n",
       "<text text-anchor=\"middle\" x=\"676.5\" y=\"-245.8\" font-family=\"Helvetica,sans-Serif\" font-size=\"14.00\">value = [9, 81]</text>\n",
       "<text text-anchor=\"middle\" x=\"676.5\" y=\"-230.8\" font-family=\"Helvetica,sans-Serif\" font-size=\"14.00\">class = 1</text>\n",
       "</g>\n",
       "<!-- 0&#45;&gt;8 -->\n",
       "<g id=\"edge8\" class=\"edge\">\n",
       "<title>0&#45;&gt;8</title>\n",
       "<path fill=\"none\" stroke=\"black\" d=\"M583.11,-341.91C594.76,-332.38 607.26,-322.15 619.21,-312.37\"/>\n",
       "<polygon fill=\"black\" stroke=\"black\" points=\"621.45,-315.06 626.97,-306.02 617.02,-309.64 621.45,-315.06\"/>\n",
       "<text text-anchor=\"middle\" x=\"624.49\" y=\"-327.2\" font-family=\"Helvetica,sans-Serif\" font-size=\"14.00\">False</text>\n",
       "</g>\n",
       "<!-- 2 -->\n",
       "<g id=\"node3\" class=\"node\">\n",
       "<title>2</title>\n",
       "<path fill=\"#e6843d\" stroke=\"black\" d=\"M264,-187C264,-187 157,-187 157,-187 151,-187 145,-181 145,-175 145,-175 145,-116 145,-116 145,-110 151,-104 157,-104 157,-104 264,-104 264,-104 270,-104 276,-110 276,-116 276,-116 276,-175 276,-175 276,-181 270,-187 264,-187\"/>\n",
       "<text text-anchor=\"middle\" x=\"210.5\" y=\"-171.8\" font-family=\"Helvetica,sans-Serif\" font-size=\"14.00\">X[0] &lt;= 118.5</text>\n",
       "<text text-anchor=\"middle\" x=\"210.5\" y=\"-156.8\" font-family=\"Helvetica,sans-Serif\" font-size=\"14.00\">gini = 0.041</text>\n",
       "<text text-anchor=\"middle\" x=\"210.5\" y=\"-141.8\" font-family=\"Helvetica,sans-Serif\" font-size=\"14.00\">samples = 143</text>\n",
       "<text text-anchor=\"middle\" x=\"210.5\" y=\"-126.8\" font-family=\"Helvetica,sans-Serif\" font-size=\"14.00\">value = [140, 3]</text>\n",
       "<text text-anchor=\"middle\" x=\"210.5\" y=\"-111.8\" font-family=\"Helvetica,sans-Serif\" font-size=\"14.00\">class = 0</text>\n",
       "</g>\n",
       "<!-- 1&#45;&gt;2 -->\n",
       "<g id=\"edge2\" class=\"edge\">\n",
       "<title>1&#45;&gt;2</title>\n",
       "<path fill=\"none\" stroke=\"black\" d=\"M339.15,-222.91C321.58,-212.47 302.59,-201.19 284.74,-190.59\"/>\n",
       "<polygon fill=\"black\" stroke=\"black\" points=\"286.46,-187.54 276.07,-185.44 282.88,-193.56 286.46,-187.54\"/>\n",
       "</g>\n",
       "<!-- 5 -->\n",
       "<g id=\"node6\" class=\"node\">\n",
       "<title>5</title>\n",
       "<path fill=\"#f6d1b7\" stroke=\"black\" d=\"M456.5,-187C456.5,-187 358.5,-187 358.5,-187 352.5,-187 346.5,-181 346.5,-175 346.5,-175 346.5,-116 346.5,-116 346.5,-110 352.5,-104 358.5,-104 358.5,-104 456.5,-104 456.5,-104 462.5,-104 468.5,-110 468.5,-116 468.5,-116 468.5,-175 468.5,-175 468.5,-181 462.5,-187 456.5,-187\"/>\n",
       "<text text-anchor=\"middle\" x=\"407.5\" y=\"-171.8\" font-family=\"Helvetica,sans-Serif\" font-size=\"14.00\">X[0] &lt;= 156.5</text>\n",
       "<text text-anchor=\"middle\" x=\"407.5\" y=\"-156.8\" font-family=\"Helvetica,sans-Serif\" font-size=\"14.00\">gini = 0.475</text>\n",
       "<text text-anchor=\"middle\" x=\"407.5\" y=\"-141.8\" font-family=\"Helvetica,sans-Serif\" font-size=\"14.00\">samples = 18</text>\n",
       "<text text-anchor=\"middle\" x=\"407.5\" y=\"-126.8\" font-family=\"Helvetica,sans-Serif\" font-size=\"14.00\">value = [11, 7]</text>\n",
       "<text text-anchor=\"middle\" x=\"407.5\" y=\"-111.8\" font-family=\"Helvetica,sans-Serif\" font-size=\"14.00\">class = 0</text>\n",
       "</g>\n",
       "<!-- 1&#45;&gt;5 -->\n",
       "<g id=\"edge5\" class=\"edge\">\n",
       "<title>1&#45;&gt;5</title>\n",
       "<path fill=\"none\" stroke=\"black\" d=\"M407.5,-222.91C407.5,-214.65 407.5,-205.86 407.5,-197.3\"/>\n",
       "<polygon fill=\"black\" stroke=\"black\" points=\"411,-197.02 407.5,-187.02 404,-197.02 411,-197.02\"/>\n",
       "</g>\n",
       "<!-- 3 -->\n",
       "<g id=\"node4\" class=\"node\">\n",
       "<title>3</title>\n",
       "<path fill=\"#e5823b\" stroke=\"black\" d=\"M119,-68C119,-68 12,-68 12,-68 6,-68 0,-62 0,-56 0,-56 0,-12 0,-12 0,-6 6,0 12,0 12,0 119,0 119,0 125,0 131,-6 131,-12 131,-12 131,-56 131,-56 131,-62 125,-68 119,-68\"/>\n",
       "<text text-anchor=\"middle\" x=\"65.5\" y=\"-52.8\" font-family=\"Helvetica,sans-Serif\" font-size=\"14.00\">gini = 0.017</text>\n",
       "<text text-anchor=\"middle\" x=\"65.5\" y=\"-37.8\" font-family=\"Helvetica,sans-Serif\" font-size=\"14.00\">samples = 119</text>\n",
       "<text text-anchor=\"middle\" x=\"65.5\" y=\"-22.8\" font-family=\"Helvetica,sans-Serif\" font-size=\"14.00\">value = [118, 1]</text>\n",
       "<text text-anchor=\"middle\" x=\"65.5\" y=\"-7.8\" font-family=\"Helvetica,sans-Serif\" font-size=\"14.00\">class = 0</text>\n",
       "</g>\n",
       "<!-- 2&#45;&gt;3 -->\n",
       "<g id=\"edge3\" class=\"edge\">\n",
       "<title>2&#45;&gt;3</title>\n",
       "<path fill=\"none\" stroke=\"black\" d=\"M156.51,-103.73C143.83,-94.15 130.33,-83.96 117.73,-74.44\"/>\n",
       "<polygon fill=\"black\" stroke=\"black\" points=\"119.68,-71.53 109.6,-68.3 115.47,-77.12 119.68,-71.53\"/>\n",
       "</g>\n",
       "<!-- 4 -->\n",
       "<g id=\"node5\" class=\"node\">\n",
       "<title>4</title>\n",
       "<path fill=\"#e78c4b\" stroke=\"black\" d=\"M259.5,-68C259.5,-68 161.5,-68 161.5,-68 155.5,-68 149.5,-62 149.5,-56 149.5,-56 149.5,-12 149.5,-12 149.5,-6 155.5,0 161.5,0 161.5,0 259.5,0 259.5,0 265.5,0 271.5,-6 271.5,-12 271.5,-12 271.5,-56 271.5,-56 271.5,-62 265.5,-68 259.5,-68\"/>\n",
       "<text text-anchor=\"middle\" x=\"210.5\" y=\"-52.8\" font-family=\"Helvetica,sans-Serif\" font-size=\"14.00\">gini = 0.153</text>\n",
       "<text text-anchor=\"middle\" x=\"210.5\" y=\"-37.8\" font-family=\"Helvetica,sans-Serif\" font-size=\"14.00\">samples = 24</text>\n",
       "<text text-anchor=\"middle\" x=\"210.5\" y=\"-22.8\" font-family=\"Helvetica,sans-Serif\" font-size=\"14.00\">value = [22, 2]</text>\n",
       "<text text-anchor=\"middle\" x=\"210.5\" y=\"-7.8\" font-family=\"Helvetica,sans-Serif\" font-size=\"14.00\">class = 0</text>\n",
       "</g>\n",
       "<!-- 2&#45;&gt;4 -->\n",
       "<g id=\"edge4\" class=\"edge\">\n",
       "<title>2&#45;&gt;4</title>\n",
       "<path fill=\"none\" stroke=\"black\" d=\"M210.5,-103.73C210.5,-95.52 210.5,-86.86 210.5,-78.56\"/>\n",
       "<polygon fill=\"black\" stroke=\"black\" points=\"214,-78.3 210.5,-68.3 207,-78.3 214,-78.3\"/>\n",
       "</g>\n",
       "<!-- 6 -->\n",
       "<g id=\"node7\" class=\"node\">\n",
       "<title>6</title>\n",
       "<path fill=\"#ffffff\" stroke=\"black\" d=\"M391,-68C391,-68 302,-68 302,-68 296,-68 290,-62 290,-56 290,-56 290,-12 290,-12 290,-6 296,0 302,0 302,0 391,0 391,0 397,0 403,-6 403,-12 403,-12 403,-56 403,-56 403,-62 397,-68 391,-68\"/>\n",
       "<text text-anchor=\"middle\" x=\"346.5\" y=\"-52.8\" font-family=\"Helvetica,sans-Serif\" font-size=\"14.00\">gini = 0.5</text>\n",
       "<text text-anchor=\"middle\" x=\"346.5\" y=\"-37.8\" font-family=\"Helvetica,sans-Serif\" font-size=\"14.00\">samples = 14</text>\n",
       "<text text-anchor=\"middle\" x=\"346.5\" y=\"-22.8\" font-family=\"Helvetica,sans-Serif\" font-size=\"14.00\">value = [7, 7]</text>\n",
       "<text text-anchor=\"middle\" x=\"346.5\" y=\"-7.8\" font-family=\"Helvetica,sans-Serif\" font-size=\"14.00\">class = 0</text>\n",
       "</g>\n",
       "<!-- 5&#45;&gt;6 -->\n",
       "<g id=\"edge6\" class=\"edge\">\n",
       "<title>5&#45;&gt;6</title>\n",
       "<path fill=\"none\" stroke=\"black\" d=\"M384.79,-103.73C379.96,-95.06 374.85,-85.9 370,-77.18\"/>\n",
       "<polygon fill=\"black\" stroke=\"black\" points=\"372.97,-75.33 365.05,-68.3 366.86,-78.74 372.97,-75.33\"/>\n",
       "</g>\n",
       "<!-- 7 -->\n",
       "<g id=\"node8\" class=\"node\">\n",
       "<title>7</title>\n",
       "<path fill=\"#e58139\" stroke=\"black\" d=\"M522,-68C522,-68 433,-68 433,-68 427,-68 421,-62 421,-56 421,-56 421,-12 421,-12 421,-6 427,0 433,0 433,0 522,0 522,0 528,0 534,-6 534,-12 534,-12 534,-56 534,-56 534,-62 528,-68 522,-68\"/>\n",
       "<text text-anchor=\"middle\" x=\"477.5\" y=\"-52.8\" font-family=\"Helvetica,sans-Serif\" font-size=\"14.00\">gini = 0.0</text>\n",
       "<text text-anchor=\"middle\" x=\"477.5\" y=\"-37.8\" font-family=\"Helvetica,sans-Serif\" font-size=\"14.00\">samples = 4</text>\n",
       "<text text-anchor=\"middle\" x=\"477.5\" y=\"-22.8\" font-family=\"Helvetica,sans-Serif\" font-size=\"14.00\">value = [4, 0]</text>\n",
       "<text text-anchor=\"middle\" x=\"477.5\" y=\"-7.8\" font-family=\"Helvetica,sans-Serif\" font-size=\"14.00\">class = 0</text>\n",
       "</g>\n",
       "<!-- 5&#45;&gt;7 -->\n",
       "<g id=\"edge7\" class=\"edge\">\n",
       "<title>5&#45;&gt;7</title>\n",
       "<path fill=\"none\" stroke=\"black\" d=\"M433.57,-103.73C439.16,-94.97 445.09,-85.7 450.71,-76.91\"/>\n",
       "<polygon fill=\"black\" stroke=\"black\" points=\"453.78,-78.61 456.21,-68.3 447.88,-74.84 453.78,-78.61\"/>\n",
       "</g>\n",
       "<!-- 9 -->\n",
       "<g id=\"node10\" class=\"node\">\n",
       "<title>9</title>\n",
       "<path fill=\"#96cbf1\" stroke=\"black\" d=\"M725.5,-187C725.5,-187 627.5,-187 627.5,-187 621.5,-187 615.5,-181 615.5,-175 615.5,-175 615.5,-116 615.5,-116 615.5,-110 621.5,-104 627.5,-104 627.5,-104 725.5,-104 725.5,-104 731.5,-104 737.5,-110 737.5,-116 737.5,-116 737.5,-175 737.5,-175 737.5,-181 731.5,-187 725.5,-187\"/>\n",
       "<text text-anchor=\"middle\" x=\"676.5\" y=\"-171.8\" font-family=\"Helvetica,sans-Serif\" font-size=\"14.00\">X[0] &lt;= 164.5</text>\n",
       "<text text-anchor=\"middle\" x=\"676.5\" y=\"-156.8\" font-family=\"Helvetica,sans-Serif\" font-size=\"14.00\">gini = 0.435</text>\n",
       "<text text-anchor=\"middle\" x=\"676.5\" y=\"-141.8\" font-family=\"Helvetica,sans-Serif\" font-size=\"14.00\">samples = 25</text>\n",
       "<text text-anchor=\"middle\" x=\"676.5\" y=\"-126.8\" font-family=\"Helvetica,sans-Serif\" font-size=\"14.00\">value = [8, 17]</text>\n",
       "<text text-anchor=\"middle\" x=\"676.5\" y=\"-111.8\" font-family=\"Helvetica,sans-Serif\" font-size=\"14.00\">class = 1</text>\n",
       "</g>\n",
       "<!-- 8&#45;&gt;9 -->\n",
       "<g id=\"edge9\" class=\"edge\">\n",
       "<title>8&#45;&gt;9</title>\n",
       "<path fill=\"none\" stroke=\"black\" d=\"M676.5,-222.91C676.5,-214.65 676.5,-205.86 676.5,-197.3\"/>\n",
       "<polygon fill=\"black\" stroke=\"black\" points=\"680,-197.02 676.5,-187.02 673,-197.02 680,-197.02\"/>\n",
       "</g>\n",
       "<!-- 12 -->\n",
       "<g id=\"node13\" class=\"node\">\n",
       "<title>12</title>\n",
       "<path fill=\"#3c9fe5\" stroke=\"black\" d=\"M933.5,-187C933.5,-187 835.5,-187 835.5,-187 829.5,-187 823.5,-181 823.5,-175 823.5,-175 823.5,-116 823.5,-116 823.5,-110 829.5,-104 835.5,-104 835.5,-104 933.5,-104 933.5,-104 939.5,-104 945.5,-110 945.5,-116 945.5,-116 945.5,-175 945.5,-175 945.5,-181 939.5,-187 933.5,-187\"/>\n",
       "<text text-anchor=\"middle\" x=\"884.5\" y=\"-171.8\" font-family=\"Helvetica,sans-Serif\" font-size=\"14.00\">X[0] &lt;= 230.5</text>\n",
       "<text text-anchor=\"middle\" x=\"884.5\" y=\"-156.8\" font-family=\"Helvetica,sans-Serif\" font-size=\"14.00\">gini = 0.03</text>\n",
       "<text text-anchor=\"middle\" x=\"884.5\" y=\"-141.8\" font-family=\"Helvetica,sans-Serif\" font-size=\"14.00\">samples = 65</text>\n",
       "<text text-anchor=\"middle\" x=\"884.5\" y=\"-126.8\" font-family=\"Helvetica,sans-Serif\" font-size=\"14.00\">value = [1, 64]</text>\n",
       "<text text-anchor=\"middle\" x=\"884.5\" y=\"-111.8\" font-family=\"Helvetica,sans-Serif\" font-size=\"14.00\">class = 1</text>\n",
       "</g>\n",
       "<!-- 8&#45;&gt;12 -->\n",
       "<g id=\"edge12\" class=\"edge\">\n",
       "<title>8&#45;&gt;12</title>\n",
       "<path fill=\"none\" stroke=\"black\" d=\"M737.5,-229.19C761.74,-215.56 789.75,-199.8 814.78,-185.72\"/>\n",
       "<polygon fill=\"black\" stroke=\"black\" points=\"816.5,-188.77 823.5,-180.81 813.07,-182.66 816.5,-188.77\"/>\n",
       "</g>\n",
       "<!-- 10 -->\n",
       "<g id=\"node11\" class=\"node\">\n",
       "<title>10</title>\n",
       "<path fill=\"#399de5\" stroke=\"black\" d=\"M653,-68C653,-68 564,-68 564,-68 558,-68 552,-62 552,-56 552,-56 552,-12 552,-12 552,-6 558,0 564,0 564,0 653,0 653,0 659,0 665,-6 665,-12 665,-12 665,-56 665,-56 665,-62 659,-68 653,-68\"/>\n",
       "<text text-anchor=\"middle\" x=\"608.5\" y=\"-52.8\" font-family=\"Helvetica,sans-Serif\" font-size=\"14.00\">gini = 0.0</text>\n",
       "<text text-anchor=\"middle\" x=\"608.5\" y=\"-37.8\" font-family=\"Helvetica,sans-Serif\" font-size=\"14.00\">samples = 4</text>\n",
       "<text text-anchor=\"middle\" x=\"608.5\" y=\"-22.8\" font-family=\"Helvetica,sans-Serif\" font-size=\"14.00\">value = [0, 4]</text>\n",
       "<text text-anchor=\"middle\" x=\"608.5\" y=\"-7.8\" font-family=\"Helvetica,sans-Serif\" font-size=\"14.00\">class = 1</text>\n",
       "</g>\n",
       "<!-- 9&#45;&gt;10 -->\n",
       "<g id=\"edge10\" class=\"edge\">\n",
       "<title>9&#45;&gt;10</title>\n",
       "<path fill=\"none\" stroke=\"black\" d=\"M651.18,-103.73C645.74,-94.97 639.99,-85.7 634.52,-76.91\"/>\n",
       "<polygon fill=\"black\" stroke=\"black\" points=\"637.43,-74.95 629.18,-68.3 631.48,-78.64 637.43,-74.95\"/>\n",
       "</g>\n",
       "<!-- 11 -->\n",
       "<g id=\"node12\" class=\"node\">\n",
       "<title>11</title>\n",
       "<path fill=\"#b3d9f5\" stroke=\"black\" d=\"M793.5,-68C793.5,-68 695.5,-68 695.5,-68 689.5,-68 683.5,-62 683.5,-56 683.5,-56 683.5,-12 683.5,-12 683.5,-6 689.5,0 695.5,0 695.5,0 793.5,0 793.5,0 799.5,0 805.5,-6 805.5,-12 805.5,-12 805.5,-56 805.5,-56 805.5,-62 799.5,-68 793.5,-68\"/>\n",
       "<text text-anchor=\"middle\" x=\"744.5\" y=\"-52.8\" font-family=\"Helvetica,sans-Serif\" font-size=\"14.00\">gini = 0.472</text>\n",
       "<text text-anchor=\"middle\" x=\"744.5\" y=\"-37.8\" font-family=\"Helvetica,sans-Serif\" font-size=\"14.00\">samples = 21</text>\n",
       "<text text-anchor=\"middle\" x=\"744.5\" y=\"-22.8\" font-family=\"Helvetica,sans-Serif\" font-size=\"14.00\">value = [8, 13]</text>\n",
       "<text text-anchor=\"middle\" x=\"744.5\" y=\"-7.8\" font-family=\"Helvetica,sans-Serif\" font-size=\"14.00\">class = 1</text>\n",
       "</g>\n",
       "<!-- 9&#45;&gt;11 -->\n",
       "<g id=\"edge11\" class=\"edge\">\n",
       "<title>9&#45;&gt;11</title>\n",
       "<path fill=\"none\" stroke=\"black\" d=\"M701.82,-103.73C707.26,-94.97 713.01,-85.7 718.48,-76.91\"/>\n",
       "<polygon fill=\"black\" stroke=\"black\" points=\"721.52,-78.64 723.82,-68.3 715.57,-74.95 721.52,-78.64\"/>\n",
       "</g>\n",
       "<!-- 13 -->\n",
       "<g id=\"node14\" class=\"node\">\n",
       "<title>13</title>\n",
       "<path fill=\"#399de5\" stroke=\"black\" d=\"M933.5,-68C933.5,-68 835.5,-68 835.5,-68 829.5,-68 823.5,-62 823.5,-56 823.5,-56 823.5,-12 823.5,-12 823.5,-6 829.5,0 835.5,0 835.5,0 933.5,0 933.5,0 939.5,0 945.5,-6 945.5,-12 945.5,-12 945.5,-56 945.5,-56 945.5,-62 939.5,-68 933.5,-68\"/>\n",
       "<text text-anchor=\"middle\" x=\"884.5\" y=\"-52.8\" font-family=\"Helvetica,sans-Serif\" font-size=\"14.00\">gini = 0.0</text>\n",
       "<text text-anchor=\"middle\" x=\"884.5\" y=\"-37.8\" font-family=\"Helvetica,sans-Serif\" font-size=\"14.00\">samples = 45</text>\n",
       "<text text-anchor=\"middle\" x=\"884.5\" y=\"-22.8\" font-family=\"Helvetica,sans-Serif\" font-size=\"14.00\">value = [0, 45]</text>\n",
       "<text text-anchor=\"middle\" x=\"884.5\" y=\"-7.8\" font-family=\"Helvetica,sans-Serif\" font-size=\"14.00\">class = 1</text>\n",
       "</g>\n",
       "<!-- 12&#45;&gt;13 -->\n",
       "<g id=\"edge13\" class=\"edge\">\n",
       "<title>12&#45;&gt;13</title>\n",
       "<path fill=\"none\" stroke=\"black\" d=\"M884.5,-103.73C884.5,-95.52 884.5,-86.86 884.5,-78.56\"/>\n",
       "<polygon fill=\"black\" stroke=\"black\" points=\"888,-78.3 884.5,-68.3 881,-78.3 888,-78.3\"/>\n",
       "</g>\n",
       "<!-- 14 -->\n",
       "<g id=\"node15\" class=\"node\">\n",
       "<title>14</title>\n",
       "<path fill=\"#43a2e6\" stroke=\"black\" d=\"M1073.5,-68C1073.5,-68 975.5,-68 975.5,-68 969.5,-68 963.5,-62 963.5,-56 963.5,-56 963.5,-12 963.5,-12 963.5,-6 969.5,0 975.5,0 975.5,0 1073.5,0 1073.5,0 1079.5,0 1085.5,-6 1085.5,-12 1085.5,-12 1085.5,-56 1085.5,-56 1085.5,-62 1079.5,-68 1073.5,-68\"/>\n",
       "<text text-anchor=\"middle\" x=\"1024.5\" y=\"-52.8\" font-family=\"Helvetica,sans-Serif\" font-size=\"14.00\">gini = 0.095</text>\n",
       "<text text-anchor=\"middle\" x=\"1024.5\" y=\"-37.8\" font-family=\"Helvetica,sans-Serif\" font-size=\"14.00\">samples = 20</text>\n",
       "<text text-anchor=\"middle\" x=\"1024.5\" y=\"-22.8\" font-family=\"Helvetica,sans-Serif\" font-size=\"14.00\">value = [1, 19]</text>\n",
       "<text text-anchor=\"middle\" x=\"1024.5\" y=\"-7.8\" font-family=\"Helvetica,sans-Serif\" font-size=\"14.00\">class = 1</text>\n",
       "</g>\n",
       "<!-- 12&#45;&gt;14 -->\n",
       "<g id=\"edge14\" class=\"edge\">\n",
       "<title>12&#45;&gt;14</title>\n",
       "<path fill=\"none\" stroke=\"black\" d=\"M936.63,-103.73C948.76,-94.24 961.65,-84.16 973.72,-74.72\"/>\n",
       "<polygon fill=\"black\" stroke=\"black\" points=\"976.2,-77.22 981.93,-68.3 971.89,-71.7 976.2,-77.22\"/>\n",
       "</g>\n",
       "</g>\n",
       "</svg>\n"
      ],
      "text/plain": [
       "<graphviz.files.Source at 0x7f84cc928bd0>"
      ]
     },
     "execution_count": 16,
     "metadata": {},
     "output_type": "execute_result"
    }
   ],
   "source": [
    "from sklearn.tree import export_graphviz\n",
    "import graphviz\n",
    "\n",
    "dot_data = export_graphviz(classifier, filled=True, rounded=True, proportion=False, class_names=['0', '1'])\n",
    "graphviz.Source(dot_data)"
   ]
  },
  {
   "cell_type": "code",
   "execution_count": 17,
   "id": "48677128",
   "metadata": {
    "execution": {
     "iopub.execute_input": "2023-10-22T16:13:30.194611Z",
     "iopub.status.busy": "2023-10-22T16:13:30.194173Z",
     "iopub.status.idle": "2023-10-22T16:13:30.283152Z",
     "shell.execute_reply": "2023-10-22T16:13:30.281880Z"
    },
    "papermill": {
     "duration": 0.103816,
     "end_time": "2023-10-22T16:13:30.285593",
     "exception": false,
     "start_time": "2023-10-22T16:13:30.181777",
     "status": "completed"
    },
    "tags": []
   },
   "outputs": [
    {
     "data": {
      "text/html": [
       "<style type=\"text/css\">\n",
       "#T_6996e_row0_col0, #T_6996e_row1_col0, #T_6996e_row2_col0 {\n",
       "  background-color: #3a049a;\n",
       "  color: #f1f1f1;\n",
       "}\n",
       "#T_6996e_row0_col1, #T_6996e_row1_col1, #T_6996e_row2_col1, #T_6996e_row3_col1, #T_6996e_row4_col1, #T_6996e_row5_col1, #T_6996e_row6_col1, #T_6996e_row7_col1, #T_6996e_row8_col1, #T_6996e_row9_col1, #T_6996e_row10_col1, #T_6996e_row11_col1, #T_6996e_row12_col1, #T_6996e_row13_col1, #T_6996e_row14_col1, #T_6996e_row15_col1, #T_6996e_row16_col1, #T_6996e_row17_col0, #T_6996e_row17_col1, #T_6996e_row18_col0, #T_6996e_row18_col1, #T_6996e_row19_col0, #T_6996e_row19_col1, #T_6996e_row20_col0, #T_6996e_row20_col1 {\n",
       "  background-color: #0d0887;\n",
       "  color: #f1f1f1;\n",
       "}\n",
       "#T_6996e_row3_col0, #T_6996e_row4_col0, #T_6996e_row5_col0, #T_6996e_row6_col0, #T_6996e_row7_col0, #T_6996e_row8_col0, #T_6996e_row9_col0, #T_6996e_row10_col0, #T_6996e_row11_col0, #T_6996e_row12_col0, #T_6996e_row13_col0, #T_6996e_row14_col0, #T_6996e_row15_col0, #T_6996e_row16_col0 {\n",
       "  background-color: #cc4778;\n",
       "  color: #f1f1f1;\n",
       "}\n",
       "#T_6996e_row21_col0, #T_6996e_row21_col1, #T_6996e_row22_col0, #T_6996e_row22_col1, #T_6996e_row23_col0, #T_6996e_row23_col1, #T_6996e_row24_col0, #T_6996e_row24_col1, #T_6996e_row25_col1, #T_6996e_row26_col1, #T_6996e_row27_col1, #T_6996e_row28_col1, #T_6996e_row29_col1, #T_6996e_row30_col1, #T_6996e_row31_col1, #T_6996e_row32_col1, #T_6996e_row33_col1, #T_6996e_row34_col1, #T_6996e_row35_col1, #T_6996e_row36_col1, #T_6996e_row37_col1, #T_6996e_row38_col1, #T_6996e_row39_col1, #T_6996e_row40_col1 {\n",
       "  background-color: #f0f921;\n",
       "  color: #000000;\n",
       "}\n",
       "#T_6996e_row25_col0, #T_6996e_row26_col0, #T_6996e_row27_col0, #T_6996e_row28_col0, #T_6996e_row29_col0, #T_6996e_row30_col0, #T_6996e_row31_col0, #T_6996e_row32_col0, #T_6996e_row33_col0, #T_6996e_row34_col0, #T_6996e_row35_col0, #T_6996e_row36_col0, #T_6996e_row37_col0, #T_6996e_row38_col0, #T_6996e_row39_col0, #T_6996e_row40_col0 {\n",
       "  background-color: #e56a5d;\n",
       "  color: #f1f1f1;\n",
       "}\n",
       "</style>\n",
       "<table id=\"T_6996e_\">\n",
       "  <thead>\n",
       "    <tr>\n",
       "      <th class=\"blank level0\" >&nbsp;</th>\n",
       "      <th class=\"col_heading level0 col0\" >probability</th>\n",
       "      <th class=\"col_heading level0 col1\" >y_pred</th>\n",
       "    </tr>\n",
       "  </thead>\n",
       "  <tbody>\n",
       "    <tr>\n",
       "      <th id=\"T_6996e_level0_row0\" class=\"row_heading level0 row0\" >140</th>\n",
       "      <td id=\"T_6996e_row0_col0\" class=\"data row0 col0\" >0.083333</td>\n",
       "      <td id=\"T_6996e_row0_col1\" class=\"data row0 col1\" >0</td>\n",
       "    </tr>\n",
       "    <tr>\n",
       "      <th id=\"T_6996e_level0_row1\" class=\"row_heading level0 row1\" >141</th>\n",
       "      <td id=\"T_6996e_row1_col0\" class=\"data row1 col0\" >0.083333</td>\n",
       "      <td id=\"T_6996e_row1_col1\" class=\"data row1 col1\" >0</td>\n",
       "    </tr>\n",
       "    <tr>\n",
       "      <th id=\"T_6996e_level0_row2\" class=\"row_heading level0 row2\" >142</th>\n",
       "      <td id=\"T_6996e_row2_col0\" class=\"data row2 col0\" >0.083333</td>\n",
       "      <td id=\"T_6996e_row2_col1\" class=\"data row2 col1\" >0</td>\n",
       "    </tr>\n",
       "    <tr>\n",
       "      <th id=\"T_6996e_level0_row3\" class=\"row_heading level0 row3\" >143</th>\n",
       "      <td id=\"T_6996e_row3_col0\" class=\"data row3 col0\" >0.500000</td>\n",
       "      <td id=\"T_6996e_row3_col1\" class=\"data row3 col1\" >0</td>\n",
       "    </tr>\n",
       "    <tr>\n",
       "      <th id=\"T_6996e_level0_row4\" class=\"row_heading level0 row4\" >144</th>\n",
       "      <td id=\"T_6996e_row4_col0\" class=\"data row4 col0\" >0.500000</td>\n",
       "      <td id=\"T_6996e_row4_col1\" class=\"data row4 col1\" >0</td>\n",
       "    </tr>\n",
       "    <tr>\n",
       "      <th id=\"T_6996e_level0_row5\" class=\"row_heading level0 row5\" >145</th>\n",
       "      <td id=\"T_6996e_row5_col0\" class=\"data row5 col0\" >0.500000</td>\n",
       "      <td id=\"T_6996e_row5_col1\" class=\"data row5 col1\" >0</td>\n",
       "    </tr>\n",
       "    <tr>\n",
       "      <th id=\"T_6996e_level0_row6\" class=\"row_heading level0 row6\" >146</th>\n",
       "      <td id=\"T_6996e_row6_col0\" class=\"data row6 col0\" >0.500000</td>\n",
       "      <td id=\"T_6996e_row6_col1\" class=\"data row6 col1\" >0</td>\n",
       "    </tr>\n",
       "    <tr>\n",
       "      <th id=\"T_6996e_level0_row7\" class=\"row_heading level0 row7\" >147</th>\n",
       "      <td id=\"T_6996e_row7_col0\" class=\"data row7 col0\" >0.500000</td>\n",
       "      <td id=\"T_6996e_row7_col1\" class=\"data row7 col1\" >0</td>\n",
       "    </tr>\n",
       "    <tr>\n",
       "      <th id=\"T_6996e_level0_row8\" class=\"row_heading level0 row8\" >148</th>\n",
       "      <td id=\"T_6996e_row8_col0\" class=\"data row8 col0\" >0.500000</td>\n",
       "      <td id=\"T_6996e_row8_col1\" class=\"data row8 col1\" >0</td>\n",
       "    </tr>\n",
       "    <tr>\n",
       "      <th id=\"T_6996e_level0_row9\" class=\"row_heading level0 row9\" >149</th>\n",
       "      <td id=\"T_6996e_row9_col0\" class=\"data row9 col0\" >0.500000</td>\n",
       "      <td id=\"T_6996e_row9_col1\" class=\"data row9 col1\" >0</td>\n",
       "    </tr>\n",
       "    <tr>\n",
       "      <th id=\"T_6996e_level0_row10\" class=\"row_heading level0 row10\" >150</th>\n",
       "      <td id=\"T_6996e_row10_col0\" class=\"data row10 col0\" >0.500000</td>\n",
       "      <td id=\"T_6996e_row10_col1\" class=\"data row10 col1\" >0</td>\n",
       "    </tr>\n",
       "    <tr>\n",
       "      <th id=\"T_6996e_level0_row11\" class=\"row_heading level0 row11\" >151</th>\n",
       "      <td id=\"T_6996e_row11_col0\" class=\"data row11 col0\" >0.500000</td>\n",
       "      <td id=\"T_6996e_row11_col1\" class=\"data row11 col1\" >0</td>\n",
       "    </tr>\n",
       "    <tr>\n",
       "      <th id=\"T_6996e_level0_row12\" class=\"row_heading level0 row12\" >152</th>\n",
       "      <td id=\"T_6996e_row12_col0\" class=\"data row12 col0\" >0.500000</td>\n",
       "      <td id=\"T_6996e_row12_col1\" class=\"data row12 col1\" >0</td>\n",
       "    </tr>\n",
       "    <tr>\n",
       "      <th id=\"T_6996e_level0_row13\" class=\"row_heading level0 row13\" >153</th>\n",
       "      <td id=\"T_6996e_row13_col0\" class=\"data row13 col0\" >0.500000</td>\n",
       "      <td id=\"T_6996e_row13_col1\" class=\"data row13 col1\" >0</td>\n",
       "    </tr>\n",
       "    <tr>\n",
       "      <th id=\"T_6996e_level0_row14\" class=\"row_heading level0 row14\" >154</th>\n",
       "      <td id=\"T_6996e_row14_col0\" class=\"data row14 col0\" >0.500000</td>\n",
       "      <td id=\"T_6996e_row14_col1\" class=\"data row14 col1\" >0</td>\n",
       "    </tr>\n",
       "    <tr>\n",
       "      <th id=\"T_6996e_level0_row15\" class=\"row_heading level0 row15\" >155</th>\n",
       "      <td id=\"T_6996e_row15_col0\" class=\"data row15 col0\" >0.500000</td>\n",
       "      <td id=\"T_6996e_row15_col1\" class=\"data row15 col1\" >0</td>\n",
       "    </tr>\n",
       "    <tr>\n",
       "      <th id=\"T_6996e_level0_row16\" class=\"row_heading level0 row16\" >156</th>\n",
       "      <td id=\"T_6996e_row16_col0\" class=\"data row16 col0\" >0.500000</td>\n",
       "      <td id=\"T_6996e_row16_col1\" class=\"data row16 col1\" >0</td>\n",
       "    </tr>\n",
       "    <tr>\n",
       "      <th id=\"T_6996e_level0_row17\" class=\"row_heading level0 row17\" >157</th>\n",
       "      <td id=\"T_6996e_row17_col0\" class=\"data row17 col0\" >0.000000</td>\n",
       "      <td id=\"T_6996e_row17_col1\" class=\"data row17 col1\" >0</td>\n",
       "    </tr>\n",
       "    <tr>\n",
       "      <th id=\"T_6996e_level0_row18\" class=\"row_heading level0 row18\" >158</th>\n",
       "      <td id=\"T_6996e_row18_col0\" class=\"data row18 col0\" >0.000000</td>\n",
       "      <td id=\"T_6996e_row18_col1\" class=\"data row18 col1\" >0</td>\n",
       "    </tr>\n",
       "    <tr>\n",
       "      <th id=\"T_6996e_level0_row19\" class=\"row_heading level0 row19\" >159</th>\n",
       "      <td id=\"T_6996e_row19_col0\" class=\"data row19 col0\" >0.000000</td>\n",
       "      <td id=\"T_6996e_row19_col1\" class=\"data row19 col1\" >0</td>\n",
       "    </tr>\n",
       "    <tr>\n",
       "      <th id=\"T_6996e_level0_row20\" class=\"row_heading level0 row20\" >160</th>\n",
       "      <td id=\"T_6996e_row20_col0\" class=\"data row20 col0\" >0.000000</td>\n",
       "      <td id=\"T_6996e_row20_col1\" class=\"data row20 col1\" >0</td>\n",
       "    </tr>\n",
       "    <tr>\n",
       "      <th id=\"T_6996e_level0_row21\" class=\"row_heading level0 row21\" >161</th>\n",
       "      <td id=\"T_6996e_row21_col0\" class=\"data row21 col0\" >1.000000</td>\n",
       "      <td id=\"T_6996e_row21_col1\" class=\"data row21 col1\" >1</td>\n",
       "    </tr>\n",
       "    <tr>\n",
       "      <th id=\"T_6996e_level0_row22\" class=\"row_heading level0 row22\" >162</th>\n",
       "      <td id=\"T_6996e_row22_col0\" class=\"data row22 col0\" >1.000000</td>\n",
       "      <td id=\"T_6996e_row22_col1\" class=\"data row22 col1\" >1</td>\n",
       "    </tr>\n",
       "    <tr>\n",
       "      <th id=\"T_6996e_level0_row23\" class=\"row_heading level0 row23\" >163</th>\n",
       "      <td id=\"T_6996e_row23_col0\" class=\"data row23 col0\" >1.000000</td>\n",
       "      <td id=\"T_6996e_row23_col1\" class=\"data row23 col1\" >1</td>\n",
       "    </tr>\n",
       "    <tr>\n",
       "      <th id=\"T_6996e_level0_row24\" class=\"row_heading level0 row24\" >164</th>\n",
       "      <td id=\"T_6996e_row24_col0\" class=\"data row24 col0\" >1.000000</td>\n",
       "      <td id=\"T_6996e_row24_col1\" class=\"data row24 col1\" >1</td>\n",
       "    </tr>\n",
       "    <tr>\n",
       "      <th id=\"T_6996e_level0_row25\" class=\"row_heading level0 row25\" >165</th>\n",
       "      <td id=\"T_6996e_row25_col0\" class=\"data row25 col0\" >0.619048</td>\n",
       "      <td id=\"T_6996e_row25_col1\" class=\"data row25 col1\" >1</td>\n",
       "    </tr>\n",
       "    <tr>\n",
       "      <th id=\"T_6996e_level0_row26\" class=\"row_heading level0 row26\" >166</th>\n",
       "      <td id=\"T_6996e_row26_col0\" class=\"data row26 col0\" >0.619048</td>\n",
       "      <td id=\"T_6996e_row26_col1\" class=\"data row26 col1\" >1</td>\n",
       "    </tr>\n",
       "    <tr>\n",
       "      <th id=\"T_6996e_level0_row27\" class=\"row_heading level0 row27\" >167</th>\n",
       "      <td id=\"T_6996e_row27_col0\" class=\"data row27 col0\" >0.619048</td>\n",
       "      <td id=\"T_6996e_row27_col1\" class=\"data row27 col1\" >1</td>\n",
       "    </tr>\n",
       "    <tr>\n",
       "      <th id=\"T_6996e_level0_row28\" class=\"row_heading level0 row28\" >168</th>\n",
       "      <td id=\"T_6996e_row28_col0\" class=\"data row28 col0\" >0.619048</td>\n",
       "      <td id=\"T_6996e_row28_col1\" class=\"data row28 col1\" >1</td>\n",
       "    </tr>\n",
       "    <tr>\n",
       "      <th id=\"T_6996e_level0_row29\" class=\"row_heading level0 row29\" >169</th>\n",
       "      <td id=\"T_6996e_row29_col0\" class=\"data row29 col0\" >0.619048</td>\n",
       "      <td id=\"T_6996e_row29_col1\" class=\"data row29 col1\" >1</td>\n",
       "    </tr>\n",
       "    <tr>\n",
       "      <th id=\"T_6996e_level0_row30\" class=\"row_heading level0 row30\" >170</th>\n",
       "      <td id=\"T_6996e_row30_col0\" class=\"data row30 col0\" >0.619048</td>\n",
       "      <td id=\"T_6996e_row30_col1\" class=\"data row30 col1\" >1</td>\n",
       "    </tr>\n",
       "    <tr>\n",
       "      <th id=\"T_6996e_level0_row31\" class=\"row_heading level0 row31\" >171</th>\n",
       "      <td id=\"T_6996e_row31_col0\" class=\"data row31 col0\" >0.619048</td>\n",
       "      <td id=\"T_6996e_row31_col1\" class=\"data row31 col1\" >1</td>\n",
       "    </tr>\n",
       "    <tr>\n",
       "      <th id=\"T_6996e_level0_row32\" class=\"row_heading level0 row32\" >172</th>\n",
       "      <td id=\"T_6996e_row32_col0\" class=\"data row32 col0\" >0.619048</td>\n",
       "      <td id=\"T_6996e_row32_col1\" class=\"data row32 col1\" >1</td>\n",
       "    </tr>\n",
       "    <tr>\n",
       "      <th id=\"T_6996e_level0_row33\" class=\"row_heading level0 row33\" >173</th>\n",
       "      <td id=\"T_6996e_row33_col0\" class=\"data row33 col0\" >0.619048</td>\n",
       "      <td id=\"T_6996e_row33_col1\" class=\"data row33 col1\" >1</td>\n",
       "    </tr>\n",
       "    <tr>\n",
       "      <th id=\"T_6996e_level0_row34\" class=\"row_heading level0 row34\" >174</th>\n",
       "      <td id=\"T_6996e_row34_col0\" class=\"data row34 col0\" >0.619048</td>\n",
       "      <td id=\"T_6996e_row34_col1\" class=\"data row34 col1\" >1</td>\n",
       "    </tr>\n",
       "    <tr>\n",
       "      <th id=\"T_6996e_level0_row35\" class=\"row_heading level0 row35\" >175</th>\n",
       "      <td id=\"T_6996e_row35_col0\" class=\"data row35 col0\" >0.619048</td>\n",
       "      <td id=\"T_6996e_row35_col1\" class=\"data row35 col1\" >1</td>\n",
       "    </tr>\n",
       "    <tr>\n",
       "      <th id=\"T_6996e_level0_row36\" class=\"row_heading level0 row36\" >176</th>\n",
       "      <td id=\"T_6996e_row36_col0\" class=\"data row36 col0\" >0.619048</td>\n",
       "      <td id=\"T_6996e_row36_col1\" class=\"data row36 col1\" >1</td>\n",
       "    </tr>\n",
       "    <tr>\n",
       "      <th id=\"T_6996e_level0_row37\" class=\"row_heading level0 row37\" >177</th>\n",
       "      <td id=\"T_6996e_row37_col0\" class=\"data row37 col0\" >0.619048</td>\n",
       "      <td id=\"T_6996e_row37_col1\" class=\"data row37 col1\" >1</td>\n",
       "    </tr>\n",
       "    <tr>\n",
       "      <th id=\"T_6996e_level0_row38\" class=\"row_heading level0 row38\" >178</th>\n",
       "      <td id=\"T_6996e_row38_col0\" class=\"data row38 col0\" >0.619048</td>\n",
       "      <td id=\"T_6996e_row38_col1\" class=\"data row38 col1\" >1</td>\n",
       "    </tr>\n",
       "    <tr>\n",
       "      <th id=\"T_6996e_level0_row39\" class=\"row_heading level0 row39\" >179</th>\n",
       "      <td id=\"T_6996e_row39_col0\" class=\"data row39 col0\" >0.619048</td>\n",
       "      <td id=\"T_6996e_row39_col1\" class=\"data row39 col1\" >1</td>\n",
       "    </tr>\n",
       "    <tr>\n",
       "      <th id=\"T_6996e_level0_row40\" class=\"row_heading level0 row40\" >180</th>\n",
       "      <td id=\"T_6996e_row40_col0\" class=\"data row40 col0\" >0.619048</td>\n",
       "      <td id=\"T_6996e_row40_col1\" class=\"data row40 col1\" >1</td>\n",
       "    </tr>\n",
       "  </tbody>\n",
       "</table>\n"
      ],
      "text/plain": [
       "<pandas.io.formats.style.Styler at 0x7f84a2969e90>"
      ]
     },
     "execution_count": 17,
     "metadata": {},
     "output_type": "execute_result"
    }
   ],
   "source": [
    "df.loc[140:180, [\"probability\",\"y_pred\"]].style.background_gradient(cmap='plasma', axis=None)"
   ]
  },
  {
   "cell_type": "markdown",
   "id": "3c5bcd3d",
   "metadata": {
    "papermill": {
     "duration": 0.011219,
     "end_time": "2023-10-22T16:13:30.308534",
     "exception": false,
     "start_time": "2023-10-22T16:13:30.297315",
     "status": "completed"
    },
    "tags": []
   },
   "source": [
    "## Métricas"
   ]
  },
  {
   "cell_type": "code",
   "execution_count": 18,
   "id": "02e2df91",
   "metadata": {
    "execution": {
     "iopub.execute_input": "2023-10-22T16:13:30.333656Z",
     "iopub.status.busy": "2023-10-22T16:13:30.332830Z",
     "iopub.status.idle": "2023-10-22T16:13:30.341241Z",
     "shell.execute_reply": "2023-10-22T16:13:30.340416Z"
    },
    "papermill": {
     "duration": 0.023268,
     "end_time": "2023-10-22T16:13:30.343334",
     "exception": false,
     "start_time": "2023-10-22T16:13:30.320066",
     "status": "completed"
    },
    "tags": []
   },
   "outputs": [
    {
     "data": {
      "text/plain": [
       "0.9243027888446215"
      ]
     },
     "execution_count": 18,
     "metadata": {},
     "output_type": "execute_result"
    }
   ],
   "source": [
    "accuracy_score(df[\"y_true\"], df[\"y_pred\"])"
   ]
  },
  {
   "cell_type": "markdown",
   "id": "daf1a2b1",
   "metadata": {
    "papermill": {
     "duration": 0.011111,
     "end_time": "2023-10-22T16:13:30.366092",
     "exception": false,
     "start_time": "2023-10-22T16:13:30.354981",
     "status": "completed"
    },
    "tags": []
   },
   "source": [
    "### Matriz de confusión\n",
    "\n",
    "[`sklearn.metrics.confusion_matrix`](https://scikit-learn.org/stable/modules/generated/sklearn.metrics.confusion_matrix.html)"
   ]
  },
  {
   "cell_type": "code",
   "execution_count": 19,
   "id": "ddeab3f0",
   "metadata": {
    "execution": {
     "iopub.execute_input": "2023-10-22T16:13:30.391268Z",
     "iopub.status.busy": "2023-10-22T16:13:30.390475Z",
     "iopub.status.idle": "2023-10-22T16:13:30.652601Z",
     "shell.execute_reply": "2023-10-22T16:13:30.651554Z"
    },
    "papermill": {
     "duration": 0.277462,
     "end_time": "2023-10-22T16:13:30.655029",
     "exception": false,
     "start_time": "2023-10-22T16:13:30.377567",
     "status": "completed"
    },
    "tags": []
   },
   "outputs": [
    {
     "data": {
      "image/png": "[encoded data removed]",
      "text/plain": [
       "<Figure size 576x576 with 2 Axes>"
      ]
     },
     "metadata": {
      "needs_background": "light"
     },
     "output_type": "display_data"
    }
   ],
   "source": [
    "from sklearn.metrics import confusion_matrix\n",
    "matriz_de_confusion = confusion_matrix( df[\"y_true\"], df[\"y_pred\"] )\n",
    "\n",
    "from sklearn.metrics import ConfusionMatrixDisplay\n",
    "disp = ConfusionMatrixDisplay(confusion_matrix=matriz_de_confusion, display_labels=classifier.classes_)\n",
    "fig, ax = plt.subplots(figsize=(8,8))\n",
    "plt.rcParams.update({'font.size': 20})\n",
    "disp.plot(ax=ax);"
   ]
  },
  {
   "cell_type": "code",
   "execution_count": 20,
   "id": "d328bbc2",
   "metadata": {
    "execution": {
     "iopub.execute_input": "2023-10-22T16:13:30.681032Z",
     "iopub.status.busy": "2023-10-22T16:13:30.680640Z",
     "iopub.status.idle": "2023-10-22T16:13:30.689916Z",
     "shell.execute_reply": "2023-10-22T16:13:30.688745Z"
    },
    "papermill": {
     "duration": 0.024946,
     "end_time": "2023-10-22T16:13:30.692399",
     "exception": false,
     "start_time": "2023-10-22T16:13:30.667453",
     "status": "completed"
    },
    "tags": []
   },
   "outputs": [
    {
     "name": "stdout",
     "output_type": "stream",
     "text": [
      "Number of true negatives  (tn) =  151\n",
      "Number of true positives  (tp) =  81\n",
      "Number of false negatives (fn) =  10\n",
      "Number of false positives (fp) =  9\n",
      "Precision                                          = tp / (tp + fp) = 0.9\n",
      "Recall or 'sensitivity' (aka. true positive rate)  = tp / (tp + fn) = 0.8901098901098901\n",
      "Specificity             (aka. true negative rate)  = tn / (tn + fp) = 0.94375\n",
      "Fall out                (aka. false positive rate) = fp / (fp + tn) = 0.05625\n",
      "Miss rate               (aka. false negative rate) = fn / (fn + tp) = 0.10989010989010989\n"
     ]
    }
   ],
   "source": [
    "tn, fp, fn, tp = confusion_matrix(df[\"y_true\"], df[\"y_pred\"]).ravel()\n",
    "print(\"Number of true negatives  (tn) = \",tn)\n",
    "print(\"Number of true positives  (tp) = \",tp)\n",
    "print(\"Number of false negatives (fn) = \",fn)\n",
    "print(\"Number of false positives (fp) = \",fp)\n",
    "print(\"Precision                                          = tp / (tp + fp) =\", tp / (tp + fp))\n",
    "print(\"Recall or 'sensitivity' (aka. true positive rate)  = tp / (tp + fn) =\", tp / (tp + fn))\n",
    "print(\"Specificity             (aka. true negative rate)  = tn / (tn + fp) =\", tn / (tn + fp))\n",
    "print(\"Fall out                (aka. false positive rate) = fp / (fp + tn) =\", fp / (fp + tn))\n",
    "print(\"Miss rate               (aka. false negative rate) = fn / (fn + tp) =\", fn / (fn + tp))"
   ]
  },
  {
   "cell_type": "markdown",
   "id": "6d640a6e",
   "metadata": {
    "papermill": {
     "duration": 0.011574,
     "end_time": "2023-10-22T16:13:30.715984",
     "exception": false,
     "start_time": "2023-10-22T16:13:30.704410",
     "status": "completed"
    },
    "tags": []
   },
   "source": [
    "# $F_1$ score"
   ]
  },
  {
   "cell_type": "code",
   "execution_count": null,
   "id": "941e5f51",
   "metadata": {
    "papermill": {
     "duration": 0.011498,
     "end_time": "2023-10-22T16:13:30.739461",
     "exception": false,
     "start_time": "2023-10-22T16:13:30.727963",
     "status": "completed"
    },
    "tags": []
   },
   "outputs": [],
   "source": []
  },
  {
   "cell_type": "markdown",
   "id": "e32e12f5",
   "metadata": {
    "papermill": {
     "duration": 0.011425,
     "end_time": "2023-10-22T16:13:30.762696",
     "exception": false,
     "start_time": "2023-10-22T16:13:30.751271",
     "status": "completed"
    },
    "tags": []
   },
   "source": [
    "# Anexo I: Red neuronal: una sola neurona"
   ]
  },
  {
   "cell_type": "code",
   "execution_count": 21,
   "id": "9a1cfc09",
   "metadata": {
    "execution": {
     "iopub.execute_input": "2023-10-22T16:13:30.788469Z",
     "iopub.status.busy": "2023-10-22T16:13:30.787762Z",
     "iopub.status.idle": "2023-10-22T16:13:49.965764Z",
     "shell.execute_reply": "2023-10-22T16:13:49.964873Z"
    },
    "papermill": {
     "duration": 19.193565,
     "end_time": "2023-10-22T16:13:49.968170",
     "exception": false,
     "start_time": "2023-10-22T16:13:30.774605",
     "status": "completed"
    },
    "tags": []
   },
   "outputs": [],
   "source": [
    "from sklearn.preprocessing import MinMaxScaler\n",
    "scaler = MinMaxScaler()\n",
    "X_scaled = scaler.fit_transform(X.reshape(-1, 1))\n",
    "\n",
    "import tensorflow\n",
    "from tensorflow import keras\n",
    "from keras.models import Sequential\n",
    "from keras.layers import Dense    \n",
    "from keras import optimizers\n",
    "\n",
    "n_neurons   = 1\n",
    "\n",
    "#===========================================================================\n",
    "# keras model\n",
    "#===========================================================================\n",
    "model = Sequential()       \n",
    "# input layer\n",
    "model.add(Dense(n_neurons, input_dim=1, activation='sigmoid'))\n",
    "\n",
    "optimizer = tensorflow.keras.optimizers.SGD(learning_rate=0.3)\n",
    "model.compile(loss='binary_crossentropy', optimizer=optimizer)\n",
    "\n",
    "#===========================================================================\n",
    "# train the model\n",
    "#===========================================================================\n",
    "model.fit(X_scaled.reshape(-1, 1), y, epochs=2000, verbose=0)\n",
    "df[\"y_NN\"]  = model.predict(X_scaled.reshape(-1, 1))"
   ]
  },
  {
   "cell_type": "code",
   "execution_count": 22,
   "id": "33c901b0",
   "metadata": {
    "_kg_hide-input": true,
    "execution": {
     "iopub.execute_input": "2023-10-22T16:13:49.994420Z",
     "iopub.status.busy": "2023-10-22T16:13:49.993839Z",
     "iopub.status.idle": "2023-10-22T16:13:50.306756Z",
     "shell.execute_reply": "2023-10-22T16:13:50.305693Z"
    },
    "papermill": {
     "duration": 0.328209,
     "end_time": "2023-10-22T16:13:50.308984",
     "exception": false,
     "start_time": "2023-10-22T16:13:49.980775",
     "status": "completed"
    },
    "tags": []
   },
   "outputs": [
    {
     "data": {
      "image/png": "[encoded data removed]",
      "text/plain": [
       "<Figure size 1080x576 with 1 Axes>"
      ]
     },
     "metadata": {
      "needs_background": "light"
     },
     "output_type": "display_data"
    }
   ],
   "source": [
    "fig, ax = plt.subplots(figsize=(15, 8))\n",
    "plt.scatter(df.X, df.y_true, color=\"blue\", s=80)\n",
    "plt.scatter(df.X, df.probability, color=\"red\",s=20, label='DecisionTreeClassifier')\n",
    "plt.plot(df.X,    df.logistic, color=\"orange\", lw = 10, label='LogisticRegression')\n",
    "plt.plot(df.X,    df[\"y_NN\"], lw=3,  color=\"purple\",label='red neuronal')\n",
    "plt.axhline(y=0.5, color='grey', linestyle='--')\n",
    "ax.set_ylabel (\"p(x)\", fontsize=22)\n",
    "ax.set_xlabel (\"x\", fontsize=22)\n",
    "plt.legend(loc='upper left', fontsize=20);"
   ]
  }
 ],
 "metadata": {
  "kernelspec": {
   "display_name": "Python 3",
   "language": "python",
   "name": "python3"
  },
  "language_info": {
   "codemirror_mode": {
    "name": "ipython",
    "version": 3
   },
   "file_extension": ".py",
   "mimetype": "text/x-python",
   "name": "python",
   "nbconvert_exporter": "python",
   "pygments_lexer": "ipython3",
   "version": "3.7.12"
  },
  "papermill": {
   "default_parameters": {},
   "duration": 36.471676,
   "end_time": "2023-10-22T16:13:53.834013",
   "environment_variables": {},
   "exception": null,
   "input_path": "__notebook__.ipynb",
   "output_path": "__notebook__.ipynb",
   "parameters": {},
   "start_time": "2023-10-22T16:13:17.362337",
   "version": "2.3.4"
  }
 },
 "nbformat": 4,
 "nbformat_minor": 5
}
