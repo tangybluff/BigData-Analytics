{
 "cells": [
  {
   "cell_type": "markdown",
   "id": "58b9848f",
   "metadata": {
    "papermill": {
     "duration": 0.025576,
     "end_time": "2023-10-22T15:46:15.804500",
     "exception": false,
     "start_time": "2023-10-22T15:46:15.778924",
     "status": "completed"
    },
    "tags": []
   },
   "source": [
    "# BIG DATA: Precio de pisos competición (plantilla)\n",
    "### Cargar las librerías"
   ]
  },
  {
   "cell_type": "code",
   "execution_count": 1,
   "id": "aad92ea9",
   "metadata": {
    "_cell_guid": "b1076dfc-b9ad-4769-8c92-a6c4dae69d19",
    "_kg_hide-input": true,
    "_kg_hide-output": true,
    "_uuid": "8f2839f25d086af736a60e9eeb907d3b93b6e0e5",
    "execution": {
     "iopub.execute_input": "2023-10-22T15:46:15.857437Z",
     "iopub.status.busy": "2023-10-22T15:46:15.856705Z",
     "iopub.status.idle": "2023-10-22T15:46:18.255111Z",
     "shell.execute_reply": "2023-10-22T15:46:18.254128Z"
    },
    "papermill": {
     "duration": 2.4279,
     "end_time": "2023-10-22T15:46:18.257945",
     "exception": false,
     "start_time": "2023-10-22T15:46:15.830045",
     "status": "completed"
    },
    "tags": []
   },
   "outputs": [],
   "source": [
    "# Import numpy library and rename it 'np'\n",
    "import numpy as np \n",
    "# Import panda library and rename it 'pd'\n",
    "import pandas as pd \n",
    "# To configure the Pandas library so that it displays all columns and avoid truncation (...)\n",
    "pd.set_option('display.max_columns', None)\n",
    "\n",
    "# Import matplotlib and give alias 'plt'\n",
    "# Uses pyplot for interactive plots and simple cases of programmatic plot generation\n",
    "import matplotlib.pyplot as plt\n",
    "plt.rcParams.update({'font.size': 18}) # Font size for all elements in the table\n",
    "#plt.style.use('fivethirtyeight') replicates the styles from FiveThirtyEight.com\n",
    "\n",
    "import xgboost as xgb\n",
    "## https://matplotlib.org/stable/users/explain/customizing.html\n",
    "\n",
    "# Imports seaborn and give alias 'sns'\n",
    "import seaborn as sns\n",
    "sns.set(font_scale=1.5)\n",
    "\n",
    "# Imports scikitlearn without any alias but the output is transformed to work in pandas\n",
    "import sklearn\n",
    "sklearn.set_config(transform_output=\"pandas\")\n",
    "\n",
    "# suppress eli5 warning\n",
    "import warnings\n",
    "warnings.filterwarnings(\"ignore\")"
   ]
  },
  {
   "cell_type": "markdown",
   "id": "42e44f6a",
   "metadata": {
    "papermill": {
     "duration": 0.025538,
     "end_time": "2023-10-22T15:46:18.308371",
     "exception": false,
     "start_time": "2023-10-22T15:46:18.282833",
     "status": "completed"
    },
    "tags": []
   },
   "source": [
    "### Leer el fichero que contiene el dataset\n",
    "[`pandas.read_csv`](https://pandas.pydata.org/pandas-docs/stable/reference/api/pandas.read_csv.html)"
   ]
  },
  {
   "cell_type": "code",
   "execution_count": 2,
   "id": "75d9dacc",
   "metadata": {
    "execution": {
     "iopub.execute_input": "2023-10-22T15:46:18.360691Z",
     "iopub.status.busy": "2023-10-22T15:46:18.359483Z",
     "iopub.status.idle": "2023-10-22T15:46:18.422091Z",
     "shell.execute_reply": "2023-10-22T15:46:18.420864Z"
    },
    "papermill": {
     "duration": 0.091802,
     "end_time": "2023-10-22T15:46:18.424880",
     "exception": false,
     "start_time": "2023-10-22T15:46:18.333078",
     "status": "completed"
    },
    "tags": []
   },
   "outputs": [],
   "source": [
    "# Here we are telling pandas to read our dataset and saving it as a variable 'dataset'\n",
    "dataset = pd.read_csv(\"/kaggle/input/big-data-granada-precio-de-pisos-competicin/train.csv\", index_col=\"piso_id\")\n",
    "\n",
    "# We list the index column that starts with 0 as 'piso_id'"
   ]
  },
  {
   "cell_type": "markdown",
   "id": "19577951",
   "metadata": {
    "papermill": {
     "duration": 0.02425,
     "end_time": "2023-10-22T15:46:18.473832",
     "exception": false,
     "start_time": "2023-10-22T15:46:18.449582",
     "status": "completed"
    },
    "tags": []
   },
   "source": [
    "# Parte 1a: EDA: Análisis exploratorio de datos\n",
    "\n",
    "[`pandas.DataFrame.shape`](https://pandas.pydata.org/pandas-docs/stable/reference/api/pandas.DataFrame.shape.html)dataset.shape"
   ]
  },
  {
   "cell_type": "code",
   "execution_count": 3,
   "id": "e9a47e92",
   "metadata": {
    "execution": {
     "iopub.execute_input": "2023-10-22T15:46:18.525322Z",
     "iopub.status.busy": "2023-10-22T15:46:18.524056Z",
     "iopub.status.idle": "2023-10-22T15:46:18.532000Z",
     "shell.execute_reply": "2023-10-22T15:46:18.530944Z"
    },
    "papermill": {
     "duration": 0.03583,
     "end_time": "2023-10-22T15:46:18.534164",
     "exception": false,
     "start_time": "2023-10-22T15:46:18.498334",
     "status": "completed"
    },
    "tags": []
   },
   "outputs": [
    {
     "data": {
      "text/plain": [
       "(10852, 16)"
      ]
     },
     "execution_count": 3,
     "metadata": {},
     "output_type": "execute_result"
    }
   ],
   "source": [
    "# We've called our dataframe 'dataset'\n",
    "# Before we start working, we want to know how many rows and colums we are working with\n",
    "dataset.shape"
   ]
  },
  {
   "cell_type": "markdown",
   "id": "9700f401",
   "metadata": {
    "papermill": {
     "duration": 0.024936,
     "end_time": "2023-10-22T15:46:18.583812",
     "exception": false,
     "start_time": "2023-10-22T15:46:18.558876",
     "status": "completed"
    },
    "tags": []
   },
   "source": [
    "### ¿El *target* (en este caso la columna `precios`) es binario (`0` o `1`) o continuo? Es decir, ¿es una problema de clasificacion  o regresión? [(Info)](https://www.springboard.com/blog/data-science/regression-vs-classification/)\n",
    "\n",
    "[**Variable types**](https://www.codecademy.com/learn/stats-variable-types/modules/stats-variable-types/cheatsheet)can be either quantitative or categorical. *Quantitative variables* are amounts or counts; for example, age, number of children, and income are all quantitative variables. *Categorical variables* represent groupings; for example, type of pet, agreement rating, and brand of shoes are all categorical variables.\n",
    "\n",
    "**Quantitative variables** are numeric in nature and can be either *continuous* or *discrete*. \n",
    "    a. *Continuous variables*: contain measurements with decimal precision, for example the height or weight of a person.\n",
    "    b. *Discrete variables*: contain counts that must be whole integer values, such as the number of members in a person’s family, or the number of goals a basketball team scored in a game.\n",
    "\n",
    "**Categorical Variables** consist of data that can be grouped into distinct categories, and are *ordinal* or *nominal*.\n",
    "    a. *Ordinal Categorical Variables*: \n",
    "    b. *Nominal Categorical variables*:\n",
    "    c. *Binary Categorical variables*:\n",
    "\n",
    "\n",
    "\n"
   ]
  },
  {
   "cell_type": "code",
   "execution_count": 4,
   "id": "076359e4",
   "metadata": {
    "execution": {
     "iopub.execute_input": "2023-10-22T15:46:18.696979Z",
     "iopub.status.busy": "2023-10-22T15:46:18.696589Z",
     "iopub.status.idle": "2023-10-22T15:46:18.706591Z",
     "shell.execute_reply": "2023-10-22T15:46:18.705198Z"
    },
    "papermill": {
     "duration": 0.099157,
     "end_time": "2023-10-22T15:46:18.708870",
     "exception": false,
     "start_time": "2023-10-22T15:46:18.609713",
     "status": "completed"
    },
    "tags": []
   },
   "outputs": [
    {
     "name": "stdout",
     "output_type": "stream",
     "text": [
      "Printing a single column from our dataset: Precio\n",
      "precio\n",
      "550000     104\n",
      "650000      85\n",
      "135000      85\n",
      "350000      78\n",
      "260000      76\n",
      "          ... \n",
      "581500       1\n",
      "1225000      1\n",
      "264900       1\n",
      "789650       1\n",
      "399999       1\n",
      "Name: count, Length: 1561, dtype: int64\n"
     ]
    }
   ],
   "source": [
    "# Listing single column from our dataframe using 'dataframe['column_name']'\n",
    "print(\"Printing a single column from our dataset: Precio\")\n",
    "print(dataset[\"precio\"].value_counts())\n",
    "# Value counts are the frequency of unique values in a column of a dataframe"
   ]
  },
  {
   "cell_type": "markdown",
   "id": "d81ac213",
   "metadata": {
    "papermill": {
     "duration": 0.024803,
     "end_time": "2023-10-22T15:46:18.759575",
     "exception": false,
     "start_time": "2023-10-22T15:46:18.734772",
     "status": "completed"
    },
    "tags": []
   },
   "source": [
    "### Echar un vistazo a los datos"
   ]
  },
  {
   "cell_type": "code",
   "execution_count": 5,
   "id": "a6a3b247",
   "metadata": {
    "execution": {
     "iopub.execute_input": "2023-10-22T15:46:18.811449Z",
     "iopub.status.busy": "2023-10-22T15:46:18.811022Z",
     "iopub.status.idle": "2023-10-22T15:46:18.846782Z",
     "shell.execute_reply": "2023-10-22T15:46:18.845662Z"
    },
    "papermill": {
     "duration": 0.064239,
     "end_time": "2023-10-22T15:46:18.848975",
     "exception": false,
     "start_time": "2023-10-22T15:46:18.784736",
     "status": "completed"
    },
    "tags": []
   },
   "outputs": [
    {
     "data": {
      "text/html": [
       "<div>\n",
       "<style scoped>\n",
       "    .dataframe tbody tr th:only-of-type {\n",
       "        vertical-align: middle;\n",
       "    }\n",
       "\n",
       "    .dataframe tbody tr th {\n",
       "        vertical-align: top;\n",
       "    }\n",
       "\n",
       "    .dataframe thead th {\n",
       "        text-align: right;\n",
       "    }\n",
       "</style>\n",
       "<table border=\"1\" class=\"dataframe\">\n",
       "  <thead>\n",
       "    <tr style=\"text-align: right;\">\n",
       "      <th></th>\n",
       "      <th>m2_edificados</th>\n",
       "      <th>m2_útiles</th>\n",
       "      <th>n_habitaciones</th>\n",
       "      <th>n_baños</th>\n",
       "      <th>planta</th>\n",
       "      <th>precio_alquiler</th>\n",
       "      <th>precio_zona</th>\n",
       "      <th>necesita_reforma</th>\n",
       "      <th>nueva_construcción</th>\n",
       "      <th>año_construción</th>\n",
       "      <th>ascensor</th>\n",
       "      <th>exterior</th>\n",
       "      <th>aparcamiento</th>\n",
       "      <th>precio_aparcamiento</th>\n",
       "      <th>orientación</th>\n",
       "      <th>precio</th>\n",
       "    </tr>\n",
       "    <tr>\n",
       "      <th>piso_id</th>\n",
       "      <th></th>\n",
       "      <th></th>\n",
       "      <th></th>\n",
       "      <th></th>\n",
       "      <th></th>\n",
       "      <th></th>\n",
       "      <th></th>\n",
       "      <th></th>\n",
       "      <th></th>\n",
       "      <th></th>\n",
       "      <th></th>\n",
       "      <th></th>\n",
       "      <th></th>\n",
       "      <th></th>\n",
       "      <th></th>\n",
       "      <th></th>\n",
       "    </tr>\n",
       "  </thead>\n",
       "  <tbody>\n",
       "    <tr>\n",
       "      <th>0</th>\n",
       "      <td>114.0</td>\n",
       "      <td>104.0</td>\n",
       "      <td>4</td>\n",
       "      <td>2</td>\n",
       "      <td>7</td>\n",
       "      <td>881.0</td>\n",
       "      <td>1658</td>\n",
       "      <td>1</td>\n",
       "      <td>0</td>\n",
       "      <td>1970.0</td>\n",
       "      <td>1</td>\n",
       "      <td>1</td>\n",
       "      <td>0</td>\n",
       "      <td>NaN</td>\n",
       "      <td>este</td>\n",
       "      <td>189000</td>\n",
       "    </tr>\n",
       "    <tr>\n",
       "      <th>1</th>\n",
       "      <td>85.0</td>\n",
       "      <td>70.0</td>\n",
       "      <td>2</td>\n",
       "      <td>2</td>\n",
       "      <td>3</td>\n",
       "      <td>NaN</td>\n",
       "      <td>6588</td>\n",
       "      <td>1</td>\n",
       "      <td>0</td>\n",
       "      <td>NaN</td>\n",
       "      <td>1</td>\n",
       "      <td>1</td>\n",
       "      <td>0</td>\n",
       "      <td>NaN</td>\n",
       "      <td>desconocido</td>\n",
       "      <td>560000</td>\n",
       "    </tr>\n",
       "    <tr>\n",
       "      <th>2</th>\n",
       "      <td>340.0</td>\n",
       "      <td>299.0</td>\n",
       "      <td>6</td>\n",
       "      <td>4</td>\n",
       "      <td>3</td>\n",
       "      <td>2516.0</td>\n",
       "      <td>2882</td>\n",
       "      <td>0</td>\n",
       "      <td>0</td>\n",
       "      <td>1989.0</td>\n",
       "      <td>1</td>\n",
       "      <td>1</td>\n",
       "      <td>1</td>\n",
       "      <td>0.0</td>\n",
       "      <td>este</td>\n",
       "      <td>980000</td>\n",
       "    </tr>\n",
       "    <tr>\n",
       "      <th>3</th>\n",
       "      <td>51.0</td>\n",
       "      <td>49.0</td>\n",
       "      <td>2</td>\n",
       "      <td>1</td>\n",
       "      <td>4</td>\n",
       "      <td>777.0</td>\n",
       "      <td>3118</td>\n",
       "      <td>0</td>\n",
       "      <td>0</td>\n",
       "      <td>1965.0</td>\n",
       "      <td>0</td>\n",
       "      <td>1</td>\n",
       "      <td>0</td>\n",
       "      <td>NaN</td>\n",
       "      <td>sur</td>\n",
       "      <td>159000</td>\n",
       "    </tr>\n",
       "    <tr>\n",
       "      <th>4</th>\n",
       "      <td>210.0</td>\n",
       "      <td>NaN</td>\n",
       "      <td>3</td>\n",
       "      <td>3</td>\n",
       "      <td>1</td>\n",
       "      <td>NaN</td>\n",
       "      <td>8524</td>\n",
       "      <td>0</td>\n",
       "      <td>0</td>\n",
       "      <td>NaN</td>\n",
       "      <td>1</td>\n",
       "      <td>1</td>\n",
       "      <td>0</td>\n",
       "      <td>NaN</td>\n",
       "      <td>desconocido</td>\n",
       "      <td>1790000</td>\n",
       "    </tr>\n",
       "    <tr>\n",
       "      <th>...</th>\n",
       "      <td>...</td>\n",
       "      <td>...</td>\n",
       "      <td>...</td>\n",
       "      <td>...</td>\n",
       "      <td>...</td>\n",
       "      <td>...</td>\n",
       "      <td>...</td>\n",
       "      <td>...</td>\n",
       "      <td>...</td>\n",
       "      <td>...</td>\n",
       "      <td>...</td>\n",
       "      <td>...</td>\n",
       "      <td>...</td>\n",
       "      <td>...</td>\n",
       "      <td>...</td>\n",
       "      <td>...</td>\n",
       "    </tr>\n",
       "    <tr>\n",
       "      <th>10847</th>\n",
       "      <td>204.0</td>\n",
       "      <td>NaN</td>\n",
       "      <td>4</td>\n",
       "      <td>3</td>\n",
       "      <td>5</td>\n",
       "      <td>2417.0</td>\n",
       "      <td>4167</td>\n",
       "      <td>0</td>\n",
       "      <td>0</td>\n",
       "      <td>NaN</td>\n",
       "      <td>1</td>\n",
       "      <td>1</td>\n",
       "      <td>1</td>\n",
       "      <td>0.0</td>\n",
       "      <td>desconocido</td>\n",
       "      <td>850000</td>\n",
       "    </tr>\n",
       "    <tr>\n",
       "      <th>10848</th>\n",
       "      <td>100.0</td>\n",
       "      <td>NaN</td>\n",
       "      <td>4</td>\n",
       "      <td>2</td>\n",
       "      <td>-1</td>\n",
       "      <td>1438.0</td>\n",
       "      <td>3995</td>\n",
       "      <td>0</td>\n",
       "      <td>0</td>\n",
       "      <td>NaN</td>\n",
       "      <td>1</td>\n",
       "      <td>1</td>\n",
       "      <td>0</td>\n",
       "      <td>NaN</td>\n",
       "      <td>este</td>\n",
       "      <td>399500</td>\n",
       "    </tr>\n",
       "    <tr>\n",
       "      <th>10849</th>\n",
       "      <td>64.0</td>\n",
       "      <td>55.0</td>\n",
       "      <td>2</td>\n",
       "      <td>1</td>\n",
       "      <td>1</td>\n",
       "      <td>1006.0</td>\n",
       "      <td>3578</td>\n",
       "      <td>0</td>\n",
       "      <td>0</td>\n",
       "      <td>2017.0</td>\n",
       "      <td>1</td>\n",
       "      <td>1</td>\n",
       "      <td>1</td>\n",
       "      <td>40000.0</td>\n",
       "      <td>desconocido</td>\n",
       "      <td>229000</td>\n",
       "    </tr>\n",
       "    <tr>\n",
       "      <th>10850</th>\n",
       "      <td>260.0</td>\n",
       "      <td>224.0</td>\n",
       "      <td>5</td>\n",
       "      <td>3</td>\n",
       "      <td>3</td>\n",
       "      <td>2489.0</td>\n",
       "      <td>3500</td>\n",
       "      <td>0</td>\n",
       "      <td>0</td>\n",
       "      <td>NaN</td>\n",
       "      <td>1</td>\n",
       "      <td>1</td>\n",
       "      <td>1</td>\n",
       "      <td>0.0</td>\n",
       "      <td>este</td>\n",
       "      <td>910000</td>\n",
       "    </tr>\n",
       "    <tr>\n",
       "      <th>10851</th>\n",
       "      <td>70.0</td>\n",
       "      <td>NaN</td>\n",
       "      <td>2</td>\n",
       "      <td>2</td>\n",
       "      <td>3</td>\n",
       "      <td>NaN</td>\n",
       "      <td>6000</td>\n",
       "      <td>0</td>\n",
       "      <td>0</td>\n",
       "      <td>NaN</td>\n",
       "      <td>1</td>\n",
       "      <td>0</td>\n",
       "      <td>0</td>\n",
       "      <td>NaN</td>\n",
       "      <td>desconocido</td>\n",
       "      <td>420000</td>\n",
       "    </tr>\n",
       "  </tbody>\n",
       "</table>\n",
       "<p>10852 rows × 16 columns</p>\n",
       "</div>"
      ],
      "text/plain": [
       "         m2_edificados  m2_útiles  n_habitaciones  n_baños  planta  \\\n",
       "piso_id                                                              \n",
       "0                114.0      104.0               4        2       7   \n",
       "1                 85.0       70.0               2        2       3   \n",
       "2                340.0      299.0               6        4       3   \n",
       "3                 51.0       49.0               2        1       4   \n",
       "4                210.0        NaN               3        3       1   \n",
       "...                ...        ...             ...      ...     ...   \n",
       "10847            204.0        NaN               4        3       5   \n",
       "10848            100.0        NaN               4        2      -1   \n",
       "10849             64.0       55.0               2        1       1   \n",
       "10850            260.0      224.0               5        3       3   \n",
       "10851             70.0        NaN               2        2       3   \n",
       "\n",
       "         precio_alquiler  precio_zona  necesita_reforma  nueva_construcción  \\\n",
       "piso_id                                                                       \n",
       "0                  881.0         1658                 1                   0   \n",
       "1                    NaN         6588                 1                   0   \n",
       "2                 2516.0         2882                 0                   0   \n",
       "3                  777.0         3118                 0                   0   \n",
       "4                    NaN         8524                 0                   0   \n",
       "...                  ...          ...               ...                 ...   \n",
       "10847             2417.0         4167                 0                   0   \n",
       "10848             1438.0         3995                 0                   0   \n",
       "10849             1006.0         3578                 0                   0   \n",
       "10850             2489.0         3500                 0                   0   \n",
       "10851                NaN         6000                 0                   0   \n",
       "\n",
       "         año_construción  ascensor  exterior  aparcamiento  \\\n",
       "piso_id                                                      \n",
       "0                 1970.0         1         1             0   \n",
       "1                    NaN         1         1             0   \n",
       "2                 1989.0         1         1             1   \n",
       "3                 1965.0         0         1             0   \n",
       "4                    NaN         1         1             0   \n",
       "...                  ...       ...       ...           ...   \n",
       "10847                NaN         1         1             1   \n",
       "10848                NaN         1         1             0   \n",
       "10849             2017.0         1         1             1   \n",
       "10850                NaN         1         1             1   \n",
       "10851                NaN         1         0             0   \n",
       "\n",
       "         precio_aparcamiento  orientación   precio  \n",
       "piso_id                                             \n",
       "0                        NaN         este   189000  \n",
       "1                        NaN  desconocido   560000  \n",
       "2                        0.0         este   980000  \n",
       "3                        NaN          sur   159000  \n",
       "4                        NaN  desconocido  1790000  \n",
       "...                      ...          ...      ...  \n",
       "10847                    0.0  desconocido   850000  \n",
       "10848                    NaN         este   399500  \n",
       "10849                40000.0  desconocido   229000  \n",
       "10850                    0.0         este   910000  \n",
       "10851                    NaN  desconocido   420000  \n",
       "\n",
       "[10852 rows x 16 columns]"
      ]
     },
     "execution_count": 5,
     "metadata": {},
     "output_type": "execute_result"
    }
   ],
   "source": [
    "dataset"
   ]
  },
  {
   "cell_type": "markdown",
   "id": "e6d1ef5d",
   "metadata": {
    "papermill": {
     "duration": 0.025243,
     "end_time": "2023-10-22T15:46:18.900034",
     "exception": false,
     "start_time": "2023-10-22T15:46:18.874791",
     "status": "completed"
    },
    "tags": []
   },
   "source": [
    "[`pandas.DataFrame.columns`](https://pandas.pydata.org/docs/reference/api/pandas.DataFrame.columns.html)"
   ]
  },
  {
   "cell_type": "code",
   "execution_count": 6,
   "id": "1f1625c1",
   "metadata": {
    "execution": {
     "iopub.execute_input": "2023-10-22T15:46:18.953585Z",
     "iopub.status.busy": "2023-10-22T15:46:18.953167Z",
     "iopub.status.idle": "2023-10-22T15:46:18.972116Z",
     "shell.execute_reply": "2023-10-22T15:46:18.970958Z"
    },
    "papermill": {
     "duration": 0.04867,
     "end_time": "2023-10-22T15:46:18.974526",
     "exception": false,
     "start_time": "2023-10-22T15:46:18.925856",
     "status": "completed"
    },
    "tags": []
   },
   "outputs": [
    {
     "data": {
      "text/plain": [
       "<bound method DataFrame.isnull of          m2_edificados  m2_útiles  n_habitaciones  n_baños  planta  \\\n",
       "piso_id                                                              \n",
       "0                114.0      104.0               4        2       7   \n",
       "1                 85.0       70.0               2        2       3   \n",
       "2                340.0      299.0               6        4       3   \n",
       "3                 51.0       49.0               2        1       4   \n",
       "4                210.0        NaN               3        3       1   \n",
       "...                ...        ...             ...      ...     ...   \n",
       "10847            204.0        NaN               4        3       5   \n",
       "10848            100.0        NaN               4        2      -1   \n",
       "10849             64.0       55.0               2        1       1   \n",
       "10850            260.0      224.0               5        3       3   \n",
       "10851             70.0        NaN               2        2       3   \n",
       "\n",
       "         precio_alquiler  precio_zona  necesita_reforma  nueva_construcción  \\\n",
       "piso_id                                                                       \n",
       "0                  881.0         1658                 1                   0   \n",
       "1                    NaN         6588                 1                   0   \n",
       "2                 2516.0         2882                 0                   0   \n",
       "3                  777.0         3118                 0                   0   \n",
       "4                    NaN         8524                 0                   0   \n",
       "...                  ...          ...               ...                 ...   \n",
       "10847             2417.0         4167                 0                   0   \n",
       "10848             1438.0         3995                 0                   0   \n",
       "10849             1006.0         3578                 0                   0   \n",
       "10850             2489.0         3500                 0                   0   \n",
       "10851                NaN         6000                 0                   0   \n",
       "\n",
       "         año_construción  ascensor  exterior  aparcamiento  \\\n",
       "piso_id                                                      \n",
       "0                 1970.0         1         1             0   \n",
       "1                    NaN         1         1             0   \n",
       "2                 1989.0         1         1             1   \n",
       "3                 1965.0         0         1             0   \n",
       "4                    NaN         1         1             0   \n",
       "...                  ...       ...       ...           ...   \n",
       "10847                NaN         1         1             1   \n",
       "10848                NaN         1         1             0   \n",
       "10849             2017.0         1         1             1   \n",
       "10850                NaN         1         1             1   \n",
       "10851                NaN         1         0             0   \n",
       "\n",
       "         precio_aparcamiento  orientación   precio  \n",
       "piso_id                                             \n",
       "0                        NaN         este   189000  \n",
       "1                        NaN  desconocido   560000  \n",
       "2                        0.0         este   980000  \n",
       "3                        NaN          sur   159000  \n",
       "4                        NaN  desconocido  1790000  \n",
       "...                      ...          ...      ...  \n",
       "10847                    0.0  desconocido   850000  \n",
       "10848                    NaN         este   399500  \n",
       "10849                40000.0  desconocido   229000  \n",
       "10850                    0.0         este   910000  \n",
       "10851                    NaN  desconocido   420000  \n",
       "\n",
       "[10852 rows x 16 columns]>"
      ]
     },
     "execution_count": 6,
     "metadata": {},
     "output_type": "execute_result"
    }
   ],
   "source": [
    "# All values are replaced with a Boolean value True for NULL values, and otherwise False\n",
    "dataset.isnull"
   ]
  },
  {
   "cell_type": "code",
   "execution_count": 7,
   "id": "5f12d37a",
   "metadata": {
    "execution": {
     "iopub.execute_input": "2023-10-22T15:46:19.028964Z",
     "iopub.status.busy": "2023-10-22T15:46:19.028317Z",
     "iopub.status.idle": "2023-10-22T15:46:19.035967Z",
     "shell.execute_reply": "2023-10-22T15:46:19.034892Z"
    },
    "papermill": {
     "duration": 0.037425,
     "end_time": "2023-10-22T15:46:19.038091",
     "exception": false,
     "start_time": "2023-10-22T15:46:19.000666",
     "status": "completed"
    },
    "tags": []
   },
   "outputs": [
    {
     "data": {
      "text/plain": [
       "Index(['m2_edificados', 'm2_útiles', 'n_habitaciones', 'n_baños', 'planta',\n",
       "       'precio_alquiler', 'precio_zona', 'necesita_reforma',\n",
       "       'nueva_construcción', 'año_construción', 'ascensor', 'exterior',\n",
       "       'aparcamiento', 'precio_aparcamiento', 'orientación', 'precio'],\n",
       "      dtype='object')"
      ]
     },
     "execution_count": 7,
     "metadata": {},
     "output_type": "execute_result"
    }
   ],
   "source": [
    "# Returns the column labels of the given dataframe\n",
    "dataset.columns"
   ]
  },
  {
   "cell_type": "markdown",
   "id": "350ea4e3",
   "metadata": {
    "papermill": {
     "duration": 0.025694,
     "end_time": "2023-10-22T15:46:19.089865",
     "exception": false,
     "start_time": "2023-10-22T15:46:19.064171",
     "status": "completed"
    },
    "tags": []
   },
   "source": [
    "### ejemplo de como calcular la mínima, máxima y varianza de una columna"
   ]
  },
  {
   "cell_type": "code",
   "execution_count": 8,
   "id": "358f9df9",
   "metadata": {
    "execution": {
     "iopub.execute_input": "2023-10-22T15:46:19.144577Z",
     "iopub.status.busy": "2023-10-22T15:46:19.143930Z",
     "iopub.status.idle": "2023-10-22T15:46:19.152622Z",
     "shell.execute_reply": "2023-10-22T15:46:19.151310Z"
    },
    "papermill": {
     "duration": 0.039422,
     "end_time": "2023-10-22T15:46:19.155363",
     "exception": false,
     "start_time": "2023-10-22T15:46:19.115941",
     "status": "completed"
    },
    "tags": []
   },
   "outputs": [
    {
     "name": "stdout",
     "output_type": "stream",
     "text": [
      "min: 0.0\n",
      "max: 2517.0\n",
      "var: 434516.91315912845\n"
     ]
    }
   ],
   "source": [
    "# Replace [\"column_name\"]\n",
    "# print(\"min:\", dataset[\"m2_útiles\"].min())\n",
    "# print(\"max:\", dataset[\"m2_útiles\"].max())\n",
    "# print(\"var:\", dataset[\"m2_útiles\"].var())\n",
    "\n",
    "print(\"min:\", dataset[\"precio_alquiler\"].min())\n",
    "print(\"max:\", dataset[\"precio_alquiler\"].max())\n",
    "print(\"var:\", dataset[\"precio_alquiler\"].var())"
   ]
  },
  {
   "cell_type": "markdown",
   "id": "6e0644b9",
   "metadata": {
    "papermill": {
     "duration": 0.02582,
     "end_time": "2023-10-22T15:46:19.207647",
     "exception": false,
     "start_time": "2023-10-22T15:46:19.181827",
     "status": "completed"
    },
    "tags": []
   },
   "source": [
    "### Estadísticas descriptivas\n",
    "[`pandas.DataFrame.describe`](https://pandas.pydata.org/pandas-docs/stable/reference/api/pandas.DataFrame.describe.html)"
   ]
  },
  {
   "cell_type": "code",
   "execution_count": 9,
   "id": "b871449c",
   "metadata": {
    "execution": {
     "iopub.execute_input": "2023-10-22T15:46:19.262136Z",
     "iopub.status.busy": "2023-10-22T15:46:19.261776Z",
     "iopub.status.idle": "2023-10-22T15:46:19.440298Z",
     "shell.execute_reply": "2023-10-22T15:46:19.439087Z"
    },
    "papermill": {
     "duration": 0.209059,
     "end_time": "2023-10-22T15:46:19.442984",
     "exception": false,
     "start_time": "2023-10-22T15:46:19.233925",
     "status": "completed"
    },
    "tags": []
   },
   "outputs": [
    {
     "data": {
      "text/html": [
       "<style type=\"text/css\">\n",
       "#T_4c093_row0_col0, #T_4c093_row1_col0, #T_4c093_row2_col0, #T_4c093_row3_col0, #T_4c093_row4_col0, #T_4c093_row5_col0, #T_4c093_row6_col7, #T_4c093_row7_col0, #T_4c093_row8_col0, #T_4c093_row9_col7, #T_4c093_row10_col0, #T_4c093_row11_col0, #T_4c093_row12_col0, #T_4c093_row13_col7, #T_4c093_row14_col7 {\n",
       "  background-color: #49006a;\n",
       "  color: #f1f1f1;\n",
       "}\n",
       "#T_4c093_row0_col1, #T_4c093_row0_col2, #T_4c093_row0_col4, #T_4c093_row0_col5, #T_4c093_row0_col6, #T_4c093_row13_col0, #T_4c093_row13_col1 {\n",
       "  background-color: #fff6f2;\n",
       "  color: #000000;\n",
       "}\n",
       "#T_4c093_row0_col3, #T_4c093_row1_col3, #T_4c093_row2_col1, #T_4c093_row2_col2, #T_4c093_row2_col3, #T_4c093_row2_col4, #T_4c093_row2_col5, #T_4c093_row2_col6, #T_4c093_row2_col7, #T_4c093_row3_col1, #T_4c093_row3_col2, #T_4c093_row3_col3, #T_4c093_row3_col4, #T_4c093_row3_col5, #T_4c093_row3_col6, #T_4c093_row3_col7, #T_4c093_row4_col1, #T_4c093_row4_col2, #T_4c093_row4_col3, #T_4c093_row4_col4, #T_4c093_row4_col5, #T_4c093_row4_col6, #T_4c093_row4_col7, #T_4c093_row5_col3, #T_4c093_row6_col3, #T_4c093_row7_col1, #T_4c093_row7_col2, #T_4c093_row7_col3, #T_4c093_row7_col4, #T_4c093_row7_col5, #T_4c093_row7_col6, #T_4c093_row7_col7, #T_4c093_row8_col1, #T_4c093_row8_col2, #T_4c093_row8_col3, #T_4c093_row8_col4, #T_4c093_row8_col5, #T_4c093_row8_col6, #T_4c093_row8_col7, #T_4c093_row9_col2, #T_4c093_row10_col1, #T_4c093_row10_col2, #T_4c093_row10_col3, #T_4c093_row10_col4, #T_4c093_row10_col5, #T_4c093_row10_col6, #T_4c093_row10_col7, #T_4c093_row11_col1, #T_4c093_row11_col2, #T_4c093_row11_col3, #T_4c093_row11_col4, #T_4c093_row11_col5, #T_4c093_row11_col6, #T_4c093_row11_col7, #T_4c093_row12_col1, #T_4c093_row12_col2, #T_4c093_row12_col3, #T_4c093_row12_col4, #T_4c093_row12_col5, #T_4c093_row12_col6, #T_4c093_row12_col7, #T_4c093_row13_col3, #T_4c093_row13_col4, #T_4c093_row13_col5, #T_4c093_row13_col6, #T_4c093_row14_col0, #T_4c093_row14_col3 {\n",
       "  background-color: #fff7f3;\n",
       "  color: #000000;\n",
       "}\n",
       "#T_4c093_row0_col7, #T_4c093_row6_col2 {\n",
       "  background-color: #fee9e5;\n",
       "  color: #000000;\n",
       "}\n",
       "#T_4c093_row1_col1, #T_4c093_row14_col4 {\n",
       "  background-color: #fff3f0;\n",
       "  color: #000000;\n",
       "}\n",
       "#T_4c093_row1_col2, #T_4c093_row1_col4 {\n",
       "  background-color: #fff5f1;\n",
       "  color: #000000;\n",
       "}\n",
       "#T_4c093_row1_col5 {\n",
       "  background-color: #fff4f0;\n",
       "  color: #000000;\n",
       "}\n",
       "#T_4c093_row1_col6 {\n",
       "  background-color: #fff3ef;\n",
       "  color: #000000;\n",
       "}\n",
       "#T_4c093_row1_col7 {\n",
       "  background-color: #fde0dd;\n",
       "  color: #000000;\n",
       "}\n",
       "#T_4c093_row5_col1 {\n",
       "  background-color: #fdddd9;\n",
       "  color: #000000;\n",
       "}\n",
       "#T_4c093_row5_col2, #T_4c093_row14_col6 {\n",
       "  background-color: #fee9e6;\n",
       "  color: #000000;\n",
       "}\n",
       "#T_4c093_row5_col4 {\n",
       "  background-color: #fee7e4;\n",
       "  color: #000000;\n",
       "}\n",
       "#T_4c093_row5_col5 {\n",
       "  background-color: #fddfdc;\n",
       "  color: #000000;\n",
       "}\n",
       "#T_4c093_row5_col6, #T_4c093_row6_col1 {\n",
       "  background-color: #fcd1cd;\n",
       "  color: #000000;\n",
       "}\n",
       "#T_4c093_row5_col7 {\n",
       "  background-color: #fbb9bc;\n",
       "  color: #000000;\n",
       "}\n",
       "#T_4c093_row6_col0 {\n",
       "  background-color: #ea4d9c;\n",
       "  color: #f1f1f1;\n",
       "}\n",
       "#T_4c093_row6_col4 {\n",
       "  background-color: #fde2df;\n",
       "  color: #000000;\n",
       "}\n",
       "#T_4c093_row6_col5 {\n",
       "  background-color: #fdd4d0;\n",
       "  color: #000000;\n",
       "}\n",
       "#T_4c093_row6_col6 {\n",
       "  background-color: #fcc5c0;\n",
       "  color: #000000;\n",
       "}\n",
       "#T_4c093_row9_col0 {\n",
       "  background-color: #df3898;\n",
       "  color: #f1f1f1;\n",
       "}\n",
       "#T_4c093_row9_col1, #T_4c093_row9_col4, #T_4c093_row9_col5, #T_4c093_row9_col6 {\n",
       "  background-color: #fcc9c4;\n",
       "  color: #000000;\n",
       "}\n",
       "#T_4c093_row9_col3 {\n",
       "  background-color: #fccdc9;\n",
       "  color: #000000;\n",
       "}\n",
       "#T_4c093_row13_col2 {\n",
       "  background-color: #fef1ed;\n",
       "  color: #000000;\n",
       "}\n",
       "#T_4c093_row14_col1 {\n",
       "  background-color: #feebe8;\n",
       "  color: #000000;\n",
       "}\n",
       "#T_4c093_row14_col2 {\n",
       "  background-color: #feebe7;\n",
       "  color: #000000;\n",
       "}\n",
       "#T_4c093_row14_col5 {\n",
       "  background-color: #fef0ec;\n",
       "  color: #000000;\n",
       "}\n",
       "</style>\n",
       "<table id=\"T_4c093\">\n",
       "  <thead>\n",
       "    <tr>\n",
       "      <th class=\"blank level0\" >&nbsp;</th>\n",
       "      <th id=\"T_4c093_level0_col0\" class=\"col_heading level0 col0\" >count</th>\n",
       "      <th id=\"T_4c093_level0_col1\" class=\"col_heading level0 col1\" >mean</th>\n",
       "      <th id=\"T_4c093_level0_col2\" class=\"col_heading level0 col2\" >std</th>\n",
       "      <th id=\"T_4c093_level0_col3\" class=\"col_heading level0 col3\" >min</th>\n",
       "      <th id=\"T_4c093_level0_col4\" class=\"col_heading level0 col4\" >25%</th>\n",
       "      <th id=\"T_4c093_level0_col5\" class=\"col_heading level0 col5\" >50%</th>\n",
       "      <th id=\"T_4c093_level0_col6\" class=\"col_heading level0 col6\" >75%</th>\n",
       "      <th id=\"T_4c093_level0_col7\" class=\"col_heading level0 col7\" >max</th>\n",
       "    </tr>\n",
       "  </thead>\n",
       "  <tbody>\n",
       "    <tr>\n",
       "      <th id=\"T_4c093_level0_row0\" class=\"row_heading level0 row0\" >m2_edificados</th>\n",
       "      <td id=\"T_4c093_row0_col0\" class=\"data row0 col0\" >10852.0</td>\n",
       "      <td id=\"T_4c093_row0_col1\" class=\"data row0 col1\" >120.8</td>\n",
       "      <td id=\"T_4c093_row0_col2\" class=\"data row0 col2\" >82.4</td>\n",
       "      <td id=\"T_4c093_row0_col3\" class=\"data row0 col3\" >18.0</td>\n",
       "      <td id=\"T_4c093_row0_col4\" class=\"data row0 col4\" >70.0</td>\n",
       "      <td id=\"T_4c093_row0_col5\" class=\"data row0 col5\" >95.0</td>\n",
       "      <td id=\"T_4c093_row0_col6\" class=\"data row0 col6\" >141.0</td>\n",
       "      <td id=\"T_4c093_row0_col7\" class=\"data row0 col7\" >894.0</td>\n",
       "    </tr>\n",
       "    <tr>\n",
       "      <th id=\"T_4c093_level0_row1\" class=\"row_heading level0 row1\" >m2_útiles</th>\n",
       "      <td id=\"T_4c093_row1_col0\" class=\"data row1 col0\" >4287.0</td>\n",
       "      <td id=\"T_4c093_row1_col1\" class=\"data row1 col1\" >94.0</td>\n",
       "      <td id=\"T_4c093_row1_col2\" class=\"data row1 col2\" >57.4</td>\n",
       "      <td id=\"T_4c093_row1_col3\" class=\"data row1 col3\" >1.0</td>\n",
       "      <td id=\"T_4c093_row1_col4\" class=\"data row1 col4\" >60.0</td>\n",
       "      <td id=\"T_4c093_row1_col5\" class=\"data row1 col5\" >78.0</td>\n",
       "      <td id=\"T_4c093_row1_col6\" class=\"data row1 col6\" >110.0</td>\n",
       "      <td id=\"T_4c093_row1_col7\" class=\"data row1 col7\" >540.0</td>\n",
       "    </tr>\n",
       "    <tr>\n",
       "      <th id=\"T_4c093_level0_row2\" class=\"row_heading level0 row2\" >n_habitaciones</th>\n",
       "      <td id=\"T_4c093_row2_col0\" class=\"data row2 col0\" >10852.0</td>\n",
       "      <td id=\"T_4c093_row2_col1\" class=\"data row2 col1\" >2.9</td>\n",
       "      <td id=\"T_4c093_row2_col2\" class=\"data row2 col2\" >1.2</td>\n",
       "      <td id=\"T_4c093_row2_col3\" class=\"data row2 col3\" >0.0</td>\n",
       "      <td id=\"T_4c093_row2_col4\" class=\"data row2 col4\" >2.0</td>\n",
       "      <td id=\"T_4c093_row2_col5\" class=\"data row2 col5\" >3.0</td>\n",
       "      <td id=\"T_4c093_row2_col6\" class=\"data row2 col6\" >3.0</td>\n",
       "      <td id=\"T_4c093_row2_col7\" class=\"data row2 col7\" >13.0</td>\n",
       "    </tr>\n",
       "    <tr>\n",
       "      <th id=\"T_4c093_level0_row3\" class=\"row_heading level0 row3\" >n_baños</th>\n",
       "      <td id=\"T_4c093_row3_col0\" class=\"data row3 col0\" >10852.0</td>\n",
       "      <td id=\"T_4c093_row3_col1\" class=\"data row3 col1\" >1.8</td>\n",
       "      <td id=\"T_4c093_row3_col2\" class=\"data row3 col2\" >1.0</td>\n",
       "      <td id=\"T_4c093_row3_col3\" class=\"data row3 col3\" >1.0</td>\n",
       "      <td id=\"T_4c093_row3_col4\" class=\"data row3 col4\" >1.0</td>\n",
       "      <td id=\"T_4c093_row3_col5\" class=\"data row3 col5\" >2.0</td>\n",
       "      <td id=\"T_4c093_row3_col6\" class=\"data row3 col6\" >2.0</td>\n",
       "      <td id=\"T_4c093_row3_col7\" class=\"data row3 col7\" >14.0</td>\n",
       "    </tr>\n",
       "    <tr>\n",
       "      <th id=\"T_4c093_level0_row4\" class=\"row_heading level0 row4\" >planta</th>\n",
       "      <td id=\"T_4c093_row4_col0\" class=\"data row4 col0\" >10852.0</td>\n",
       "      <td id=\"T_4c093_row4_col1\" class=\"data row4 col1\" >2.5</td>\n",
       "      <td id=\"T_4c093_row4_col2\" class=\"data row4 col2\" >2.1</td>\n",
       "      <td id=\"T_4c093_row4_col3\" class=\"data row4 col3\" >-1.0</td>\n",
       "      <td id=\"T_4c093_row4_col4\" class=\"data row4 col4\" >1.0</td>\n",
       "      <td id=\"T_4c093_row4_col5\" class=\"data row4 col5\" >2.0</td>\n",
       "      <td id=\"T_4c093_row4_col6\" class=\"data row4 col6\" >4.0</td>\n",
       "      <td id=\"T_4c093_row4_col7\" class=\"data row4 col7\" >9.0</td>\n",
       "    </tr>\n",
       "    <tr>\n",
       "      <th id=\"T_4c093_level0_row5\" class=\"row_heading level0 row5\" >precio_alquiler</th>\n",
       "      <td id=\"T_4c093_row5_col0\" class=\"data row5 col0\" >8663.0</td>\n",
       "      <td id=\"T_4c093_row5_col1\" class=\"data row5 col1\" >1231.4</td>\n",
       "      <td id=\"T_4c093_row5_col2\" class=\"data row5 col2\" >659.2</td>\n",
       "      <td id=\"T_4c093_row5_col3\" class=\"data row5 col3\" >0.0</td>\n",
       "      <td id=\"T_4c093_row5_col4\" class=\"data row5 col4\" >773.0</td>\n",
       "      <td id=\"T_4c093_row5_col5\" class=\"data row5 col5\" >1148.0</td>\n",
       "      <td id=\"T_4c093_row5_col6\" class=\"data row5 col6\" >1712.0</td>\n",
       "      <td id=\"T_4c093_row5_col7\" class=\"data row5 col7\" >2517.0</td>\n",
       "    </tr>\n",
       "    <tr>\n",
       "      <th id=\"T_4c093_level0_row6\" class=\"row_heading level0 row6\" >precio_zona</th>\n",
       "      <td id=\"T_4c093_row6_col0\" class=\"data row6 col0\" >10852.0</td>\n",
       "      <td id=\"T_4c093_row6_col1\" class=\"data row6 col1\" >4069.3</td>\n",
       "      <td id=\"T_4c093_row6_col2\" class=\"data row6 col2\" >1921.0</td>\n",
       "      <td id=\"T_4c093_row6_col3\" class=\"data row6 col3\" >447.0</td>\n",
       "      <td id=\"T_4c093_row6_col4\" class=\"data row6 col4\" >2566.8</td>\n",
       "      <td id=\"T_4c093_row6_col5\" class=\"data row6 col5\" >3826.5</td>\n",
       "      <td id=\"T_4c093_row6_col6\" class=\"data row6 col6\" >5085.0</td>\n",
       "      <td id=\"T_4c093_row6_col7\" class=\"data row6 col7\" >18889.0</td>\n",
       "    </tr>\n",
       "    <tr>\n",
       "      <th id=\"T_4c093_level0_row7\" class=\"row_heading level0 row7\" >necesita_reforma</th>\n",
       "      <td id=\"T_4c093_row7_col0\" class=\"data row7 col0\" >10852.0</td>\n",
       "      <td id=\"T_4c093_row7_col1\" class=\"data row7 col1\" >0.2</td>\n",
       "      <td id=\"T_4c093_row7_col2\" class=\"data row7 col2\" >0.4</td>\n",
       "      <td id=\"T_4c093_row7_col3\" class=\"data row7 col3\" >0.0</td>\n",
       "      <td id=\"T_4c093_row7_col4\" class=\"data row7 col4\" >0.0</td>\n",
       "      <td id=\"T_4c093_row7_col5\" class=\"data row7 col5\" >0.0</td>\n",
       "      <td id=\"T_4c093_row7_col6\" class=\"data row7 col6\" >0.0</td>\n",
       "      <td id=\"T_4c093_row7_col7\" class=\"data row7 col7\" >1.0</td>\n",
       "    </tr>\n",
       "    <tr>\n",
       "      <th id=\"T_4c093_level0_row8\" class=\"row_heading level0 row8\" >nueva_construcción</th>\n",
       "      <td id=\"T_4c093_row8_col0\" class=\"data row8 col0\" >10852.0</td>\n",
       "      <td id=\"T_4c093_row8_col1\" class=\"data row8 col1\" >0.1</td>\n",
       "      <td id=\"T_4c093_row8_col2\" class=\"data row8 col2\" >0.2</td>\n",
       "      <td id=\"T_4c093_row8_col3\" class=\"data row8 col3\" >0.0</td>\n",
       "      <td id=\"T_4c093_row8_col4\" class=\"data row8 col4\" >0.0</td>\n",
       "      <td id=\"T_4c093_row8_col5\" class=\"data row8 col5\" >0.0</td>\n",
       "      <td id=\"T_4c093_row8_col6\" class=\"data row8 col6\" >0.0</td>\n",
       "      <td id=\"T_4c093_row8_col7\" class=\"data row8 col7\" >1.0</td>\n",
       "    </tr>\n",
       "    <tr>\n",
       "      <th id=\"T_4c093_level0_row9\" class=\"row_heading level0 row9\" >año_construción</th>\n",
       "      <td id=\"T_4c093_row9_col0\" class=\"data row9 col0\" >5067.0</td>\n",
       "      <td id=\"T_4c093_row9_col1\" class=\"data row9 col1\" >1967.5</td>\n",
       "      <td id=\"T_4c093_row9_col2\" class=\"data row9 col2\" >92.4</td>\n",
       "      <td id=\"T_4c093_row9_col3\" class=\"data row9 col3\" >1800.0</td>\n",
       "      <td id=\"T_4c093_row9_col4\" class=\"data row9 col4\" >1955.0</td>\n",
       "      <td id=\"T_4c093_row9_col5\" class=\"data row9 col5\" >1968.0</td>\n",
       "      <td id=\"T_4c093_row9_col6\" class=\"data row9 col6\" >1985.0</td>\n",
       "      <td id=\"T_4c093_row9_col7\" class=\"data row9 col7\" >8170.0</td>\n",
       "    </tr>\n",
       "    <tr>\n",
       "      <th id=\"T_4c093_level0_row10\" class=\"row_heading level0 row10\" >ascensor</th>\n",
       "      <td id=\"T_4c093_row10_col0\" class=\"data row10 col0\" >10852.0</td>\n",
       "      <td id=\"T_4c093_row10_col1\" class=\"data row10 col1\" >0.8</td>\n",
       "      <td id=\"T_4c093_row10_col2\" class=\"data row10 col2\" >0.4</td>\n",
       "      <td id=\"T_4c093_row10_col3\" class=\"data row10 col3\" >0.0</td>\n",
       "      <td id=\"T_4c093_row10_col4\" class=\"data row10 col4\" >1.0</td>\n",
       "      <td id=\"T_4c093_row10_col5\" class=\"data row10 col5\" >1.0</td>\n",
       "      <td id=\"T_4c093_row10_col6\" class=\"data row10 col6\" >1.0</td>\n",
       "      <td id=\"T_4c093_row10_col7\" class=\"data row10 col7\" >1.0</td>\n",
       "    </tr>\n",
       "    <tr>\n",
       "      <th id=\"T_4c093_level0_row11\" class=\"row_heading level0 row11\" >exterior</th>\n",
       "      <td id=\"T_4c093_row11_col0\" class=\"data row11 col0\" >10852.0</td>\n",
       "      <td id=\"T_4c093_row11_col1\" class=\"data row11 col1\" >0.9</td>\n",
       "      <td id=\"T_4c093_row11_col2\" class=\"data row11 col2\" >0.3</td>\n",
       "      <td id=\"T_4c093_row11_col3\" class=\"data row11 col3\" >0.0</td>\n",
       "      <td id=\"T_4c093_row11_col4\" class=\"data row11 col4\" >1.0</td>\n",
       "      <td id=\"T_4c093_row11_col5\" class=\"data row11 col5\" >1.0</td>\n",
       "      <td id=\"T_4c093_row11_col6\" class=\"data row11 col6\" >1.0</td>\n",
       "      <td id=\"T_4c093_row11_col7\" class=\"data row11 col7\" >1.0</td>\n",
       "    </tr>\n",
       "    <tr>\n",
       "      <th id=\"T_4c093_level0_row12\" class=\"row_heading level0 row12\" >aparcamiento</th>\n",
       "      <td id=\"T_4c093_row12_col0\" class=\"data row12 col0\" >10852.0</td>\n",
       "      <td id=\"T_4c093_row12_col1\" class=\"data row12 col1\" >0.3</td>\n",
       "      <td id=\"T_4c093_row12_col2\" class=\"data row12 col2\" >0.5</td>\n",
       "      <td id=\"T_4c093_row12_col3\" class=\"data row12 col3\" >0.0</td>\n",
       "      <td id=\"T_4c093_row12_col4\" class=\"data row12 col4\" >0.0</td>\n",
       "      <td id=\"T_4c093_row12_col5\" class=\"data row12 col5\" >0.0</td>\n",
       "      <td id=\"T_4c093_row12_col6\" class=\"data row12 col6\" >1.0</td>\n",
       "      <td id=\"T_4c093_row12_col7\" class=\"data row12 col7\" >1.0</td>\n",
       "    </tr>\n",
       "    <tr>\n",
       "      <th id=\"T_4c093_level0_row13\" class=\"row_heading level0 row13\" >precio_aparcamiento</th>\n",
       "      <td id=\"T_4c093_row13_col0\" class=\"data row13 col0\" >3398.0</td>\n",
       "      <td id=\"T_4c093_row13_col1\" class=\"data row13 col1\" >3444.3</td>\n",
       "      <td id=\"T_4c093_row13_col2\" class=\"data row13 col2\" >13822.0</td>\n",
       "      <td id=\"T_4c093_row13_col3\" class=\"data row13 col3\" >0.0</td>\n",
       "      <td id=\"T_4c093_row13_col4\" class=\"data row13 col4\" >0.0</td>\n",
       "      <td id=\"T_4c093_row13_col5\" class=\"data row13 col5\" >0.0</td>\n",
       "      <td id=\"T_4c093_row13_col6\" class=\"data row13 col6\" >0.0</td>\n",
       "      <td id=\"T_4c093_row13_col7\" class=\"data row13 col7\" >380000.0</td>\n",
       "    </tr>\n",
       "    <tr>\n",
       "      <th id=\"T_4c093_level0_row14\" class=\"row_heading level0 row14\" >precio</th>\n",
       "      <td id=\"T_4c093_row14_col0\" class=\"data row14 col0\" >10852.0</td>\n",
       "      <td id=\"T_4c093_row14_col1\" class=\"data row14 col1\" >547933.8</td>\n",
       "      <td id=\"T_4c093_row14_col2\" class=\"data row14 col2\" >606156.9</td>\n",
       "      <td id=\"T_4c093_row14_col3\" class=\"data row14 col3\" >36000.0</td>\n",
       "      <td id=\"T_4c093_row14_col4\" class=\"data row14 col4\" >190725.0</td>\n",
       "      <td id=\"T_4c093_row14_col5\" class=\"data row14 col5\" >349000.0</td>\n",
       "      <td id=\"T_4c093_row14_col6\" class=\"data row14 col6\" >649000.0</td>\n",
       "      <td id=\"T_4c093_row14_col7\" class=\"data row14 col7\" >8500000.0</td>\n",
       "    </tr>\n",
       "  </tbody>\n",
       "</table>\n"
      ],
      "text/plain": [
       "<pandas.io.formats.style.Styler at 0x7f66a0b429e0>"
      ]
     },
     "execution_count": 9,
     "metadata": {},
     "output_type": "execute_result"
    }
   ],
   "source": [
    "# Returns description of the data\n",
    "# If the DataFrame contains numerical data, the description contains:\n",
    "# Columns: count, mean, std, min, 25%, 50%, 75%, max\n",
    "\n",
    "dataset.describe().T.style.background_gradient(cmap='RdPu', axis=1).format(precision=1)"
   ]
  },
  {
   "cell_type": "markdown",
   "id": "c3c1c827",
   "metadata": {
    "papermill": {
     "duration": 0.026706,
     "end_time": "2023-10-22T15:46:19.496904",
     "exception": false,
     "start_time": "2023-10-22T15:46:19.470198",
     "status": "completed"
    },
    "tags": []
   },
   "source": [
    "### Correlación (Pearson)\n",
    "[`pandas.DataFrame.corr`](https://pandas.pydata.org/pandas-docs/stable/reference/api/pandas.DataFrame.corr.html)"
   ]
  },
  {
   "cell_type": "code",
   "execution_count": 10,
   "id": "99cd88c5",
   "metadata": {
    "execution": {
     "iopub.execute_input": "2023-10-22T15:46:19.553970Z",
     "iopub.status.busy": "2023-10-22T15:46:19.553453Z",
     "iopub.status.idle": "2023-10-22T15:46:19.599391Z",
     "shell.execute_reply": "2023-10-22T15:46:19.598280Z"
    },
    "papermill": {
     "duration": 0.077591,
     "end_time": "2023-10-22T15:46:19.602006",
     "exception": false,
     "start_time": "2023-10-22T15:46:19.524415",
     "status": "completed"
    },
    "tags": []
   },
   "outputs": [
    {
     "data": {
      "text/html": [
       "<style type=\"text/css\">\n",
       "#T_c0dde_row0_col0, #T_c0dde_row1_col1, #T_c0dde_row2_col2, #T_c0dde_row3_col3, #T_c0dde_row4_col4, #T_c0dde_row5_col5, #T_c0dde_row6_col6, #T_c0dde_row7_col7, #T_c0dde_row8_col8, #T_c0dde_row9_col9, #T_c0dde_row10_col10, #T_c0dde_row11_col11, #T_c0dde_row12_col12, #T_c0dde_row13_col13, #T_c0dde_row14_col14 {\n",
       "  background-color: #b40426;\n",
       "  color: #f1f1f1;\n",
       "}\n",
       "#T_c0dde_row0_col1, #T_c0dde_row1_col0 {\n",
       "  background-color: #ba162b;\n",
       "  color: #f1f1f1;\n",
       "}\n",
       "#T_c0dde_row0_col2, #T_c0dde_row2_col0 {\n",
       "  background-color: #f59f80;\n",
       "  color: #000000;\n",
       "}\n",
       "#T_c0dde_row0_col3, #T_c0dde_row3_col0 {\n",
       "  background-color: #e67259;\n",
       "  color: #f1f1f1;\n",
       "}\n",
       "#T_c0dde_row0_col4, #T_c0dde_row0_col7, #T_c0dde_row4_col0, #T_c0dde_row4_col14, #T_c0dde_row5_col12, #T_c0dde_row7_col0, #T_c0dde_row9_col12, #T_c0dde_row12_col5, #T_c0dde_row12_col9, #T_c0dde_row14_col4 {\n",
       "  background-color: #8caffe;\n",
       "  color: #000000;\n",
       "}\n",
       "#T_c0dde_row0_col5, #T_c0dde_row0_col8, #T_c0dde_row5_col0, #T_c0dde_row8_col0 {\n",
       "  background-color: #5b7ae5;\n",
       "  color: #f1f1f1;\n",
       "}\n",
       "#T_c0dde_row0_col6, #T_c0dde_row3_col10, #T_c0dde_row6_col0, #T_c0dde_row10_col3 {\n",
       "  background-color: #ccd9ed;\n",
       "  color: #000000;\n",
       "}\n",
       "#T_c0dde_row0_col9, #T_c0dde_row1_col8, #T_c0dde_row7_col10, #T_c0dde_row8_col1, #T_c0dde_row9_col0, #T_c0dde_row10_col7 {\n",
       "  background-color: #5d7ce6;\n",
       "  color: #f1f1f1;\n",
       "}\n",
       "#T_c0dde_row0_col10, #T_c0dde_row10_col0 {\n",
       "  background-color: #c0d4f5;\n",
       "  color: #000000;\n",
       "}\n",
       "#T_c0dde_row0_col11, #T_c0dde_row2_col10, #T_c0dde_row10_col2, #T_c0dde_row11_col0 {\n",
       "  background-color: #98b9ff;\n",
       "  color: #000000;\n",
       "}\n",
       "#T_c0dde_row0_col12, #T_c0dde_row12_col0 {\n",
       "  background-color: #c3d5f4;\n",
       "  color: #000000;\n",
       "}\n",
       "#T_c0dde_row0_col13, #T_c0dde_row4_col7, #T_c0dde_row7_col4, #T_c0dde_row13_col0 {\n",
       "  background-color: #6f92f3;\n",
       "  color: #f1f1f1;\n",
       "}\n",
       "#T_c0dde_row0_col14, #T_c0dde_row14_col0 {\n",
       "  background-color: #d95847;\n",
       "  color: #f1f1f1;\n",
       "}\n",
       "#T_c0dde_row1_col2, #T_c0dde_row2_col1 {\n",
       "  background-color: #f4987a;\n",
       "  color: #000000;\n",
       "}\n",
       "#T_c0dde_row1_col3, #T_c0dde_row3_col1 {\n",
       "  background-color: #e97a5f;\n",
       "  color: #f1f1f1;\n",
       "}\n",
       "#T_c0dde_row1_col4, #T_c0dde_row4_col1 {\n",
       "  background-color: #8db0fe;\n",
       "  color: #000000;\n",
       "}\n",
       "#T_c0dde_row1_col5, #T_c0dde_row5_col1, #T_c0dde_row5_col6, #T_c0dde_row6_col5 {\n",
       "  background-color: #9abbff;\n",
       "  color: #000000;\n",
       "}\n",
       "#T_c0dde_row1_col6, #T_c0dde_row6_col1, #T_c0dde_row10_col14, #T_c0dde_row14_col10 {\n",
       "  background-color: #c1d4f4;\n",
       "  color: #000000;\n",
       "}\n",
       "#T_c0dde_row1_col7, #T_c0dde_row7_col1 {\n",
       "  background-color: #89acfd;\n",
       "  color: #000000;\n",
       "}\n",
       "#T_c0dde_row1_col9, #T_c0dde_row8_col13, #T_c0dde_row9_col1, #T_c0dde_row13_col8 {\n",
       "  background-color: #506bda;\n",
       "  color: #f1f1f1;\n",
       "}\n",
       "#T_c0dde_row1_col10, #T_c0dde_row10_col1 {\n",
       "  background-color: #bcd2f7;\n",
       "  color: #000000;\n",
       "}\n",
       "#T_c0dde_row1_col11, #T_c0dde_row11_col1 {\n",
       "  background-color: #96b7ff;\n",
       "  color: #000000;\n",
       "}\n",
       "#T_c0dde_row1_col12, #T_c0dde_row12_col1 {\n",
       "  background-color: #bed2f6;\n",
       "  color: #000000;\n",
       "}\n",
       "#T_c0dde_row1_col13, #T_c0dde_row4_col9, #T_c0dde_row9_col4, #T_c0dde_row10_col13, #T_c0dde_row13_col1, #T_c0dde_row13_col10 {\n",
       "  background-color: #688aef;\n",
       "  color: #f1f1f1;\n",
       "}\n",
       "#T_c0dde_row1_col14, #T_c0dde_row14_col1 {\n",
       "  background-color: #da5a49;\n",
       "  color: #f1f1f1;\n",
       "}\n",
       "#T_c0dde_row2_col3, #T_c0dde_row3_col2 {\n",
       "  background-color: #f7b093;\n",
       "  color: #000000;\n",
       "}\n",
       "#T_c0dde_row2_col4, #T_c0dde_row3_col11, #T_c0dde_row4_col2, #T_c0dde_row11_col3 {\n",
       "  background-color: #8fb1fe;\n",
       "  color: #000000;\n",
       "}\n",
       "#T_c0dde_row2_col5, #T_c0dde_row5_col2, #T_c0dde_row11_col14, #T_c0dde_row14_col11 {\n",
       "  background-color: #84a7fc;\n",
       "  color: #f1f1f1;\n",
       "}\n",
       "#T_c0dde_row2_col6, #T_c0dde_row6_col2 {\n",
       "  background-color: #779af7;\n",
       "  color: #f1f1f1;\n",
       "}\n",
       "#T_c0dde_row2_col7, #T_c0dde_row7_col2 {\n",
       "  background-color: #aac7fd;\n",
       "  color: #000000;\n",
       "}\n",
       "#T_c0dde_row2_col8, #T_c0dde_row8_col2 {\n",
       "  background-color: #4a63d3;\n",
       "  color: #f1f1f1;\n",
       "}\n",
       "#T_c0dde_row2_col9, #T_c0dde_row9_col2 {\n",
       "  background-color: #5e7de7;\n",
       "  color: #f1f1f1;\n",
       "}\n",
       "#T_c0dde_row2_col11, #T_c0dde_row4_col10, #T_c0dde_row10_col4, #T_c0dde_row11_col2 {\n",
       "  background-color: #9bbcff;\n",
       "  color: #000000;\n",
       "}\n",
       "#T_c0dde_row2_col12, #T_c0dde_row12_col2 {\n",
       "  background-color: #9dbdff;\n",
       "  color: #000000;\n",
       "}\n",
       "#T_c0dde_row2_col13, #T_c0dde_row10_col11, #T_c0dde_row11_col10, #T_c0dde_row13_col2 {\n",
       "  background-color: #6e90f2;\n",
       "  color: #f1f1f1;\n",
       "}\n",
       "#T_c0dde_row2_col14, #T_c0dde_row14_col2 {\n",
       "  background-color: #eed0c0;\n",
       "  color: #000000;\n",
       "}\n",
       "#T_c0dde_row3_col4, #T_c0dde_row4_col3, #T_c0dde_row13_col14, #T_c0dde_row14_col13 {\n",
       "  background-color: #86a9fc;\n",
       "  color: #f1f1f1;\n",
       "}\n",
       "#T_c0dde_row3_col5, #T_c0dde_row5_col3 {\n",
       "  background-color: #80a3fa;\n",
       "  color: #f1f1f1;\n",
       "}\n",
       "#T_c0dde_row3_col6, #T_c0dde_row6_col3 {\n",
       "  background-color: #dcdddd;\n",
       "  color: #000000;\n",
       "}\n",
       "#T_c0dde_row3_col7, #T_c0dde_row7_col3, #T_c0dde_row7_col13, #T_c0dde_row13_col7 {\n",
       "  background-color: #7093f3;\n",
       "  color: #f1f1f1;\n",
       "}\n",
       "#T_c0dde_row3_col8, #T_c0dde_row8_col3 {\n",
       "  background-color: #6a8bef;\n",
       "  color: #f1f1f1;\n",
       "}\n",
       "#T_c0dde_row3_col9, #T_c0dde_row4_col8, #T_c0dde_row5_col13, #T_c0dde_row8_col4, #T_c0dde_row8_col14, #T_c0dde_row9_col3, #T_c0dde_row13_col5, #T_c0dde_row14_col8 {\n",
       "  background-color: #5f7fe8;\n",
       "  color: #f1f1f1;\n",
       "}\n",
       "#T_c0dde_row3_col12, #T_c0dde_row12_col3 {\n",
       "  background-color: #cad8ef;\n",
       "  color: #000000;\n",
       "}\n",
       "#T_c0dde_row3_col13, #T_c0dde_row6_col8, #T_c0dde_row8_col6, #T_c0dde_row8_col11, #T_c0dde_row11_col8, #T_c0dde_row13_col3 {\n",
       "  background-color: #7597f6;\n",
       "  color: #f1f1f1;\n",
       "}\n",
       "#T_c0dde_row3_col14, #T_c0dde_row14_col3 {\n",
       "  background-color: #f08b6e;\n",
       "  color: #f1f1f1;\n",
       "}\n",
       "#T_c0dde_row4_col5, #T_c0dde_row5_col4 {\n",
       "  background-color: #7699f6;\n",
       "  color: #f1f1f1;\n",
       "}\n",
       "#T_c0dde_row4_col6, #T_c0dde_row4_col12, #T_c0dde_row6_col4, #T_c0dde_row6_col12, #T_c0dde_row8_col12, #T_c0dde_row12_col4, #T_c0dde_row12_col6, #T_c0dde_row12_col8 {\n",
       "  background-color: #85a8fc;\n",
       "  color: #f1f1f1;\n",
       "}\n",
       "#T_c0dde_row4_col11, #T_c0dde_row11_col4 {\n",
       "  background-color: #6b8df0;\n",
       "  color: #f1f1f1;\n",
       "}\n",
       "#T_c0dde_row4_col13, #T_c0dde_row5_col11, #T_c0dde_row11_col5, #T_c0dde_row13_col4 {\n",
       "  background-color: #6485ec;\n",
       "  color: #f1f1f1;\n",
       "}\n",
       "#T_c0dde_row5_col7, #T_c0dde_row7_col5, #T_c0dde_row7_col11, #T_c0dde_row11_col7 {\n",
       "  background-color: #5977e3;\n",
       "  color: #f1f1f1;\n",
       "}\n",
       "#T_c0dde_row5_col8, #T_c0dde_row8_col5 {\n",
       "  background-color: #7b9ff9;\n",
       "  color: #f1f1f1;\n",
       "}\n",
       "#T_c0dde_row5_col9, #T_c0dde_row9_col5 {\n",
       "  background-color: #6788ee;\n",
       "  color: #f1f1f1;\n",
       "}\n",
       "#T_c0dde_row5_col10, #T_c0dde_row10_col5 {\n",
       "  background-color: #c5d6f2;\n",
       "  color: #000000;\n",
       "}\n",
       "#T_c0dde_row5_col14, #T_c0dde_row14_col5 {\n",
       "  background-color: #4358cb;\n",
       "  color: #f1f1f1;\n",
       "}\n",
       "#T_c0dde_row6_col7, #T_c0dde_row6_col9, #T_c0dde_row7_col6, #T_c0dde_row7_col9, #T_c0dde_row9_col6, #T_c0dde_row9_col7 {\n",
       "  background-color: #536edd;\n",
       "  color: #f1f1f1;\n",
       "}\n",
       "#T_c0dde_row6_col10, #T_c0dde_row10_col6 {\n",
       "  background-color: #d3dbe7;\n",
       "  color: #000000;\n",
       "}\n",
       "#T_c0dde_row6_col11, #T_c0dde_row11_col6 {\n",
       "  background-color: #485fd1;\n",
       "  color: #f1f1f1;\n",
       "}\n",
       "#T_c0dde_row6_col13, #T_c0dde_row13_col6 {\n",
       "  background-color: #94b6ff;\n",
       "  color: #000000;\n",
       "}\n",
       "#T_c0dde_row6_col14, #T_c0dde_row14_col6 {\n",
       "  background-color: #f7a889;\n",
       "  color: #000000;\n",
       "}\n",
       "#T_c0dde_row7_col8, #T_c0dde_row8_col7 {\n",
       "  background-color: #3f53c6;\n",
       "  color: #f1f1f1;\n",
       "}\n",
       "#T_c0dde_row7_col12, #T_c0dde_row12_col7 {\n",
       "  background-color: #4b64d5;\n",
       "  color: #f1f1f1;\n",
       "}\n",
       "#T_c0dde_row7_col14, #T_c0dde_row14_col7 {\n",
       "  background-color: #7a9df8;\n",
       "  color: #f1f1f1;\n",
       "}\n",
       "#T_c0dde_row8_col9, #T_c0dde_row9_col8, #T_c0dde_row12_col13, #T_c0dde_row13_col12 {\n",
       "  background-color: #000000;\n",
       "  color: #f1f1f1;\n",
       "}\n",
       "#T_c0dde_row8_col10, #T_c0dde_row10_col8 {\n",
       "  background-color: #8badfd;\n",
       "  color: #000000;\n",
       "}\n",
       "#T_c0dde_row9_col10, #T_c0dde_row9_col11, #T_c0dde_row10_col9, #T_c0dde_row11_col9 {\n",
       "  background-color: #799cf8;\n",
       "  color: #f1f1f1;\n",
       "}\n",
       "#T_c0dde_row9_col13, #T_c0dde_row13_col9 {\n",
       "  background-color: #3b4cc0;\n",
       "  color: #f1f1f1;\n",
       "}\n",
       "#T_c0dde_row9_col14, #T_c0dde_row14_col9 {\n",
       "  background-color: #5673e0;\n",
       "  color: #f1f1f1;\n",
       "}\n",
       "#T_c0dde_row10_col12, #T_c0dde_row12_col10 {\n",
       "  background-color: #bfd3f6;\n",
       "  color: #000000;\n",
       "}\n",
       "#T_c0dde_row11_col12, #T_c0dde_row12_col11 {\n",
       "  background-color: #93b5fe;\n",
       "  color: #000000;\n",
       "}\n",
       "#T_c0dde_row11_col13, #T_c0dde_row13_col11 {\n",
       "  background-color: #5875e1;\n",
       "  color: #f1f1f1;\n",
       "}\n",
       "#T_c0dde_row12_col14, #T_c0dde_row14_col12 {\n",
       "  background-color: #adc9fd;\n",
       "  color: #000000;\n",
       "}\n",
       "</style>\n",
       "<table id=\"T_c0dde\">\n",
       "  <thead>\n",
       "    <tr>\n",
       "      <th class=\"blank level0\" >&nbsp;</th>\n",
       "      <th id=\"T_c0dde_level0_col0\" class=\"col_heading level0 col0\" >m2_edificados</th>\n",
       "      <th id=\"T_c0dde_level0_col1\" class=\"col_heading level0 col1\" >m2_útiles</th>\n",
       "      <th id=\"T_c0dde_level0_col2\" class=\"col_heading level0 col2\" >n_habitaciones</th>\n",
       "      <th id=\"T_c0dde_level0_col3\" class=\"col_heading level0 col3\" >n_baños</th>\n",
       "      <th id=\"T_c0dde_level0_col4\" class=\"col_heading level0 col4\" >planta</th>\n",
       "      <th id=\"T_c0dde_level0_col5\" class=\"col_heading level0 col5\" >precio_alquiler</th>\n",
       "      <th id=\"T_c0dde_level0_col6\" class=\"col_heading level0 col6\" >precio_zona</th>\n",
       "      <th id=\"T_c0dde_level0_col7\" class=\"col_heading level0 col7\" >necesita_reforma</th>\n",
       "      <th id=\"T_c0dde_level0_col8\" class=\"col_heading level0 col8\" >nueva_construcción</th>\n",
       "      <th id=\"T_c0dde_level0_col9\" class=\"col_heading level0 col9\" >año_construción</th>\n",
       "      <th id=\"T_c0dde_level0_col10\" class=\"col_heading level0 col10\" >ascensor</th>\n",
       "      <th id=\"T_c0dde_level0_col11\" class=\"col_heading level0 col11\" >exterior</th>\n",
       "      <th id=\"T_c0dde_level0_col12\" class=\"col_heading level0 col12\" >aparcamiento</th>\n",
       "      <th id=\"T_c0dde_level0_col13\" class=\"col_heading level0 col13\" >precio_aparcamiento</th>\n",
       "      <th id=\"T_c0dde_level0_col14\" class=\"col_heading level0 col14\" >precio</th>\n",
       "    </tr>\n",
       "  </thead>\n",
       "  <tbody>\n",
       "    <tr>\n",
       "      <th id=\"T_c0dde_level0_row0\" class=\"row_heading level0 row0\" >m2_edificados</th>\n",
       "      <td id=\"T_c0dde_row0_col0\" class=\"data row0 col0\" >1.00</td>\n",
       "      <td id=\"T_c0dde_row0_col1\" class=\"data row0 col1\" >0.98</td>\n",
       "      <td id=\"T_c0dde_row0_col2\" class=\"data row0 col2\" >0.70</td>\n",
       "      <td id=\"T_c0dde_row0_col3\" class=\"data row0 col3\" >0.81</td>\n",
       "      <td id=\"T_c0dde_row0_col4\" class=\"data row0 col4\" >0.14</td>\n",
       "      <td id=\"T_c0dde_row0_col5\" class=\"data row0 col5\" >-0.02</td>\n",
       "      <td id=\"T_c0dde_row0_col6\" class=\"data row0 col6\" >0.36</td>\n",
       "      <td id=\"T_c0dde_row0_col7\" class=\"data row0 col7\" >0.14</td>\n",
       "      <td id=\"T_c0dde_row0_col8\" class=\"data row0 col8\" >-0.02</td>\n",
       "      <td id=\"T_c0dde_row0_col9\" class=\"data row0 col9\" >-0.02</td>\n",
       "      <td id=\"T_c0dde_row0_col10\" class=\"data row0 col10\" >0.31</td>\n",
       "      <td id=\"T_c0dde_row0_col11\" class=\"data row0 col11\" >0.18</td>\n",
       "      <td id=\"T_c0dde_row0_col12\" class=\"data row0 col12\" >0.32</td>\n",
       "      <td id=\"T_c0dde_row0_col13\" class=\"data row0 col13\" >0.04</td>\n",
       "      <td id=\"T_c0dde_row0_col14\" class=\"data row0 col14\" >0.87</td>\n",
       "    </tr>\n",
       "    <tr>\n",
       "      <th id=\"T_c0dde_level0_row1\" class=\"row_heading level0 row1\" >m2_útiles</th>\n",
       "      <td id=\"T_c0dde_row1_col0\" class=\"data row1 col0\" >0.98</td>\n",
       "      <td id=\"T_c0dde_row1_col1\" class=\"data row1 col1\" >1.00</td>\n",
       "      <td id=\"T_c0dde_row1_col2\" class=\"data row1 col2\" >0.72</td>\n",
       "      <td id=\"T_c0dde_row1_col3\" class=\"data row1 col3\" >0.80</td>\n",
       "      <td id=\"T_c0dde_row1_col4\" class=\"data row1 col4\" >0.14</td>\n",
       "      <td id=\"T_c0dde_row1_col5\" class=\"data row1 col5\" >0.18</td>\n",
       "      <td id=\"T_c0dde_row1_col6\" class=\"data row1 col6\" >0.32</td>\n",
       "      <td id=\"T_c0dde_row1_col7\" class=\"data row1 col7\" >0.13</td>\n",
       "      <td id=\"T_c0dde_row1_col8\" class=\"data row1 col8\" >-0.02</td>\n",
       "      <td id=\"T_c0dde_row1_col9\" class=\"data row1 col9\" >-0.06</td>\n",
       "      <td id=\"T_c0dde_row1_col10\" class=\"data row1 col10\" >0.30</td>\n",
       "      <td id=\"T_c0dde_row1_col11\" class=\"data row1 col11\" >0.17</td>\n",
       "      <td id=\"T_c0dde_row1_col12\" class=\"data row1 col12\" >0.30</td>\n",
       "      <td id=\"T_c0dde_row1_col13\" class=\"data row1 col13\" >0.02</td>\n",
       "      <td id=\"T_c0dde_row1_col14\" class=\"data row1 col14\" >0.87</td>\n",
       "    </tr>\n",
       "    <tr>\n",
       "      <th id=\"T_c0dde_level0_row2\" class=\"row_heading level0 row2\" >n_habitaciones</th>\n",
       "      <td id=\"T_c0dde_row2_col0\" class=\"data row2 col0\" >0.70</td>\n",
       "      <td id=\"T_c0dde_row2_col1\" class=\"data row2 col1\" >0.72</td>\n",
       "      <td id=\"T_c0dde_row2_col2\" class=\"data row2 col2\" >1.00</td>\n",
       "      <td id=\"T_c0dde_row2_col3\" class=\"data row2 col3\" >0.64</td>\n",
       "      <td id=\"T_c0dde_row2_col4\" class=\"data row2 col4\" >0.15</td>\n",
       "      <td id=\"T_c0dde_row2_col5\" class=\"data row2 col5\" >0.11</td>\n",
       "      <td id=\"T_c0dde_row2_col6\" class=\"data row2 col6\" >0.07</td>\n",
       "      <td id=\"T_c0dde_row2_col7\" class=\"data row2 col7\" >0.24</td>\n",
       "      <td id=\"T_c0dde_row2_col8\" class=\"data row2 col8\" >-0.09</td>\n",
       "      <td id=\"T_c0dde_row2_col9\" class=\"data row2 col9\" >-0.02</td>\n",
       "      <td id=\"T_c0dde_row2_col10\" class=\"data row2 col10\" >0.18</td>\n",
       "      <td id=\"T_c0dde_row2_col11\" class=\"data row2 col11\" >0.19</td>\n",
       "      <td id=\"T_c0dde_row2_col12\" class=\"data row2 col12\" >0.19</td>\n",
       "      <td id=\"T_c0dde_row2_col13\" class=\"data row2 col13\" >0.04</td>\n",
       "      <td id=\"T_c0dde_row2_col14\" class=\"data row2 col14\" >0.51</td>\n",
       "    </tr>\n",
       "    <tr>\n",
       "      <th id=\"T_c0dde_level0_row3\" class=\"row_heading level0 row3\" >n_baños</th>\n",
       "      <td id=\"T_c0dde_row3_col0\" class=\"data row3 col0\" >0.81</td>\n",
       "      <td id=\"T_c0dde_row3_col1\" class=\"data row3 col1\" >0.80</td>\n",
       "      <td id=\"T_c0dde_row3_col2\" class=\"data row3 col2\" >0.64</td>\n",
       "      <td id=\"T_c0dde_row3_col3\" class=\"data row3 col3\" >1.00</td>\n",
       "      <td id=\"T_c0dde_row3_col4\" class=\"data row3 col4\" >0.12</td>\n",
       "      <td id=\"T_c0dde_row3_col5\" class=\"data row3 col5\" >0.10</td>\n",
       "      <td id=\"T_c0dde_row3_col6\" class=\"data row3 col6\" >0.42</td>\n",
       "      <td id=\"T_c0dde_row3_col7\" class=\"data row3 col7\" >0.05</td>\n",
       "      <td id=\"T_c0dde_row3_col8\" class=\"data row3 col8\" >0.03</td>\n",
       "      <td id=\"T_c0dde_row3_col9\" class=\"data row3 col9\" >-0.01</td>\n",
       "      <td id=\"T_c0dde_row3_col10\" class=\"data row3 col10\" >0.36</td>\n",
       "      <td id=\"T_c0dde_row3_col11\" class=\"data row3 col11\" >0.15</td>\n",
       "      <td id=\"T_c0dde_row3_col12\" class=\"data row3 col12\" >0.35</td>\n",
       "      <td id=\"T_c0dde_row3_col13\" class=\"data row3 col13\" >0.06</td>\n",
       "      <td id=\"T_c0dde_row3_col14\" class=\"data row3 col14\" >0.75</td>\n",
       "    </tr>\n",
       "    <tr>\n",
       "      <th id=\"T_c0dde_level0_row4\" class=\"row_heading level0 row4\" >planta</th>\n",
       "      <td id=\"T_c0dde_row4_col0\" class=\"data row4 col0\" >0.14</td>\n",
       "      <td id=\"T_c0dde_row4_col1\" class=\"data row4 col1\" >0.14</td>\n",
       "      <td id=\"T_c0dde_row4_col2\" class=\"data row4 col2\" >0.15</td>\n",
       "      <td id=\"T_c0dde_row4_col3\" class=\"data row4 col3\" >0.12</td>\n",
       "      <td id=\"T_c0dde_row4_col4\" class=\"data row4 col4\" >1.00</td>\n",
       "      <td id=\"T_c0dde_row4_col5\" class=\"data row4 col5\" >0.07</td>\n",
       "      <td id=\"T_c0dde_row4_col6\" class=\"data row4 col6\" >0.11</td>\n",
       "      <td id=\"T_c0dde_row4_col7\" class=\"data row4 col7\" >0.05</td>\n",
       "      <td id=\"T_c0dde_row4_col8\" class=\"data row4 col8\" >-0.01</td>\n",
       "      <td id=\"T_c0dde_row4_col9\" class=\"data row4 col9\" >0.02</td>\n",
       "      <td id=\"T_c0dde_row4_col10\" class=\"data row4 col10\" >0.19</td>\n",
       "      <td id=\"T_c0dde_row4_col11\" class=\"data row4 col11\" >0.03</td>\n",
       "      <td id=\"T_c0dde_row4_col12\" class=\"data row4 col12\" >0.12</td>\n",
       "      <td id=\"T_c0dde_row4_col13\" class=\"data row4 col13\" >0.01</td>\n",
       "      <td id=\"T_c0dde_row4_col14\" class=\"data row4 col14\" >0.14</td>\n",
       "    </tr>\n",
       "    <tr>\n",
       "      <th id=\"T_c0dde_level0_row5\" class=\"row_heading level0 row5\" >precio_alquiler</th>\n",
       "      <td id=\"T_c0dde_row5_col0\" class=\"data row5 col0\" >-0.02</td>\n",
       "      <td id=\"T_c0dde_row5_col1\" class=\"data row5 col1\" >0.18</td>\n",
       "      <td id=\"T_c0dde_row5_col2\" class=\"data row5 col2\" >0.11</td>\n",
       "      <td id=\"T_c0dde_row5_col3\" class=\"data row5 col3\" >0.10</td>\n",
       "      <td id=\"T_c0dde_row5_col4\" class=\"data row5 col4\" >0.07</td>\n",
       "      <td id=\"T_c0dde_row5_col5\" class=\"data row5 col5\" >1.00</td>\n",
       "      <td id=\"T_c0dde_row5_col6\" class=\"data row5 col6\" >0.18</td>\n",
       "      <td id=\"T_c0dde_row5_col7\" class=\"data row5 col7\" >-0.03</td>\n",
       "      <td id=\"T_c0dde_row5_col8\" class=\"data row5 col8\" >0.08</td>\n",
       "      <td id=\"T_c0dde_row5_col9\" class=\"data row5 col9\" >0.02</td>\n",
       "      <td id=\"T_c0dde_row5_col10\" class=\"data row5 col10\" >0.33</td>\n",
       "      <td id=\"T_c0dde_row5_col11\" class=\"data row5 col11\" >0.01</td>\n",
       "      <td id=\"T_c0dde_row5_col12\" class=\"data row5 col12\" >0.14</td>\n",
       "      <td id=\"T_c0dde_row5_col13\" class=\"data row5 col13\" >-0.01</td>\n",
       "      <td id=\"T_c0dde_row5_col14\" class=\"data row5 col14\" >-0.11</td>\n",
       "    </tr>\n",
       "    <tr>\n",
       "      <th id=\"T_c0dde_level0_row6\" class=\"row_heading level0 row6\" >precio_zona</th>\n",
       "      <td id=\"T_c0dde_row6_col0\" class=\"data row6 col0\" >0.36</td>\n",
       "      <td id=\"T_c0dde_row6_col1\" class=\"data row6 col1\" >0.32</td>\n",
       "      <td id=\"T_c0dde_row6_col2\" class=\"data row6 col2\" >0.07</td>\n",
       "      <td id=\"T_c0dde_row6_col3\" class=\"data row6 col3\" >0.42</td>\n",
       "      <td id=\"T_c0dde_row6_col4\" class=\"data row6 col4\" >0.11</td>\n",
       "      <td id=\"T_c0dde_row6_col5\" class=\"data row6 col5\" >0.18</td>\n",
       "      <td id=\"T_c0dde_row6_col6\" class=\"data row6 col6\" >1.00</td>\n",
       "      <td id=\"T_c0dde_row6_col7\" class=\"data row6 col7\" >-0.06</td>\n",
       "      <td id=\"T_c0dde_row6_col8\" class=\"data row6 col8\" >0.06</td>\n",
       "      <td id=\"T_c0dde_row6_col9\" class=\"data row6 col9\" >-0.06</td>\n",
       "      <td id=\"T_c0dde_row6_col10\" class=\"data row6 col10\" >0.39</td>\n",
       "      <td id=\"T_c0dde_row6_col11\" class=\"data row6 col11\" >-0.10</td>\n",
       "      <td id=\"T_c0dde_row6_col12\" class=\"data row6 col12\" >0.12</td>\n",
       "      <td id=\"T_c0dde_row6_col13\" class=\"data row6 col13\" >0.17</td>\n",
       "      <td id=\"T_c0dde_row6_col14\" class=\"data row6 col14\" >0.67</td>\n",
       "    </tr>\n",
       "    <tr>\n",
       "      <th id=\"T_c0dde_level0_row7\" class=\"row_heading level0 row7\" >necesita_reforma</th>\n",
       "      <td id=\"T_c0dde_row7_col0\" class=\"data row7 col0\" >0.14</td>\n",
       "      <td id=\"T_c0dde_row7_col1\" class=\"data row7 col1\" >0.13</td>\n",
       "      <td id=\"T_c0dde_row7_col2\" class=\"data row7 col2\" >0.24</td>\n",
       "      <td id=\"T_c0dde_row7_col3\" class=\"data row7 col3\" >0.05</td>\n",
       "      <td id=\"T_c0dde_row7_col4\" class=\"data row7 col4\" >0.05</td>\n",
       "      <td id=\"T_c0dde_row7_col5\" class=\"data row7 col5\" >-0.03</td>\n",
       "      <td id=\"T_c0dde_row7_col6\" class=\"data row7 col6\" >-0.06</td>\n",
       "      <td id=\"T_c0dde_row7_col7\" class=\"data row7 col7\" >1.00</td>\n",
       "      <td id=\"T_c0dde_row7_col8\" class=\"data row7 col8\" >-0.13</td>\n",
       "      <td id=\"T_c0dde_row7_col9\" class=\"data row7 col9\" >-0.06</td>\n",
       "      <td id=\"T_c0dde_row7_col10\" class=\"data row7 col10\" >-0.02</td>\n",
       "      <td id=\"T_c0dde_row7_col11\" class=\"data row7 col11\" >-0.03</td>\n",
       "      <td id=\"T_c0dde_row7_col12\" class=\"data row7 col12\" >-0.08</td>\n",
       "      <td id=\"T_c0dde_row7_col13\" class=\"data row7 col13\" >0.05</td>\n",
       "      <td id=\"T_c0dde_row7_col14\" class=\"data row7 col14\" >0.08</td>\n",
       "    </tr>\n",
       "    <tr>\n",
       "      <th id=\"T_c0dde_level0_row8\" class=\"row_heading level0 row8\" >nueva_construcción</th>\n",
       "      <td id=\"T_c0dde_row8_col0\" class=\"data row8 col0\" >-0.02</td>\n",
       "      <td id=\"T_c0dde_row8_col1\" class=\"data row8 col1\" >-0.02</td>\n",
       "      <td id=\"T_c0dde_row8_col2\" class=\"data row8 col2\" >-0.09</td>\n",
       "      <td id=\"T_c0dde_row8_col3\" class=\"data row8 col3\" >0.03</td>\n",
       "      <td id=\"T_c0dde_row8_col4\" class=\"data row8 col4\" >-0.01</td>\n",
       "      <td id=\"T_c0dde_row8_col5\" class=\"data row8 col5\" >0.08</td>\n",
       "      <td id=\"T_c0dde_row8_col6\" class=\"data row8 col6\" >0.06</td>\n",
       "      <td id=\"T_c0dde_row8_col7\" class=\"data row8 col7\" >-0.13</td>\n",
       "      <td id=\"T_c0dde_row8_col8\" class=\"data row8 col8\" >1.00</td>\n",
       "      <td id=\"T_c0dde_row8_col9\" class=\"data row8 col9\" >nan</td>\n",
       "      <td id=\"T_c0dde_row8_col10\" class=\"data row8 col10\" >0.13</td>\n",
       "      <td id=\"T_c0dde_row8_col11\" class=\"data row8 col11\" >0.06</td>\n",
       "      <td id=\"T_c0dde_row8_col12\" class=\"data row8 col12\" >0.12</td>\n",
       "      <td id=\"T_c0dde_row8_col13\" class=\"data row8 col13\" >-0.07</td>\n",
       "      <td id=\"T_c0dde_row8_col14\" class=\"data row8 col14\" >-0.01</td>\n",
       "    </tr>\n",
       "    <tr>\n",
       "      <th id=\"T_c0dde_level0_row9\" class=\"row_heading level0 row9\" >año_construción</th>\n",
       "      <td id=\"T_c0dde_row9_col0\" class=\"data row9 col0\" >-0.02</td>\n",
       "      <td id=\"T_c0dde_row9_col1\" class=\"data row9 col1\" >-0.06</td>\n",
       "      <td id=\"T_c0dde_row9_col2\" class=\"data row9 col2\" >-0.02</td>\n",
       "      <td id=\"T_c0dde_row9_col3\" class=\"data row9 col3\" >-0.01</td>\n",
       "      <td id=\"T_c0dde_row9_col4\" class=\"data row9 col4\" >0.02</td>\n",
       "      <td id=\"T_c0dde_row9_col5\" class=\"data row9 col5\" >0.02</td>\n",
       "      <td id=\"T_c0dde_row9_col6\" class=\"data row9 col6\" >-0.06</td>\n",
       "      <td id=\"T_c0dde_row9_col7\" class=\"data row9 col7\" >-0.06</td>\n",
       "      <td id=\"T_c0dde_row9_col8\" class=\"data row9 col8\" >nan</td>\n",
       "      <td id=\"T_c0dde_row9_col9\" class=\"data row9 col9\" >1.00</td>\n",
       "      <td id=\"T_c0dde_row9_col10\" class=\"data row9 col10\" >0.07</td>\n",
       "      <td id=\"T_c0dde_row9_col11\" class=\"data row9 col11\" >0.08</td>\n",
       "      <td id=\"T_c0dde_row9_col12\" class=\"data row9 col12\" >0.14</td>\n",
       "      <td id=\"T_c0dde_row9_col13\" class=\"data row9 col13\" >-0.15</td>\n",
       "      <td id=\"T_c0dde_row9_col14\" class=\"data row9 col14\" >-0.04</td>\n",
       "    </tr>\n",
       "    <tr>\n",
       "      <th id=\"T_c0dde_level0_row10\" class=\"row_heading level0 row10\" >ascensor</th>\n",
       "      <td id=\"T_c0dde_row10_col0\" class=\"data row10 col0\" >0.31</td>\n",
       "      <td id=\"T_c0dde_row10_col1\" class=\"data row10 col1\" >0.30</td>\n",
       "      <td id=\"T_c0dde_row10_col2\" class=\"data row10 col2\" >0.18</td>\n",
       "      <td id=\"T_c0dde_row10_col3\" class=\"data row10 col3\" >0.36</td>\n",
       "      <td id=\"T_c0dde_row10_col4\" class=\"data row10 col4\" >0.19</td>\n",
       "      <td id=\"T_c0dde_row10_col5\" class=\"data row10 col5\" >0.33</td>\n",
       "      <td id=\"T_c0dde_row10_col6\" class=\"data row10 col6\" >0.39</td>\n",
       "      <td id=\"T_c0dde_row10_col7\" class=\"data row10 col7\" >-0.02</td>\n",
       "      <td id=\"T_c0dde_row10_col8\" class=\"data row10 col8\" >0.13</td>\n",
       "      <td id=\"T_c0dde_row10_col9\" class=\"data row10 col9\" >0.07</td>\n",
       "      <td id=\"T_c0dde_row10_col10\" class=\"data row10 col10\" >1.00</td>\n",
       "      <td id=\"T_c0dde_row10_col11\" class=\"data row10 col11\" >0.04</td>\n",
       "      <td id=\"T_c0dde_row10_col12\" class=\"data row10 col12\" >0.31</td>\n",
       "      <td id=\"T_c0dde_row10_col13\" class=\"data row10 col13\" >0.02</td>\n",
       "      <td id=\"T_c0dde_row10_col14\" class=\"data row10 col14\" >0.32</td>\n",
       "    </tr>\n",
       "    <tr>\n",
       "      <th id=\"T_c0dde_level0_row11\" class=\"row_heading level0 row11\" >exterior</th>\n",
       "      <td id=\"T_c0dde_row11_col0\" class=\"data row11 col0\" >0.18</td>\n",
       "      <td id=\"T_c0dde_row11_col1\" class=\"data row11 col1\" >0.17</td>\n",
       "      <td id=\"T_c0dde_row11_col2\" class=\"data row11 col2\" >0.19</td>\n",
       "      <td id=\"T_c0dde_row11_col3\" class=\"data row11 col3\" >0.15</td>\n",
       "      <td id=\"T_c0dde_row11_col4\" class=\"data row11 col4\" >0.03</td>\n",
       "      <td id=\"T_c0dde_row11_col5\" class=\"data row11 col5\" >0.01</td>\n",
       "      <td id=\"T_c0dde_row11_col6\" class=\"data row11 col6\" >-0.10</td>\n",
       "      <td id=\"T_c0dde_row11_col7\" class=\"data row11 col7\" >-0.03</td>\n",
       "      <td id=\"T_c0dde_row11_col8\" class=\"data row11 col8\" >0.06</td>\n",
       "      <td id=\"T_c0dde_row11_col9\" class=\"data row11 col9\" >0.08</td>\n",
       "      <td id=\"T_c0dde_row11_col10\" class=\"data row11 col10\" >0.04</td>\n",
       "      <td id=\"T_c0dde_row11_col11\" class=\"data row11 col11\" >1.00</td>\n",
       "      <td id=\"T_c0dde_row11_col12\" class=\"data row11 col12\" >0.16</td>\n",
       "      <td id=\"T_c0dde_row11_col13\" class=\"data row11 col13\" >-0.04</td>\n",
       "      <td id=\"T_c0dde_row11_col14\" class=\"data row11 col14\" >0.11</td>\n",
       "    </tr>\n",
       "    <tr>\n",
       "      <th id=\"T_c0dde_level0_row12\" class=\"row_heading level0 row12\" >aparcamiento</th>\n",
       "      <td id=\"T_c0dde_row12_col0\" class=\"data row12 col0\" >0.32</td>\n",
       "      <td id=\"T_c0dde_row12_col1\" class=\"data row12 col1\" >0.30</td>\n",
       "      <td id=\"T_c0dde_row12_col2\" class=\"data row12 col2\" >0.19</td>\n",
       "      <td id=\"T_c0dde_row12_col3\" class=\"data row12 col3\" >0.35</td>\n",
       "      <td id=\"T_c0dde_row12_col4\" class=\"data row12 col4\" >0.12</td>\n",
       "      <td id=\"T_c0dde_row12_col5\" class=\"data row12 col5\" >0.14</td>\n",
       "      <td id=\"T_c0dde_row12_col6\" class=\"data row12 col6\" >0.12</td>\n",
       "      <td id=\"T_c0dde_row12_col7\" class=\"data row12 col7\" >-0.08</td>\n",
       "      <td id=\"T_c0dde_row12_col8\" class=\"data row12 col8\" >0.12</td>\n",
       "      <td id=\"T_c0dde_row12_col9\" class=\"data row12 col9\" >0.14</td>\n",
       "      <td id=\"T_c0dde_row12_col10\" class=\"data row12 col10\" >0.31</td>\n",
       "      <td id=\"T_c0dde_row12_col11\" class=\"data row12 col11\" >0.16</td>\n",
       "      <td id=\"T_c0dde_row12_col12\" class=\"data row12 col12\" >1.00</td>\n",
       "      <td id=\"T_c0dde_row12_col13\" class=\"data row12 col13\" >nan</td>\n",
       "      <td id=\"T_c0dde_row12_col14\" class=\"data row12 col14\" >0.25</td>\n",
       "    </tr>\n",
       "    <tr>\n",
       "      <th id=\"T_c0dde_level0_row13\" class=\"row_heading level0 row13\" >precio_aparcamiento</th>\n",
       "      <td id=\"T_c0dde_row13_col0\" class=\"data row13 col0\" >0.04</td>\n",
       "      <td id=\"T_c0dde_row13_col1\" class=\"data row13 col1\" >0.02</td>\n",
       "      <td id=\"T_c0dde_row13_col2\" class=\"data row13 col2\" >0.04</td>\n",
       "      <td id=\"T_c0dde_row13_col3\" class=\"data row13 col3\" >0.06</td>\n",
       "      <td id=\"T_c0dde_row13_col4\" class=\"data row13 col4\" >0.01</td>\n",
       "      <td id=\"T_c0dde_row13_col5\" class=\"data row13 col5\" >-0.01</td>\n",
       "      <td id=\"T_c0dde_row13_col6\" class=\"data row13 col6\" >0.17</td>\n",
       "      <td id=\"T_c0dde_row13_col7\" class=\"data row13 col7\" >0.05</td>\n",
       "      <td id=\"T_c0dde_row13_col8\" class=\"data row13 col8\" >-0.07</td>\n",
       "      <td id=\"T_c0dde_row13_col9\" class=\"data row13 col9\" >-0.15</td>\n",
       "      <td id=\"T_c0dde_row13_col10\" class=\"data row13 col10\" >0.02</td>\n",
       "      <td id=\"T_c0dde_row13_col11\" class=\"data row13 col11\" >-0.04</td>\n",
       "      <td id=\"T_c0dde_row13_col12\" class=\"data row13 col12\" >nan</td>\n",
       "      <td id=\"T_c0dde_row13_col13\" class=\"data row13 col13\" >1.00</td>\n",
       "      <td id=\"T_c0dde_row13_col14\" class=\"data row13 col14\" >0.12</td>\n",
       "    </tr>\n",
       "    <tr>\n",
       "      <th id=\"T_c0dde_level0_row14\" class=\"row_heading level0 row14\" >precio</th>\n",
       "      <td id=\"T_c0dde_row14_col0\" class=\"data row14 col0\" >0.87</td>\n",
       "      <td id=\"T_c0dde_row14_col1\" class=\"data row14 col1\" >0.87</td>\n",
       "      <td id=\"T_c0dde_row14_col2\" class=\"data row14 col2\" >0.51</td>\n",
       "      <td id=\"T_c0dde_row14_col3\" class=\"data row14 col3\" >0.75</td>\n",
       "      <td id=\"T_c0dde_row14_col4\" class=\"data row14 col4\" >0.14</td>\n",
       "      <td id=\"T_c0dde_row14_col5\" class=\"data row14 col5\" >-0.11</td>\n",
       "      <td id=\"T_c0dde_row14_col6\" class=\"data row14 col6\" >0.67</td>\n",
       "      <td id=\"T_c0dde_row14_col7\" class=\"data row14 col7\" >0.08</td>\n",
       "      <td id=\"T_c0dde_row14_col8\" class=\"data row14 col8\" >-0.01</td>\n",
       "      <td id=\"T_c0dde_row14_col9\" class=\"data row14 col9\" >-0.04</td>\n",
       "      <td id=\"T_c0dde_row14_col10\" class=\"data row14 col10\" >0.32</td>\n",
       "      <td id=\"T_c0dde_row14_col11\" class=\"data row14 col11\" >0.11</td>\n",
       "      <td id=\"T_c0dde_row14_col12\" class=\"data row14 col12\" >0.25</td>\n",
       "      <td id=\"T_c0dde_row14_col13\" class=\"data row14 col13\" >0.12</td>\n",
       "      <td id=\"T_c0dde_row14_col14\" class=\"data row14 col14\" >1.00</td>\n",
       "    </tr>\n",
       "  </tbody>\n",
       "</table>\n"
      ],
      "text/plain": [
       "<pandas.io.formats.style.Styler at 0x7f667ed63010>"
      ]
     },
     "execution_count": 10,
     "metadata": {},
     "output_type": "execute_result"
    }
   ],
   "source": [
    "# Correlation Test: strength of the association between two variables\n",
    "# Parametric Correlation : It measures a linear dependence between two variables (x and y)\n",
    "# it is known as a parametric correlation test because it depends on the distribution of the data.\n",
    "#  The most commonly used method is the Parametric correlation method using the Pearson Correlation formula\n",
    "# x and y are two vectors of length n \n",
    "# m, x and m, y corresponds to the means of x and y, respectively.\n",
    "dataset.corr(method='pearson', numeric_only=True).style.background_gradient(cmap='coolwarm', axis=None).format(precision=2)"
   ]
  },
  {
   "cell_type": "markdown",
   "id": "4ca4857c",
   "metadata": {
    "papermill": {
     "duration": 0.027585,
     "end_time": "2023-10-22T15:46:19.658297",
     "exception": false,
     "start_time": "2023-10-22T15:46:19.630712",
     "status": "completed"
    },
    "tags": []
   },
   "source": [
    "* r takes value between -1 (negative correlation) and 1 (positive correlation).\n",
    "* r = 0 means no correlation.\n",
    "* Can not be applied to ordinal variables.\n",
    "* The sample size should be moderate (20-30) for good estimation.\n",
    "* Outliers can lead to misleading values means not robust with outliers."
   ]
  },
  {
   "cell_type": "markdown",
   "id": "ceb4c10a",
   "metadata": {
    "papermill": {
     "duration": 0.027647,
     "end_time": "2023-10-22T15:46:19.713732",
     "exception": false,
     "start_time": "2023-10-22T15:46:19.686085",
     "status": "completed"
    },
    "tags": []
   },
   "source": [
    "Here are some important facts about the Pearson correlation coefficient:\n",
    "\n",
    "The Pearson correlation coefficient can take on any real value in the range −1 ≤ r ≤ 1.\n",
    "\n",
    "The maximum value r = 1 corresponds to the case in which there’s a perfect positive linear relationship between x and y. In other words, larger x values correspond to larger y values and vice versa.\n",
    "\n",
    "The value r > 0 indicates positive correlation between x and y.\n",
    "\n",
    "The value r = 0 corresponds to the case in which there’s no linear relationship between x and y.\n",
    "\n",
    "The value r < 0 indicates negative correlation between x and y.\n",
    "\n",
    "The minimal value r = −1 corresponds to the case when there’s a perfect negative linear relationship between x and y. In other words, larger x values correspond to smaller y values and vice versa.\n",
    "\n",
    "* Pearson’s r Value --> Correlation Between x and y\n",
    "* equal to 1 --> perfect positive linear relationship\n",
    "* greater than 0 --> positive correlation\n",
    "* equal to 0 --> no linear relationship\n",
    "* less than 0 --> negative correlation\n",
    "* equal to -1 --> perfect negative linear relationship\n"
   ]
  },
  {
   "cell_type": "markdown",
   "id": "df3dabe3",
   "metadata": {
    "papermill": {
     "duration": 0.028133,
     "end_time": "2023-10-22T15:46:19.770901",
     "exception": false,
     "start_time": "2023-10-22T15:46:19.742768",
     "status": "completed"
    },
    "tags": []
   },
   "source": [
    "### ejemplo de un scatter plot"
   ]
  },
  {
   "cell_type": "code",
   "execution_count": 11,
   "id": "9315c56c",
   "metadata": {
    "execution": {
     "iopub.execute_input": "2023-10-22T15:46:19.828701Z",
     "iopub.status.busy": "2023-10-22T15:46:19.828313Z",
     "iopub.status.idle": "2023-10-22T15:46:19.832804Z",
     "shell.execute_reply": "2023-10-22T15:46:19.831725Z"
    },
    "papermill": {
     "duration": 0.036413,
     "end_time": "2023-10-22T15:46:19.835140",
     "exception": false,
     "start_time": "2023-10-22T15:46:19.798727",
     "status": "completed"
    },
    "tags": []
   },
   "outputs": [],
   "source": [
    "# fig, ax = plt.subplots(figsize=(12, 6))\n",
    "\n",
    "# ax.scatter(x=dataset[\"m2_edificados\"], y=dataset[\"precio\"], c='blue', label=\"data\", s=2)\n",
    "\n",
    "# como cambiar los limites del plot:\n",
    "#ax.set(xlim=(0, 100), ylim=(0, 100))\n",
    "\n",
    "# ax.set_xlabel (\"m2_edificados\")\n",
    "# ax.set_ylabel (\"precio\")\n",
    "# plt.legend(loc=\"upper right\")\n",
    "\n",
    "# plt.show();"
   ]
  },
  {
   "cell_type": "markdown",
   "id": "40afa3f5",
   "metadata": {
    "papermill": {
     "duration": 0.028653,
     "end_time": "2023-10-22T15:46:19.891613",
     "exception": false,
     "start_time": "2023-10-22T15:46:19.862960",
     "status": "completed"
    },
    "tags": []
   },
   "source": [
    "### Ejemplo de un 3D plot con `plotly.express`"
   ]
  },
  {
   "cell_type": "code",
   "execution_count": 12,
   "id": "45f46e39",
   "metadata": {
    "execution": {
     "iopub.execute_input": "2023-10-22T15:46:19.949426Z",
     "iopub.status.busy": "2023-10-22T15:46:19.949013Z",
     "iopub.status.idle": "2023-10-22T15:46:19.953767Z",
     "shell.execute_reply": "2023-10-22T15:46:19.952731Z"
    },
    "papermill": {
     "duration": 0.036549,
     "end_time": "2023-10-22T15:46:19.956087",
     "exception": false,
     "start_time": "2023-10-22T15:46:19.919538",
     "status": "completed"
    },
    "tags": []
   },
   "outputs": [],
   "source": [
    "# import plotly.express as px\n",
    "# import plotly.graph_objects as go\n",
    "\n",
    "# fig = go.Figure()\n",
    "# fig = px.scatter_3d(x=dataset[\"m2_edificados\"],y=dataset[\"n_habitaciones\"],z=dataset[\"precio\"], \n",
    "#                     title=\"Precio de pisos data\",\n",
    "#                     labels={\"x\": \"m2_edificados\",\"y\": \"n_habitaciones\", \"z\": \"precio\"}\n",
    "#                    )\n",
    "# fig.update_traces(marker=dict(size=1.5))\n",
    "# fig.show()"
   ]
  },
  {
   "cell_type": "markdown",
   "id": "0a494064",
   "metadata": {
    "papermill": {
     "duration": 0.02782,
     "end_time": "2023-10-22T15:46:20.011908",
     "exception": false,
     "start_time": "2023-10-22T15:46:19.984088",
     "status": "completed"
    },
    "tags": []
   },
   "source": [
    "### ejemplo de una [histograma](https://seaborn.pydata.org/generated/seaborn.histplot.html) (+ [ecdf](https://seaborn.pydata.org/generated/seaborn.ecdfplot.html)) con seaborn"
   ]
  },
  {
   "cell_type": "code",
   "execution_count": 13,
   "id": "433ba9eb",
   "metadata": {
    "execution": {
     "iopub.execute_input": "2023-10-22T15:46:20.069796Z",
     "iopub.status.busy": "2023-10-22T15:46:20.069422Z",
     "iopub.status.idle": "2023-10-22T15:46:20.074207Z",
     "shell.execute_reply": "2023-10-22T15:46:20.072812Z"
    },
    "papermill": {
     "duration": 0.036948,
     "end_time": "2023-10-22T15:46:20.076822",
     "exception": false,
     "start_time": "2023-10-22T15:46:20.039874",
     "status": "completed"
    },
    "tags": []
   },
   "outputs": [],
   "source": [
    "#fig, (ax1) = plt.subplots(1, 1, figsize=(15, 5))\n",
    "#ax2 = ax1.twinx()\n",
    "#sns.histplot(data=dataset, x=\"m2_edificados\", binwidth=5, ax=ax1)\n",
    "#sns.ecdfplot(data=dataset, x=\"m2_edificados\", color=\"red\", lw=2,  ax=ax2)\n",
    "#plt.show();"
   ]
  },
  {
   "cell_type": "markdown",
   "id": "b28f839a",
   "metadata": {
    "papermill": {
     "duration": 0.027817,
     "end_time": "2023-10-22T15:46:20.133141",
     "exception": false,
     "start_time": "2023-10-22T15:46:20.105324",
     "status": "completed"
    },
    "tags": []
   },
   "source": [
    "### contar valores en una columna categórica (variables discretas) con [countplot](https://seaborn.pydata.org/generated/seaborn.countplot.html)"
   ]
  },
  {
   "cell_type": "code",
   "execution_count": 14,
   "id": "675757a9",
   "metadata": {
    "execution": {
     "iopub.execute_input": "2023-10-22T15:46:20.190954Z",
     "iopub.status.busy": "2023-10-22T15:46:20.190557Z",
     "iopub.status.idle": "2023-10-22T15:46:20.195152Z",
     "shell.execute_reply": "2023-10-22T15:46:20.193799Z"
    },
    "papermill": {
     "duration": 0.036505,
     "end_time": "2023-10-22T15:46:20.197537",
     "exception": false,
     "start_time": "2023-10-22T15:46:20.161032",
     "status": "completed"
    },
    "tags": []
   },
   "outputs": [],
   "source": [
    "# Seaborn shows the counts of observations in each categorical bin using bars\n",
    "#fig, (ax1) = plt.subplots(1, 1, figsize=(12, 5))\n",
    "\n",
    "#sns.countplot(x=dataset[\"n_habitaciones\"]);"
   ]
  },
  {
   "cell_type": "markdown",
   "id": "ebe4dcc6",
   "metadata": {
    "papermill": {
     "duration": 0.027752,
     "end_time": "2023-10-22T15:46:20.253285",
     "exception": false,
     "start_time": "2023-10-22T15:46:20.225533",
     "status": "completed"
    },
    "tags": []
   },
   "source": [
    "### Ejemplo de un seaborn [`lmplot`](https://seaborn.pydata.org/generated/seaborn.lmplot.html) (= scatter + ajuste lineal)"
   ]
  },
  {
   "cell_type": "code",
   "execution_count": 15,
   "id": "b3bc566f",
   "metadata": {
    "execution": {
     "iopub.execute_input": "2023-10-22T15:46:20.311005Z",
     "iopub.status.busy": "2023-10-22T15:46:20.310615Z",
     "iopub.status.idle": "2023-10-22T15:46:20.315103Z",
     "shell.execute_reply": "2023-10-22T15:46:20.313990Z"
    },
    "papermill": {
     "duration": 0.036381,
     "end_time": "2023-10-22T15:46:20.317472",
     "exception": false,
     "start_time": "2023-10-22T15:46:20.281091",
     "status": "completed"
    },
    "tags": []
   },
   "outputs": [],
   "source": [
    "# https://www.geeksforgeeks.org/python-seaborn-lmplot-method/\n",
    "#sns.lmplot(data=dataset, x=\"m2_edificados\", y=\"precio\", ci=95, \n",
    "#           height=8, aspect=1.5, line_kws={'color': 'red'}, scatter_kws={\"s\": 10});"
   ]
  },
  {
   "cell_type": "markdown",
   "id": "51d18897",
   "metadata": {
    "papermill": {
     "duration": 0.027625,
     "end_time": "2023-10-22T15:46:20.373447",
     "exception": false,
     "start_time": "2023-10-22T15:46:20.345822",
     "status": "completed"
    },
    "tags": []
   },
   "source": [
    "# Parte 1b: Data cleaning (limpieza de datos)\n",
    "\n",
    "## [`missingno`](https://github.com/ResidentMario/missingno)\n",
    "\n",
    "ver los datos ausentes"
   ]
  },
  {
   "cell_type": "code",
   "execution_count": 16,
   "id": "0ea522bb",
   "metadata": {
    "execution": {
     "iopub.execute_input": "2023-10-22T15:46:20.430691Z",
     "iopub.status.busy": "2023-10-22T15:46:20.430310Z",
     "iopub.status.idle": "2023-10-22T15:46:21.462040Z",
     "shell.execute_reply": "2023-10-22T15:46:21.461145Z"
    },
    "papermill": {
     "duration": 1.063241,
     "end_time": "2023-10-22T15:46:21.464346",
     "exception": false,
     "start_time": "2023-10-22T15:46:20.401105",
     "status": "completed"
    },
    "tags": []
   },
   "outputs": [
    {
     "data": {
      "image/png": "[encoded data removed]",
      "text/plain": [
       "<Figure size 2500x1000 with 1 Axes>"
      ]
     },
     "metadata": {},
     "output_type": "display_data"
    }
   ],
   "source": [
    "# We import the library 'missingno' as 'msno'\n",
    "import missingno as msno\n",
    "\n",
    "# Running 'msno' allows us to see which columns have the most nulls\n",
    "msno.matrix(dataset, color=(0.6,0.6,0), sparkline=False);"
   ]
  },
  {
   "cell_type": "markdown",
   "id": "1fdeaee2",
   "metadata": {
    "papermill": {
     "duration": 0.030321,
     "end_time": "2023-10-22T15:46:21.527992",
     "exception": false,
     "start_time": "2023-10-22T15:46:21.497671",
     "status": "completed"
    },
    "tags": []
   },
   "source": [
    "contar los datos ausentes"
   ]
  },
  {
   "cell_type": "code",
   "execution_count": 17,
   "id": "ba822b80",
   "metadata": {
    "execution": {
     "iopub.execute_input": "2023-10-22T15:46:21.590654Z",
     "iopub.status.busy": "2023-10-22T15:46:21.590247Z",
     "iopub.status.idle": "2023-10-22T15:46:21.601167Z",
     "shell.execute_reply": "2023-10-22T15:46:21.600024Z"
    },
    "papermill": {
     "duration": 0.045179,
     "end_time": "2023-10-22T15:46:21.604147",
     "exception": false,
     "start_time": "2023-10-22T15:46:21.558968",
     "status": "completed"
    },
    "tags": []
   },
   "outputs": [
    {
     "data": {
      "text/plain": [
       "precio_aparcamiento    7454\n",
       "m2_útiles              6565\n",
       "año_construción        5785\n",
       "precio_alquiler        2189\n",
       "m2_edificados             0\n",
       "n_habitaciones            0\n",
       "n_baños                   0\n",
       "planta                    0\n",
       "precio_zona               0\n",
       "necesita_reforma          0\n",
       "nueva_construcción        0\n",
       "ascensor                  0\n",
       "exterior                  0\n",
       "aparcamiento              0\n",
       "orientación               0\n",
       "precio                    0\n",
       "dtype: int64"
      ]
     },
     "execution_count": 17,
     "metadata": {},
     "output_type": "execute_result"
    }
   ],
   "source": [
    "dataset.isna().sum().sort_values(ascending=False)"
   ]
  },
  {
   "cell_type": "code",
   "execution_count": 18,
   "id": "49967ef1",
   "metadata": {
    "execution": {
     "iopub.execute_input": "2023-10-22T15:46:21.667568Z",
     "iopub.status.busy": "2023-10-22T15:46:21.667129Z",
     "iopub.status.idle": "2023-10-22T15:46:21.676392Z",
     "shell.execute_reply": "2023-10-22T15:46:21.675385Z"
    },
    "papermill": {
     "duration": 0.043716,
     "end_time": "2023-10-22T15:46:21.678689",
     "exception": false,
     "start_time": "2023-10-22T15:46:21.634973",
     "status": "completed"
    },
    "tags": []
   },
   "outputs": [
    {
     "data": {
      "text/plain": [
       "21993"
      ]
     },
     "execution_count": 18,
     "metadata": {},
     "output_type": "execute_result"
    }
   ],
   "source": [
    "# Numero total de datos ausentes en el dataset\n",
    "dataset.isna().sum().sum()"
   ]
  },
  {
   "cell_type": "code",
   "execution_count": 19,
   "id": "d22ea87b",
   "metadata": {
    "execution": {
     "iopub.execute_input": "2023-10-22T15:46:21.742155Z",
     "iopub.status.busy": "2023-10-22T15:46:21.741731Z",
     "iopub.status.idle": "2023-10-22T15:46:21.753761Z",
     "shell.execute_reply": "2023-10-22T15:46:21.752998Z"
    },
    "papermill": {
     "duration": 0.046957,
     "end_time": "2023-10-22T15:46:21.755766",
     "exception": false,
     "start_time": "2023-10-22T15:46:21.708809",
     "status": "completed"
    },
    "tags": []
   },
   "outputs": [
    {
     "name": "stdout",
     "output_type": "stream",
     "text": [
      "                     Missing Percentage\n",
      "m2_edificados                  0.000000\n",
      "m2_útiles                     60.495761\n",
      "n_habitaciones                 0.000000\n",
      "n_baños                        0.000000\n",
      "planta                         0.000000\n",
      "precio_alquiler               20.171397\n",
      "precio_zona                    0.000000\n",
      "necesita_reforma               0.000000\n",
      "nueva_construcción             0.000000\n",
      "año_construción               53.308146\n",
      "ascensor                       0.000000\n",
      "exterior                       0.000000\n",
      "aparcamiento                   0.000000\n",
      "precio_aparcamiento           68.687799\n",
      "orientación                    0.000000\n",
      "precio                         0.000000\n"
     ]
    }
   ],
   "source": [
    "# This is the code to calculate the % of missing in each specific column in my dataframe:\n",
    "# 'dataset' is my DataFrame\n",
    "missing_percentage = (dataset.isna().sum() / len(dataset)) * 100\n",
    "\n",
    "# Create a DataFrame to display the missing percentage for each column\n",
    "# missing_info = pd.DataFrame({'Column Name': dataset.columns, 'Missing Percentage': missing_percentage})\n",
    "# Previous line duplicated the index which has been changed to the column names\n",
    "# To avoid this error because of custom index:\n",
    "missing_info = pd.DataFrame({'Missing Percentage': missing_percentage})\n",
    "\n",
    "# Set the index to be the column names\n",
    "missing_info.index = dataset.columns\n",
    "\n",
    "# Display the result\n",
    "print(missing_info)\n"
   ]
  },
  {
   "cell_type": "markdown",
   "id": "e21612d9",
   "metadata": {
    "papermill": {
     "duration": 0.030461,
     "end_time": "2023-10-22T15:46:21.816666",
     "exception": false,
     "start_time": "2023-10-22T15:46:21.786205",
     "status": "completed"
    },
    "tags": []
   },
   "source": [
    "**We can exclude columns when they contain a very high percentage of missing values (e.g., more than 50%).**\n",
    "\n",
    "Eventually after checking our data further down the line, we can see that we can remove entire columns that do not affect our ML outcome."
   ]
  },
  {
   "cell_type": "markdown",
   "id": "d1db1efa",
   "metadata": {
    "papermill": {
     "duration": 0.037762,
     "end_time": "2023-10-22T15:46:21.889956",
     "exception": false,
     "start_time": "2023-10-22T15:46:21.852194",
     "status": "completed"
    },
    "tags": []
   },
   "source": [
    "Variables categóricas, *i.e.* `object`\n",
    "\n",
    "[`pandas.DataFrame.dtypes`](https://pandas.pydata.org/pandas-docs/stable/reference/api/pandas.DataFrame.dtypes.html)"
   ]
  },
  {
   "cell_type": "code",
   "execution_count": 20,
   "id": "ec448c00",
   "metadata": {
    "execution": {
     "iopub.execute_input": "2023-10-22T15:46:21.963809Z",
     "iopub.status.busy": "2023-10-22T15:46:21.962928Z",
     "iopub.status.idle": "2023-10-22T15:46:21.972537Z",
     "shell.execute_reply": "2023-10-22T15:46:21.970985Z"
    },
    "papermill": {
     "duration": 0.053007,
     "end_time": "2023-10-22T15:46:21.975500",
     "exception": false,
     "start_time": "2023-10-22T15:46:21.922493",
     "status": "completed"
    },
    "tags": []
   },
   "outputs": [
    {
     "data": {
      "text/plain": [
       "m2_edificados          float64\n",
       "m2_útiles              float64\n",
       "n_habitaciones           int64\n",
       "n_baños                  int64\n",
       "planta                   int64\n",
       "precio_alquiler        float64\n",
       "precio_zona              int64\n",
       "necesita_reforma         int64\n",
       "nueva_construcción       int64\n",
       "año_construción        float64\n",
       "ascensor                 int64\n",
       "exterior                 int64\n",
       "aparcamiento             int64\n",
       "precio_aparcamiento    float64\n",
       "orientación             object\n",
       "precio                   int64\n",
       "dtype: object"
      ]
     },
     "execution_count": 20,
     "metadata": {},
     "output_type": "execute_result"
    }
   ],
   "source": [
    "dataset.dtypes"
   ]
  },
  {
   "cell_type": "markdown",
   "id": "a46b293b",
   "metadata": {
    "papermill": {
     "duration": 0.030979,
     "end_time": "2023-10-22T15:46:22.040877",
     "exception": false,
     "start_time": "2023-10-22T15:46:22.009898",
     "status": "completed"
    },
    "tags": []
   },
   "source": [
    "nota que la columna `orientación` es tipo `object`:"
   ]
  },
  {
   "cell_type": "code",
   "execution_count": 21,
   "id": "ec2c730f",
   "metadata": {
    "execution": {
     "iopub.execute_input": "2023-10-22T15:46:22.104268Z",
     "iopub.status.busy": "2023-10-22T15:46:22.103639Z",
     "iopub.status.idle": "2023-10-22T15:46:22.113108Z",
     "shell.execute_reply": "2023-10-22T15:46:22.112030Z"
    },
    "papermill": {
     "duration": 0.044192,
     "end_time": "2023-10-22T15:46:22.115500",
     "exception": false,
     "start_time": "2023-10-22T15:46:22.071308",
     "status": "completed"
    },
    "tags": []
   },
   "outputs": [
    {
     "data": {
      "text/plain": [
       "orientación\n",
       "desconocido    4901\n",
       "este           2605\n",
       "sur            1985\n",
       "oeste           946\n",
       "norte           415\n",
       "Name: count, dtype: int64"
      ]
     },
     "execution_count": 21,
     "metadata": {},
     "output_type": "execute_result"
    }
   ],
   "source": [
    "dataset[\"orientación\"].value_counts()"
   ]
  },
  {
   "cell_type": "markdown",
   "id": "489279bc",
   "metadata": {
    "papermill": {
     "duration": 0.030708,
     "end_time": "2023-10-22T15:46:22.177251",
     "exception": false,
     "start_time": "2023-10-22T15:46:22.146543",
     "status": "completed"
    },
    "tags": []
   },
   "source": [
    "### Mete todo tu limpieza aquí en este función\n",
    "\n",
    "Eso es un ejemplo de como reemplazar cualquier valor `NaN` con un 0 en todo el dataframe con [`pandas.DataFrame.fillna`](https://pandas.pydata.org/pandas-docs/stable/reference/api/pandas.DataFrame.fillna.html) y One-hot encode los categoricals con [`pandas.get_dummies`](https://pandas.pydata.org/pandas-docs/stable/reference/api/pandas.get_dummies.html):"
   ]
  },
  {
   "cell_type": "code",
   "execution_count": 22,
   "id": "7448fe9c",
   "metadata": {
    "execution": {
     "iopub.execute_input": "2023-10-22T15:46:22.243673Z",
     "iopub.status.busy": "2023-10-22T15:46:22.242589Z",
     "iopub.status.idle": "2023-10-22T15:46:22.251204Z",
     "shell.execute_reply": "2023-10-22T15:46:22.250089Z"
    },
    "papermill": {
     "duration": 0.047513,
     "end_time": "2023-10-22T15:46:22.255269",
     "exception": false,
     "start_time": "2023-10-22T15:46:22.207756",
     "status": "completed"
    },
    "tags": []
   },
   "outputs": [
    {
     "name": "stdout",
     "output_type": "stream",
     "text": [
      "Index(['m2_edificados', 'm2_útiles', 'n_habitaciones', 'n_baños', 'planta',\n",
      "       'precio_alquiler', 'precio_zona', 'necesita_reforma',\n",
      "       'nueva_construcción', 'año_construción', 'ascensor', 'exterior',\n",
      "       'aparcamiento', 'precio_aparcamiento', 'orientación', 'precio'],\n",
      "      dtype='object')\n"
     ]
    }
   ],
   "source": [
    "print(dataset.columns)\n"
   ]
  },
  {
   "cell_type": "code",
   "execution_count": 23,
   "id": "05338a72",
   "metadata": {
    "execution": {
     "iopub.execute_input": "2023-10-22T15:46:22.326244Z",
     "iopub.status.busy": "2023-10-22T15:46:22.325522Z",
     "iopub.status.idle": "2023-10-22T15:46:22.337080Z",
     "shell.execute_reply": "2023-10-22T15:46:22.335835Z"
    },
    "papermill": {
     "duration": 0.046793,
     "end_time": "2023-10-22T15:46:22.339668",
     "exception": false,
     "start_time": "2023-10-22T15:46:22.292875",
     "status": "completed"
    },
    "tags": []
   },
   "outputs": [],
   "source": [
    "def cleaning(dataset):\n",
    "    # Rename a column\n",
    "    dataset = dataset.rename(columns={'año_construción': 'año_construcción'})\n",
    "    \n",
    "    # Fix erroneous values\n",
    "    dataset = dataset.replace({\"año_construción\": 8170 }, {\"año_construción\": 1870 })\n",
    "    \n",
    "    # Remove columns with more than 50% missing data\n",
    "    dataset = dataset.drop([\"precio_alquiler\", \"m2_útiles\", \"precio_aparcamiento\", \"exterior\", \"nueva_construcción\", \"orientación\", \"aparcamiento\", \"año_construcción\", \"necesita_reforma\", \"n_baños\", \"planta\", \"n_habitaciones\", \"ascensor\"], axis=1)\n",
    "\n",
    "    # Remove columns with zero variance\n",
    "    dataset = dataset.drop(dataset.columns[dataset.nunique() == 1], axis=1)\n",
    "\n",
    "    # Codify categorical columns to nominal values\n",
    "    dataset = pd.get_dummies(dataset, drop_first=True)\n",
    "    \n",
    "    # Create a new column 'property_value'\n",
    "    dataset[\"property_value\"] = dataset[\"precio_zona\"] * dataset[\"m2_edificados\"]\n",
    "    dataset = dataset.drop([\"precio_zona\", \"m2_edificados\"], axis=1)\n",
    "\n",
    "    # Convert float columns to integers\n",
    "    float_columns = dataset.select_dtypes(include='float')\n",
    "    dataset[float_columns.columns] = dataset[float_columns.columns].astype('int')\n",
    "\n",
    "    # Fill missing values with an extreme value (e.g., -999)\n",
    "    dataset = dataset.fillna(-999)\n",
    "\n",
    "    return dataset\n"
   ]
  },
  {
   "cell_type": "code",
   "execution_count": 24,
   "id": "d062f9af",
   "metadata": {
    "execution": {
     "iopub.execute_input": "2023-10-22T15:46:22.403454Z",
     "iopub.status.busy": "2023-10-22T15:46:22.402679Z",
     "iopub.status.idle": "2023-10-22T15:46:22.422298Z",
     "shell.execute_reply": "2023-10-22T15:46:22.421517Z"
    },
    "papermill": {
     "duration": 0.05375,
     "end_time": "2023-10-22T15:46:22.424287",
     "exception": false,
     "start_time": "2023-10-22T15:46:22.370537",
     "status": "completed"
    },
    "tags": []
   },
   "outputs": [
    {
     "data": {
      "text/html": [
       "<div>\n",
       "<style scoped>\n",
       "    .dataframe tbody tr th:only-of-type {\n",
       "        vertical-align: middle;\n",
       "    }\n",
       "\n",
       "    .dataframe tbody tr th {\n",
       "        vertical-align: top;\n",
       "    }\n",
       "\n",
       "    .dataframe thead th {\n",
       "        text-align: right;\n",
       "    }\n",
       "</style>\n",
       "<table border=\"1\" class=\"dataframe\">\n",
       "  <thead>\n",
       "    <tr style=\"text-align: right;\">\n",
       "      <th></th>\n",
       "      <th>precio</th>\n",
       "      <th>property_value</th>\n",
       "    </tr>\n",
       "    <tr>\n",
       "      <th>piso_id</th>\n",
       "      <th></th>\n",
       "      <th></th>\n",
       "    </tr>\n",
       "  </thead>\n",
       "  <tbody>\n",
       "    <tr>\n",
       "      <th>0</th>\n",
       "      <td>189000</td>\n",
       "      <td>189012</td>\n",
       "    </tr>\n",
       "    <tr>\n",
       "      <th>1</th>\n",
       "      <td>560000</td>\n",
       "      <td>559980</td>\n",
       "    </tr>\n",
       "    <tr>\n",
       "      <th>2</th>\n",
       "      <td>980000</td>\n",
       "      <td>979880</td>\n",
       "    </tr>\n",
       "    <tr>\n",
       "      <th>3</th>\n",
       "      <td>159000</td>\n",
       "      <td>159018</td>\n",
       "    </tr>\n",
       "    <tr>\n",
       "      <th>4</th>\n",
       "      <td>1790000</td>\n",
       "      <td>1790040</td>\n",
       "    </tr>\n",
       "    <tr>\n",
       "      <th>...</th>\n",
       "      <td>...</td>\n",
       "      <td>...</td>\n",
       "    </tr>\n",
       "    <tr>\n",
       "      <th>10847</th>\n",
       "      <td>850000</td>\n",
       "      <td>850068</td>\n",
       "    </tr>\n",
       "    <tr>\n",
       "      <th>10848</th>\n",
       "      <td>399500</td>\n",
       "      <td>399500</td>\n",
       "    </tr>\n",
       "    <tr>\n",
       "      <th>10849</th>\n",
       "      <td>229000</td>\n",
       "      <td>228992</td>\n",
       "    </tr>\n",
       "    <tr>\n",
       "      <th>10850</th>\n",
       "      <td>910000</td>\n",
       "      <td>910000</td>\n",
       "    </tr>\n",
       "    <tr>\n",
       "      <th>10851</th>\n",
       "      <td>420000</td>\n",
       "      <td>420000</td>\n",
       "    </tr>\n",
       "  </tbody>\n",
       "</table>\n",
       "<p>10852 rows × 2 columns</p>\n",
       "</div>"
      ],
      "text/plain": [
       "          precio  property_value\n",
       "piso_id                         \n",
       "0         189000          189012\n",
       "1         560000          559980\n",
       "2         980000          979880\n",
       "3         159000          159018\n",
       "4        1790000         1790040\n",
       "...          ...             ...\n",
       "10847     850000          850068\n",
       "10848     399500          399500\n",
       "10849     229000          228992\n",
       "10850     910000          910000\n",
       "10851     420000          420000\n",
       "\n",
       "[10852 rows x 2 columns]"
      ]
     },
     "execution_count": 24,
     "metadata": {},
     "output_type": "execute_result"
    }
   ],
   "source": [
    "# echar un vistazo a nuestro dataset ya \"limpiado\"\n",
    "cleaning(dataset)"
   ]
  },
  {
   "cell_type": "markdown",
   "id": "d202c245",
   "metadata": {
    "papermill": {
     "duration": 0.030479,
     "end_time": "2023-10-22T15:46:22.485611",
     "exception": false,
     "start_time": "2023-10-22T15:46:22.455132",
     "status": "completed"
    },
    "tags": []
   },
   "source": [
    "# Parte 2: Un modelo de Machine Learning\n",
    "\n",
    "### Crear `X` e `y` de `train`\n",
    "[`pandas.DataFrame.drop`](https://pandas.pydata.org/pandas-docs/stable/reference/api/pandas.DataFrame.drop.html)"
   ]
  },
  {
   "cell_type": "code",
   "execution_count": 25,
   "id": "e7aa3f3d",
   "metadata": {
    "execution": {
     "iopub.execute_input": "2023-10-22T15:46:22.550325Z",
     "iopub.status.busy": "2023-10-22T15:46:22.549592Z",
     "iopub.status.idle": "2023-10-22T15:46:22.556064Z",
     "shell.execute_reply": "2023-10-22T15:46:22.555214Z"
    },
    "papermill": {
     "duration": 0.041857,
     "end_time": "2023-10-22T15:46:22.558357",
     "exception": false,
     "start_time": "2023-10-22T15:46:22.516500",
     "status": "completed"
    },
    "tags": []
   },
   "outputs": [],
   "source": [
    "# We are copying our entire dataset into 'X'\n",
    "X = dataset\n",
    "# Our target are the prices, 'precio'; but we delete it\n",
    "X = X.drop([\"precio\"], axis=1) \n",
    "# X is redefined as X without the 'precio' column\n",
    "\n",
    "# And so now what we do is replace 'precio' with this new 'y' column\n",
    "y = dataset[\"precio\"]"
   ]
  },
  {
   "cell_type": "markdown",
   "id": "ac4cfffa",
   "metadata": {
    "papermill": {
     "duration": 0.030391,
     "end_time": "2023-10-22T15:46:22.619793",
     "exception": false,
     "start_time": "2023-10-22T15:46:22.589402",
     "status": "completed"
    },
    "tags": []
   },
   "source": [
    "### Crear nuestros `train` y `validation` datasets (con un 80%-20% split usando `test_size=0.20`)\n",
    "[`sklearn.model_selection.train_test_split`](https://scikit-learn.org/stable/modules/generated/sklearn.model_selection.train_test_split.html)"
   ]
  },
  {
   "cell_type": "code",
   "execution_count": 26,
   "id": "2c51fbe0",
   "metadata": {
    "execution": {
     "iopub.execute_input": "2023-10-22T15:46:22.688656Z",
     "iopub.status.busy": "2023-10-22T15:46:22.688122Z",
     "iopub.status.idle": "2023-10-22T15:46:22.700545Z",
     "shell.execute_reply": "2023-10-22T15:46:22.699315Z"
    },
    "papermill": {
     "duration": 0.051855,
     "end_time": "2023-10-22T15:46:22.703330",
     "exception": false,
     "start_time": "2023-10-22T15:46:22.651475",
     "status": "completed"
    },
    "tags": []
   },
   "outputs": [],
   "source": [
    "# And so we are using 20% to do our test at random, row by row, so that we are left with 80/20\n",
    "from sklearn.model_selection import train_test_split\n",
    "X_train, X_validation, y_train, y_validation = train_test_split(X, y, test_size=0.20, random_state=2)\n",
    "# test_size defines the test set\n",
    "# With this operation, we create the diagram on pg 80"
   ]
  },
  {
   "cell_type": "markdown",
   "id": "3974f952",
   "metadata": {
    "papermill": {
     "duration": 0.032987,
     "end_time": "2023-10-22T15:46:22.775822",
     "exception": false,
     "start_time": "2023-10-22T15:46:22.742835",
     "status": "completed"
    },
    "tags": []
   },
   "source": [
    "Para regresión lineal vamos a re-escalar los datos usando el [`RobustScaler`](https://scikit-learn.org/stable/modules/generated/sklearn.preprocessing.RobustScaler.html)"
   ]
  },
  {
   "cell_type": "code",
   "execution_count": 27,
   "id": "0764342b",
   "metadata": {
    "execution": {
     "iopub.execute_input": "2023-10-22T15:46:22.842503Z",
     "iopub.status.busy": "2023-10-22T15:46:22.842066Z",
     "iopub.status.idle": "2023-10-22T15:46:22.847969Z",
     "shell.execute_reply": "2023-10-22T15:46:22.846854Z"
    },
    "papermill": {
     "duration": 0.043261,
     "end_time": "2023-10-22T15:46:22.850526",
     "exception": false,
     "start_time": "2023-10-22T15:46:22.807265",
     "status": "completed"
    },
    "tags": []
   },
   "outputs": [],
   "source": [
    "from sklearn.preprocessing import RobustScaler\n",
    "RS = RobustScaler() # to rescale everything"
   ]
  },
  {
   "cell_type": "code",
   "execution_count": 28,
   "id": "06899b2f",
   "metadata": {
    "execution": {
     "iopub.execute_input": "2023-10-22T15:46:22.917829Z",
     "iopub.status.busy": "2023-10-22T15:46:22.917447Z",
     "iopub.status.idle": "2023-10-22T15:46:22.943211Z",
     "shell.execute_reply": "2023-10-22T15:46:22.942006Z"
    },
    "papermill": {
     "duration": 0.061291,
     "end_time": "2023-10-22T15:46:22.945937",
     "exception": false,
     "start_time": "2023-10-22T15:46:22.884646",
     "status": "completed"
    },
    "tags": []
   },
   "outputs": [],
   "source": [
    "# haz data cleaning de X_train and rename \n",
    "X_train       = cleaning(X_train)\n",
    "# guardar los nombres de las columnas\n",
    "feature_names = X_train.columns.tolist()\n",
    "# re-escalar\n",
    "X_train       = RS.fit_transform(X_train)\n",
    "\n",
    "# haz data cleaning of X_validation\n",
    "X_validation = cleaning(X_validation)\n",
    "# re-escalar\n",
    "X_validation = RS.transform(X_validation)\n",
    "\n",
    "# The data that we will have in the end will be used into our M.L. algorithm\n",
    "# "
   ]
  },
  {
   "cell_type": "markdown",
   "id": "75d7c586",
   "metadata": {
    "papermill": {
     "duration": 0.033106,
     "end_time": "2023-10-22T15:46:23.010739",
     "exception": false,
     "start_time": "2023-10-22T15:46:22.977633",
     "status": "completed"
    },
    "tags": []
   },
   "source": [
    "## Baseline model\n",
    "\n",
    "Calcular el RMSE score para el model \"baseline\" con\n",
    "[`sklearn.metrics.mean_squared_error`](https://scikit-learn.org/stable/modules/generated/sklearn.metrics.mean_squared_error.html), donde\n",
    "\n",
    " $$\\large {\\mathrm {RMSE}}  = \\sqrt{\\frac{1}{n} \\sum_{i=1}^n \\left(y_i-\\hat{y_i}\\right)^2} $$"
   ]
  },
  {
   "cell_type": "code",
   "execution_count": 29,
   "id": "9dcd93f2",
   "metadata": {
    "execution": {
     "iopub.execute_input": "2023-10-22T15:46:23.078953Z",
     "iopub.status.busy": "2023-10-22T15:46:23.078110Z",
     "iopub.status.idle": "2023-10-22T15:46:23.087606Z",
     "shell.execute_reply": "2023-10-22T15:46:23.086176Z"
    },
    "papermill": {
     "duration": 0.046161,
     "end_time": "2023-10-22T15:46:23.089984",
     "exception": false,
     "start_time": "2023-10-22T15:46:23.043823",
     "status": "completed"
    },
    "tags": []
   },
   "outputs": [
    {
     "name": "stdout",
     "output_type": "stream",
     "text": [
      "RMSE del baseline:  616867.6\n"
     ]
    }
   ],
   "source": [
    "# We calculate and establish the baseline\n",
    "y_train_mean = pd.Series(y_train.mean(), index=range(len(y_validation)))\n",
    "\n",
    "from sklearn.metrics import mean_squared_error\n",
    "print(\"RMSE del baseline: \",round(mean_squared_error(y_validation, y_train_mean, squared=False),1))\n",
    "\n",
    "# The worst model and worst case because we haven't considered any data\n",
    "# It is good practice to calculate the baseline model"
   ]
  },
  {
   "cell_type": "code",
   "execution_count": 30,
   "id": "27481687",
   "metadata": {
    "execution": {
     "iopub.execute_input": "2023-10-22T15:46:23.155401Z",
     "iopub.status.busy": "2023-10-22T15:46:23.154575Z",
     "iopub.status.idle": "2023-10-22T15:46:23.159629Z",
     "shell.execute_reply": "2023-10-22T15:46:23.158585Z"
    },
    "papermill": {
     "duration": 0.040224,
     "end_time": "2023-10-22T15:46:23.162009",
     "exception": false,
     "start_time": "2023-10-22T15:46:23.121785",
     "status": "completed"
    },
    "tags": []
   },
   "outputs": [],
   "source": [
    "# https://scikit-learn.org/stable/modules/ensemble.html\n",
    "# https://towardsdatascience.com/ensemble-methods-in-machine-learning-what-are-they-and-why-use-them-68ec3f9fef5f\n",
    "# https://analyticsindiamag.com/step-by-step-building-block-for-machine-learning-models/\n",
    "# We use an ensemble method that combines several base models in order to produce one optimal predictive model:"
   ]
  },
  {
   "cell_type": "markdown",
   "id": "3add0d2c",
   "metadata": {
    "papermill": {
     "duration": 0.030484,
     "end_time": "2023-10-22T15:46:23.223558",
     "exception": false,
     "start_time": "2023-10-22T15:46:23.193074",
     "status": "completed"
    },
    "tags": []
   },
   "source": [
    "## Linear Regression\n",
    "[`sklearn.linear_model.LinearRegression`](https://scikit-learn.org/stable/modules/generated/sklearn.linear_model.LinearRegression.html)\n",
    "\n",
    "Aquí, en estos dos lineas de código, es donde definimos que estimador vamos a usar:"
   ]
  },
  {
   "cell_type": "code",
   "execution_count": 31,
   "id": "78b2729d",
   "metadata": {
    "execution": {
     "iopub.execute_input": "2023-10-22T15:46:23.288341Z",
     "iopub.status.busy": "2023-10-22T15:46:23.287935Z",
     "iopub.status.idle": "2023-10-22T15:46:23.384756Z",
     "shell.execute_reply": "2023-10-22T15:46:23.383729Z"
    },
    "papermill": {
     "duration": 0.132433,
     "end_time": "2023-10-22T15:46:23.387344",
     "exception": false,
     "start_time": "2023-10-22T15:46:23.254911",
     "status": "completed"
    },
    "tags": []
   },
   "outputs": [],
   "source": [
    "# We finally start machine learning here\n",
    "# We start with a linear regression with 'casas'\n",
    "# We don't have to use the linear equation here because here we set up the model\n",
    "from sklearn.linear_model import LinearRegression\n",
    "regressor = LinearRegression()\n",
    "#regressor.fit(X_train, y_train)\n",
    "#y_pred_LR = regressor.predict(X_validation)\n",
    "\n",
    "\n",
    "# Day 4: To prevent overfitting, we use a better model:\n",
    "#from sklearn.ensemble import RandomForestRegressor\n",
    "#regressor = RandomForestRegressor(max_depth= 50,\n",
    "#                                 min_samples_leaf = 2,\n",
    "#                                 n_estimators = 100,\n",
    "#                                 random_state = 42)\n",
    "\n",
    "#Day 4: We remove the RandomForest\n",
    "#Day 4: We re-establish the linear regression and set a 'y_pred'"
   ]
  },
  {
   "cell_type": "markdown",
   "id": "d8eb3ceb",
   "metadata": {
    "papermill": {
     "duration": 0.031385,
     "end_time": "2023-10-22T15:46:23.449995",
     "exception": false,
     "start_time": "2023-10-22T15:46:23.418610",
     "status": "completed"
    },
    "tags": []
   },
   "source": [
    "## Decision Tree"
   ]
  },
  {
   "cell_type": "code",
   "execution_count": 32,
   "id": "8bf2d79a",
   "metadata": {
    "execution": {
     "iopub.execute_input": "2023-10-22T15:46:23.514428Z",
     "iopub.status.busy": "2023-10-22T15:46:23.513978Z",
     "iopub.status.idle": "2023-10-22T15:46:23.519154Z",
     "shell.execute_reply": "2023-10-22T15:46:23.518053Z"
    },
    "papermill": {
     "duration": 0.039731,
     "end_time": "2023-10-22T15:46:23.521339",
     "exception": false,
     "start_time": "2023-10-22T15:46:23.481608",
     "status": "completed"
    },
    "tags": []
   },
   "outputs": [],
   "source": [
    "# Day 3: It is better to replace the linear regression with a Decision Tree\n",
    "#from sklearn.tree import DecisionTreeRegressor\n",
    "#regressor = DecisionTreeRegressor(max_depth = 50, #15 #18 #25\n",
    "#                                  min_samples_leaf = 3, #2 #3\n",
    "#                                  random_state = 42) #42\n",
    "#regressor.fit(X_train, y_train)\n",
    "#y_pred_DT = regressor.predict(X_validation)"
   ]
  },
  {
   "cell_type": "markdown",
   "id": "a2dfe59a",
   "metadata": {
    "papermill": {
     "duration": 0.03074,
     "end_time": "2023-10-22T15:46:23.583290",
     "exception": false,
     "start_time": "2023-10-22T15:46:23.552550",
     "status": "completed"
    },
    "tags": []
   },
   "source": [
    "## Random Forest"
   ]
  },
  {
   "cell_type": "code",
   "execution_count": 33,
   "id": "983904a2",
   "metadata": {
    "execution": {
     "iopub.execute_input": "2023-10-22T15:46:23.647051Z",
     "iopub.status.busy": "2023-10-22T15:46:23.646650Z",
     "iopub.status.idle": "2023-10-22T15:46:23.651154Z",
     "shell.execute_reply": "2023-10-22T15:46:23.650283Z"
    },
    "papermill": {
     "duration": 0.039351,
     "end_time": "2023-10-22T15:46:23.653441",
     "exception": false,
     "start_time": "2023-10-22T15:46:23.614090",
     "status": "completed"
    },
    "tags": []
   },
   "outputs": [],
   "source": [
    "# Day 4: To prevent overfitting, we use a better model:\n",
    "#from sklearn.ensemble import RandomForestRegressor\n",
    "#regressor = RandomForestRegressor(max_depth= 50,\n",
    "#                                  min_samples_leaf = 2,\n",
    "#                                  n_estimators = 100,\n",
    "#                                  random_state = 42)\n",
    "#regressor.fit(X_train, y_train)\n",
    "#y_pred_RF = regressor.predict(X_validation)\n",
    "#Day 4: We remove the RandomForest\n",
    "#Day 4: We re-establish the linear regression"
   ]
  },
  {
   "cell_type": "markdown",
   "id": "d129bba7",
   "metadata": {
    "papermill": {
     "duration": 0.031376,
     "end_time": "2023-10-22T15:46:23.716034",
     "exception": false,
     "start_time": "2023-10-22T15:46:23.684658",
     "status": "completed"
    },
    "tags": []
   },
   "source": [
    "y ahora hacer el ajuste (`fit`) con nuestro regressor"
   ]
  },
  {
   "cell_type": "markdown",
   "id": "4472fc83",
   "metadata": {
    "papermill": {
     "duration": 0.030793,
     "end_time": "2023-10-22T15:46:23.778087",
     "exception": false,
     "start_time": "2023-10-22T15:46:23.747294",
     "status": "completed"
    },
    "tags": []
   },
   "source": [
    "## Grid Search:"
   ]
  },
  {
   "cell_type": "code",
   "execution_count": 34,
   "id": "39bc6c92",
   "metadata": {
    "execution": {
     "iopub.execute_input": "2023-10-22T15:46:23.842588Z",
     "iopub.status.busy": "2023-10-22T15:46:23.842188Z",
     "iopub.status.idle": "2023-10-22T15:46:23.847271Z",
     "shell.execute_reply": "2023-10-22T15:46:23.846094Z"
    },
    "papermill": {
     "duration": 0.040254,
     "end_time": "2023-10-22T15:46:23.849622",
     "exception": false,
     "start_time": "2023-10-22T15:46:23.809368",
     "status": "completed"
    },
    "tags": []
   },
   "outputs": [],
   "source": [
    "# Finding the best set of hyper-parameters:\n",
    "#from sklearn.model_selection import GridSearchCV\n",
    "#param_grid = {\"max_depth\": [9, 11, 13],\n",
    "#                  \"n_estimators\": [700, 1200, 2000],\n",
    "#                  \"learning_rate\": [0.01, 0.015]}\n",
    "\n",
    "#search = GridSearchCV(regressor, param_grid, cv=5).fit(X_train, y_train)\n",
    "\n",
    "#print(\"The best hyperparameters are \",search.best_params_)\n",
    "\n",
    "# The best hyperparameters are  {'learning_rate': 0.01, 'max_depth': 11, 'n_estimators': 2000}\n"
   ]
  },
  {
   "cell_type": "markdown",
   "id": "f11b4f22",
   "metadata": {
    "papermill": {
     "duration": 0.032751,
     "end_time": "2023-10-22T15:46:23.913613",
     "exception": false,
     "start_time": "2023-10-22T15:46:23.880862",
     "status": "completed"
    },
    "tags": []
   },
   "source": [
    "## XGBoost Regression"
   ]
  },
  {
   "cell_type": "code",
   "execution_count": 35,
   "id": "e812daac",
   "metadata": {
    "execution": {
     "iopub.execute_input": "2023-10-22T15:46:23.978258Z",
     "iopub.status.busy": "2023-10-22T15:46:23.977833Z",
     "iopub.status.idle": "2023-10-22T15:46:23.983299Z",
     "shell.execute_reply": "2023-10-22T15:46:23.982182Z"
    },
    "papermill": {
     "duration": 0.040567,
     "end_time": "2023-10-22T15:46:23.985561",
     "exception": false,
     "start_time": "2023-10-22T15:46:23.944994",
     "status": "completed"
    },
    "tags": []
   },
   "outputs": [],
   "source": [
    "# We take the best hyperparameters and feed them:\n",
    "#regressor=xgb.XGBRegressor(learning_rate = 0.01,\n",
    "#                           n_estimators = 2000,\n",
    "#                           max_depth = 11,\n",
    "#                           missing = -999,\n",
    "#                           eval_metric = 'rmse')\n",
    " \n",
    "#regressor.fit(X_train, y_train)\n",
    "#y_pred_XGB = regressor.predict(X_validation)"
   ]
  },
  {
   "cell_type": "code",
   "execution_count": 36,
   "id": "d34ccf9b",
   "metadata": {
    "execution": {
     "iopub.execute_input": "2023-10-22T15:46:24.051737Z",
     "iopub.status.busy": "2023-10-22T15:46:24.051331Z",
     "iopub.status.idle": "2023-10-22T15:46:24.056350Z",
     "shell.execute_reply": "2023-10-22T15:46:24.055114Z"
    },
    "papermill": {
     "duration": 0.040772,
     "end_time": "2023-10-22T15:46:24.058863",
     "exception": false,
     "start_time": "2023-10-22T15:46:24.018091",
     "status": "completed"
    },
    "tags": []
   },
   "outputs": [],
   "source": [
    "# We use an ensemble approach to improve prediction accuracy by combining the strengths of multiple models\n",
    "#y_pred_ensemble = np.mean(np.array([y_pred_RF ,y_pred_XGB, y_pred_LR, y_pred_DT]),axis=0)\n",
    "# 'y_pred_ensemble' is the ensemble prediction\n",
    "# 'y_pred_RF', 'y_pred_XGB', 'y_pred_LR', and 'y_pred_DT' are variables that contain the predictions made by each of the four machine learning models\n",
    "# np.array([y_pred_RF, y_pred_XGB, y_pred_LR, y_pred_DT]): creates an array where each column corresponds to a prediction\n",
    "# 'np.mean(..., axis=0)': calculates the mean along the 0-axis (which is the vertical axis, i.e., it calculates the mean for each column); computes an average from the average of the predictions from all four models\n"
   ]
  },
  {
   "cell_type": "code",
   "execution_count": 37,
   "id": "a3bf2843",
   "metadata": {
    "execution": {
     "iopub.execute_input": "2023-10-22T15:46:24.126297Z",
     "iopub.status.busy": "2023-10-22T15:46:24.125856Z",
     "iopub.status.idle": "2023-10-22T15:46:24.154620Z",
     "shell.execute_reply": "2023-10-22T15:46:24.153522Z"
    },
    "papermill": {
     "duration": 0.065824,
     "end_time": "2023-10-22T15:46:24.157163",
     "exception": false,
     "start_time": "2023-10-22T15:46:24.091339",
     "status": "completed"
    },
    "tags": []
   },
   "outputs": [
    {
     "data": {
      "text/html": [
       "<style>#sk-container-id-1 {color: black;background-color: white;}#sk-container-id-1 pre{padding: 0;}#sk-container-id-1 div.sk-toggleable {background-color: white;}#sk-container-id-1 label.sk-toggleable__label {cursor: pointer;display: block;width: 100%;margin-bottom: 0;padding: 0.3em;box-sizing: border-box;text-align: center;}#sk-container-id-1 label.sk-toggleable__label-arrow:before {content: \"▸\";float: left;margin-right: 0.25em;color: #696969;}#sk-container-id-1 label.sk-toggleable__label-arrow:hover:before {color: black;}#sk-container-id-1 div.sk-estimator:hover label.sk-toggleable__label-arrow:before {color: black;}#sk-container-id-1 div.sk-toggleable__content {max-height: 0;max-width: 0;overflow: hidden;text-align: left;background-color: #f0f8ff;}#sk-container-id-1 div.sk-toggleable__content pre {margin: 0.2em;color: black;border-radius: 0.25em;background-color: #f0f8ff;}#sk-container-id-1 input.sk-toggleable__control:checked~div.sk-toggleable__content {max-height: 200px;max-width: 100%;overflow: auto;}#sk-container-id-1 input.sk-toggleable__control:checked~label.sk-toggleable__label-arrow:before {content: \"▾\";}#sk-container-id-1 div.sk-estimator input.sk-toggleable__control:checked~label.sk-toggleable__label {background-color: #d4ebff;}#sk-container-id-1 div.sk-label input.sk-toggleable__control:checked~label.sk-toggleable__label {background-color: #d4ebff;}#sk-container-id-1 input.sk-hidden--visually {border: 0;clip: rect(1px 1px 1px 1px);clip: rect(1px, 1px, 1px, 1px);height: 1px;margin: -1px;overflow: hidden;padding: 0;position: absolute;width: 1px;}#sk-container-id-1 div.sk-estimator {font-family: monospace;background-color: #f0f8ff;border: 1px dotted black;border-radius: 0.25em;box-sizing: border-box;margin-bottom: 0.5em;}#sk-container-id-1 div.sk-estimator:hover {background-color: #d4ebff;}#sk-container-id-1 div.sk-parallel-item::after {content: \"\";width: 100%;border-bottom: 1px solid gray;flex-grow: 1;}#sk-container-id-1 div.sk-label:hover label.sk-toggleable__label {background-color: #d4ebff;}#sk-container-id-1 div.sk-serial::before {content: \"\";position: absolute;border-left: 1px solid gray;box-sizing: border-box;top: 0;bottom: 0;left: 50%;z-index: 0;}#sk-container-id-1 div.sk-serial {display: flex;flex-direction: column;align-items: center;background-color: white;padding-right: 0.2em;padding-left: 0.2em;position: relative;}#sk-container-id-1 div.sk-item {position: relative;z-index: 1;}#sk-container-id-1 div.sk-parallel {display: flex;align-items: stretch;justify-content: center;background-color: white;position: relative;}#sk-container-id-1 div.sk-item::before, #sk-container-id-1 div.sk-parallel-item::before {content: \"\";position: absolute;border-left: 1px solid gray;box-sizing: border-box;top: 0;bottom: 0;left: 50%;z-index: -1;}#sk-container-id-1 div.sk-parallel-item {display: flex;flex-direction: column;z-index: 1;position: relative;background-color: white;}#sk-container-id-1 div.sk-parallel-item:first-child::after {align-self: flex-end;width: 50%;}#sk-container-id-1 div.sk-parallel-item:last-child::after {align-self: flex-start;width: 50%;}#sk-container-id-1 div.sk-parallel-item:only-child::after {width: 0;}#sk-container-id-1 div.sk-dashed-wrapped {border: 1px dashed gray;margin: 0 0.4em 0.5em 0.4em;box-sizing: border-box;padding-bottom: 0.4em;background-color: white;}#sk-container-id-1 div.sk-label label {font-family: monospace;font-weight: bold;display: inline-block;line-height: 1.2em;}#sk-container-id-1 div.sk-label-container {text-align: center;}#sk-container-id-1 div.sk-container {/* jupyter's `normalize.less` sets `[hidden] { display: none; }` but bootstrap.min.css set `[hidden] { display: none !important; }` so we also need the `!important` here to be able to override the default hidden behavior on the sphinx rendered scikit-learn.org. See: https://github.com/scikit-learn/scikit-learn/issues/21755 */display: inline-block !important;position: relative;}#sk-container-id-1 div.sk-text-repr-fallback {display: none;}</style><div id=\"sk-container-id-1\" class=\"sk-top-container\"><div class=\"sk-text-repr-fallback\"><pre>LinearRegression()</pre><b>In a Jupyter environment, please rerun this cell to show the HTML representation or trust the notebook. <br />On GitHub, the HTML representation is unable to render, please try loading this page with nbviewer.org.</b></div><div class=\"sk-container\" hidden><div class=\"sk-item\"><div class=\"sk-estimator sk-toggleable\"><input class=\"sk-toggleable__control sk-hidden--visually\" id=\"sk-estimator-id-1\" type=\"checkbox\" checked><label for=\"sk-estimator-id-1\" class=\"sk-toggleable__label sk-toggleable__label-arrow\">LinearRegression</label><div class=\"sk-toggleable__content\"><pre>LinearRegression()</pre></div></div></div></div></div>"
      ],
      "text/plain": [
       "LinearRegression()"
      ]
     },
     "execution_count": 37,
     "metadata": {},
     "output_type": "execute_result"
    }
   ],
   "source": [
    "# Fit is used to adjust, and so we are adjusting the following x features y response (valores); y is training\n",
    "regressor.fit(X_train, y_train)"
   ]
  },
  {
   "cell_type": "markdown",
   "id": "81740fba",
   "metadata": {
    "papermill": {
     "duration": 0.031493,
     "end_time": "2023-10-22T15:46:24.220693",
     "exception": false,
     "start_time": "2023-10-22T15:46:24.189200",
     "status": "completed"
    },
    "tags": []
   },
   "source": [
    "## Predicciones para los datos de `X_validation`\n",
    "y ya predecir nuestros valores de `y_validation`, llamados `y_pred`"
   ]
  },
  {
   "cell_type": "code",
   "execution_count": 38,
   "id": "2305736f",
   "metadata": {
    "execution": {
     "iopub.execute_input": "2023-10-22T15:46:24.286099Z",
     "iopub.status.busy": "2023-10-22T15:46:24.285311Z",
     "iopub.status.idle": "2023-10-22T15:46:24.293004Z",
     "shell.execute_reply": "2023-10-22T15:46:24.291825Z"
    },
    "papermill": {
     "duration": 0.043192,
     "end_time": "2023-10-22T15:46:24.295432",
     "exception": false,
     "start_time": "2023-10-22T15:46:24.252240",
     "status": "completed"
    },
    "tags": []
   },
   "outputs": [],
   "source": [
    "# Once we train the model, we take 'validation' that didnt form part of the training\n",
    "# And we ask it to predict the following data and save it in a new column: 'y_pred'\n",
    "y_pred = regressor.predict(X_validation)\n",
    "# And so for every X it will create a serie of numbers"
   ]
  },
  {
   "cell_type": "code",
   "execution_count": 39,
   "id": "1a4d46ac",
   "metadata": {
    "execution": {
     "iopub.execute_input": "2023-10-22T15:46:24.362788Z",
     "iopub.status.busy": "2023-10-22T15:46:24.362058Z",
     "iopub.status.idle": "2023-10-22T15:46:24.366892Z",
     "shell.execute_reply": "2023-10-22T15:46:24.365814Z"
    },
    "papermill": {
     "duration": 0.040702,
     "end_time": "2023-10-22T15:46:24.369134",
     "exception": false,
     "start_time": "2023-10-22T15:46:24.328432",
     "status": "completed"
    },
    "tags": []
   },
   "outputs": [],
   "source": [
    "# from sklearn.tree import export_graphviz\n",
    "# import graphviz\n",
    "\n",
    "# dot_data = export_graphviz(regressor, filled=True, rounded=True, proportion=False)\n",
    "# graphviz.Source(dot_data)"
   ]
  },
  {
   "cell_type": "markdown",
   "id": "1d0d90b9",
   "metadata": {
    "papermill": {
     "duration": 0.031105,
     "end_time": "2023-10-22T15:46:24.431969",
     "exception": false,
     "start_time": "2023-10-22T15:46:24.400864",
     "status": "completed"
    },
    "tags": []
   },
   "source": [
    "#### Dibujar nuestros predicciones"
   ]
  },
  {
   "cell_type": "code",
   "execution_count": 40,
   "id": "69116f01",
   "metadata": {
    "execution": {
     "iopub.execute_input": "2023-10-22T15:46:24.497697Z",
     "iopub.status.busy": "2023-10-22T15:46:24.497263Z",
     "iopub.status.idle": "2023-10-22T15:46:24.936506Z",
     "shell.execute_reply": "2023-10-22T15:46:24.935296Z"
    },
    "papermill": {
     "duration": 0.474615,
     "end_time": "2023-10-22T15:46:24.939068",
     "exception": false,
     "start_time": "2023-10-22T15:46:24.464453",
     "status": "completed"
    },
    "tags": []
   },
   "outputs": [
    {
     "data": {
      "image/png": "[encoded data removed]",
      "text/plain": [
       "<Figure size 1600x800 with 1 Axes>"
      ]
     },
     "metadata": {},
     "output_type": "display_data"
    }
   ],
   "source": [
    "# Here we will make a plot chart displaying the real data and the predicted data\n",
    "\n",
    "fig, ax = plt.subplots(figsize=(16, 8))\n",
    "ax.axline([0, 0], [1, 1], color = \"red\", linestyle='--', lw=3, zorder=3)\n",
    "ax.scatter(x=y_validation, y=y_pred, c='blue', label=\"data\")\n",
    "\n",
    "minimum = min(y_pred.min(), y_validation.min())\n",
    "plt.xlim(minimum)\n",
    "plt.ylim(minimum)\n",
    "plt.xlabel('True')\n",
    "plt.ylabel('Predicted')\n",
    "\n",
    "plt.show();"
   ]
  },
  {
   "cell_type": "markdown",
   "id": "a8baa0ce",
   "metadata": {
    "papermill": {
     "duration": 0.031841,
     "end_time": "2023-10-22T15:46:25.003325",
     "exception": false,
     "start_time": "2023-10-22T15:46:24.971484",
     "status": "completed"
    },
    "tags": []
   },
   "source": [
    "#### Histograma de los residuos"
   ]
  },
  {
   "cell_type": "code",
   "execution_count": 41,
   "id": "879dc3ae",
   "metadata": {
    "execution": {
     "iopub.execute_input": "2023-10-22T15:46:25.069604Z",
     "iopub.status.busy": "2023-10-22T15:46:25.069193Z",
     "iopub.status.idle": "2023-10-22T15:46:25.902032Z",
     "shell.execute_reply": "2023-10-22T15:46:25.900421Z"
    },
    "papermill": {
     "duration": 0.869382,
     "end_time": "2023-10-22T15:46:25.904895",
     "exception": false,
     "start_time": "2023-10-22T15:46:25.035513",
     "status": "completed"
    },
    "tags": []
   },
   "outputs": [
    {
     "data": {
      "image/png": "[encoded data removed]",
      "text/plain": [
       "<Figure size 1200x600 with 1 Axes>"
      ]
     },
     "metadata": {},
     "output_type": "display_data"
    }
   ],
   "source": [
    "residual_mean = (y_validation - y_pred).mean()\n",
    "\n",
    "sns.displot( (y_validation - y_pred), bins=150, height=6, aspect=2)\n",
    "\n",
    "plt.xlabel('residual')\n",
    "# dibuja una linea vertical rojo\n",
    "plt.axvline(residual_mean, color=\"red\", lw=1);"
   ]
  },
  {
   "cell_type": "code",
   "execution_count": 42,
   "id": "79e8b584",
   "metadata": {
    "execution": {
     "iopub.execute_input": "2023-10-22T15:46:25.975299Z",
     "iopub.status.busy": "2023-10-22T15:46:25.974297Z",
     "iopub.status.idle": "2023-10-22T15:46:25.981923Z",
     "shell.execute_reply": "2023-10-22T15:46:25.980724Z"
    },
    "papermill": {
     "duration": 0.046205,
     "end_time": "2023-10-22T15:46:25.985265",
     "exception": false,
     "start_time": "2023-10-22T15:46:25.939060",
     "status": "completed"
    },
    "tags": []
   },
   "outputs": [
    {
     "name": "stdout",
     "output_type": "stream",
     "text": [
      "min residual=  -0.0\n",
      "max residual=   0.0\n"
     ]
    }
   ],
   "source": [
    "print(\"min residual= \",round( ((y_validation - y_pred).min()),-3))\n",
    "print(\"max residual=  \",round( ((y_validation - y_pred).max()),-3))"
   ]
  },
  {
   "cell_type": "markdown",
   "id": "ab6ea7c3",
   "metadata": {
    "papermill": {
     "duration": 0.035201,
     "end_time": "2023-10-22T15:46:26.055092",
     "exception": false,
     "start_time": "2023-10-22T15:46:26.019891",
     "status": "completed"
    },
    "tags": []
   },
   "source": [
    "#### Calcular el RMSE score para los datos de `test` en el dataframe `X_validation`\n",
    "\n",
    "Comparar nuestro `y_pred` con los valores de verdad (`y_validation`)"
   ]
  },
  {
   "cell_type": "code",
   "execution_count": 43,
   "id": "b3fd6058",
   "metadata": {
    "execution": {
     "iopub.execute_input": "2023-10-22T15:46:26.127390Z",
     "iopub.status.busy": "2023-10-22T15:46:26.126948Z",
     "iopub.status.idle": "2023-10-22T15:46:26.133539Z",
     "shell.execute_reply": "2023-10-22T15:46:26.132296Z"
    },
    "papermill": {
     "duration": 0.047312,
     "end_time": "2023-10-22T15:46:26.136394",
     "exception": false,
     "start_time": "2023-10-22T15:46:26.089082",
     "status": "completed"
    },
    "tags": []
   },
   "outputs": [
    {
     "name": "stdout",
     "output_type": "stream",
     "text": [
      "RMSE de los datos de validacion:  42.0\n"
     ]
    }
   ],
   "source": [
    "# This is the result of machine learning\n",
    "print(\"RMSE de los datos de validacion: \",round(mean_squared_error(y_validation, y_pred, squared=False),1))"
   ]
  },
  {
   "cell_type": "markdown",
   "id": "a3ad1404",
   "metadata": {
    "papermill": {
     "duration": 0.033524,
     "end_time": "2023-10-22T15:46:26.204365",
     "exception": false,
     "start_time": "2023-10-22T15:46:26.170841",
     "status": "completed"
    },
    "tags": []
   },
   "source": [
    "## También vamos a calcular un 5-fold cross-validation (CV) RMSE score\n",
    "usando [`sklearn.model_selection.cross_val_score`](https://scikit-learn.org/stable/modules/generated/sklearn.model_selection.cross_val_score.html)"
   ]
  },
  {
   "cell_type": "code",
   "execution_count": 44,
   "id": "6d21898c",
   "metadata": {
    "execution": {
     "iopub.execute_input": "2023-10-22T15:46:26.274375Z",
     "iopub.status.busy": "2023-10-22T15:46:26.273977Z",
     "iopub.status.idle": "2023-10-22T15:46:26.323580Z",
     "shell.execute_reply": "2023-10-22T15:46:26.322216Z"
    },
    "papermill": {
     "duration": 0.088328,
     "end_time": "2023-10-22T15:46:26.326052",
     "exception": false,
     "start_time": "2023-10-22T15:46:26.237724",
     "status": "completed"
    },
    "tags": []
   },
   "outputs": [
    {
     "name": "stdout",
     "output_type": "stream",
     "text": [
      "* RMS del los CV RMSE:              511.3\n",
      "* Desviación estándar del CV score:  358.4\n"
     ]
    }
   ],
   "source": [
    "from sklearn.model_selection import cross_val_score\n",
    "# vamos a usar el RMSE\n",
    "from sklearn.metrics import make_scorer\n",
    "RMSE = make_scorer(mean_squared_error, squared=False)\n",
    "\n",
    "# limpiamos los datos de X\n",
    "X = cleaning(X)\n",
    "X = RS.fit_transform(X)\n",
    "\n",
    "# Cross validation 5x; we used 5 models to do a standard desviation to have a range of error with our prediction\n",
    "CV_scores = cross_val_score(regressor, X, y, cv=5, scoring=RMSE)\n",
    "\n",
    "# imprimir los resultados a la pantalla\n",
    "#print(\"* CV scores:                       \",CV_scores)\n",
    "print(\"* RMS del los CV RMSE:             \",round(np.sqrt(np.mean(np.square(CV_scores))),1))\n",
    "print(\"* Desviación estándar del CV score: \",round(np.std(CV_scores),1))\n",
    "\n",
    "# Not a great model but to give us a general idea"
   ]
  },
  {
   "cell_type": "markdown",
   "id": "9d9c47c9",
   "metadata": {
    "papermill": {
     "duration": 0.033424,
     "end_time": "2023-10-22T15:46:26.394040",
     "exception": false,
     "start_time": "2023-10-22T15:46:26.360616",
     "status": "completed"
    },
    "tags": []
   },
   "source": [
    "### Ver los \"*pesos*\" (*p.ej.* los $\\beta_1$ en regresión lineal) asociados con cada columna (nota que `<BIAS>` es $\\beta_0$)"
   ]
  },
  {
   "cell_type": "code",
   "execution_count": 45,
   "id": "f78846f0",
   "metadata": {
    "execution": {
     "iopub.execute_input": "2023-10-22T15:46:26.464722Z",
     "iopub.status.busy": "2023-10-22T15:46:26.464036Z",
     "iopub.status.idle": "2023-10-22T15:46:37.083578Z",
     "shell.execute_reply": "2023-10-22T15:46:37.082258Z"
    },
    "papermill": {
     "duration": 10.657891,
     "end_time": "2023-10-22T15:46:37.086356",
     "exception": false,
     "start_time": "2023-10-22T15:46:26.428465",
     "status": "completed"
    },
    "tags": []
   },
   "outputs": [
    {
     "data": {
      "text/html": [
       "\n",
       "    <style>\n",
       "    table.eli5-weights tr:hover {\n",
       "        filter: brightness(85%);\n",
       "    }\n",
       "</style>\n",
       "\n",
       "\n",
       "\n",
       "    \n",
       "\n",
       "    \n",
       "\n",
       "    \n",
       "\n",
       "    \n",
       "\n",
       "    \n",
       "\n",
       "    \n",
       "\n",
       "\n",
       "    \n",
       "\n",
       "    \n",
       "\n",
       "    \n",
       "\n",
       "    \n",
       "        \n",
       "\n",
       "    \n",
       "\n",
       "        \n",
       "            \n",
       "                \n",
       "                \n",
       "    \n",
       "        <p style=\"margin-bottom: 0.5em; margin-top: 0em\">\n",
       "            <b>\n",
       "    \n",
       "        y\n",
       "    \n",
       "</b>\n",
       "\n",
       "top features\n",
       "        </p>\n",
       "    \n",
       "    <table class=\"eli5-weights\"\n",
       "           style=\"border-collapse: collapse; border: none; margin-top: 0em; table-layout: auto; margin-bottom: 2em;\">\n",
       "        <thead>\n",
       "        <tr style=\"border: none;\">\n",
       "            \n",
       "                <th style=\"padding: 0 1em 0 0.5em; text-align: right; border: none;\" title=\"Feature weights. Note that weights do not account for feature value scales, so if feature values have different scales, features with highest weights might not be the most important.\">\n",
       "                    Weight<sup>?</sup>\n",
       "                </th>\n",
       "            \n",
       "            <th style=\"padding: 0 0.5em 0 0.5em; text-align: left; border: none;\">Feature</th>\n",
       "            \n",
       "        </tr>\n",
       "        </thead>\n",
       "        <tbody>\n",
       "        \n",
       "            <tr style=\"background-color: hsl(120, 100.00%, 80.00%); border: none;\">\n",
       "    <td style=\"padding: 0 1em 0 0.5em; text-align: right; border: none;\">\n",
       "        +458951.942\n",
       "    </td>\n",
       "    <td style=\"padding: 0 0.5em 0 0.5em; text-align: left; border: none;\">\n",
       "        property_value\n",
       "    </td>\n",
       "    \n",
       "</tr>\n",
       "        \n",
       "            <tr style=\"background-color: hsl(120, 100.00%, 83.49%); border: none;\">\n",
       "    <td style=\"padding: 0 1em 0 0.5em; text-align: right; border: none;\">\n",
       "        +349031.791\n",
       "    </td>\n",
       "    <td style=\"padding: 0 0.5em 0 0.5em; text-align: left; border: none;\">\n",
       "        &lt;BIAS&gt;\n",
       "    </td>\n",
       "    \n",
       "</tr>\n",
       "        \n",
       "        \n",
       "\n",
       "        \n",
       "        \n",
       "\n",
       "        </tbody>\n",
       "    </table>\n",
       "\n",
       "            \n",
       "        \n",
       "\n",
       "        \n",
       "\n",
       "\n",
       "\n",
       "    \n",
       "\n",
       "    \n",
       "\n",
       "    \n",
       "\n",
       "    \n",
       "\n",
       "\n",
       "    \n",
       "\n",
       "    \n",
       "\n",
       "    \n",
       "\n",
       "    \n",
       "\n",
       "    \n",
       "\n",
       "    \n",
       "\n",
       "\n",
       "    \n",
       "\n",
       "    \n",
       "\n",
       "    \n",
       "\n",
       "    \n",
       "\n",
       "    \n",
       "\n",
       "    \n",
       "\n",
       "\n",
       "\n"
      ],
      "text/plain": [
       "<IPython.core.display.HTML object>"
      ]
     },
     "execution_count": 45,
     "metadata": {},
     "output_type": "execute_result"
    }
   ],
   "source": [
    "# Here we print a table of B1\n",
    "import eli5\n",
    "\n",
    "eli5.show_weights(regressor, top=None, feature_names = feature_names )"
   ]
  },
  {
   "cell_type": "markdown",
   "id": "a2086218",
   "metadata": {
    "papermill": {
     "duration": 0.036066,
     "end_time": "2023-10-22T15:46:37.158028",
     "exception": false,
     "start_time": "2023-10-22T15:46:37.121962",
     "status": "completed"
    },
    "tags": []
   },
   "source": [
    "### Ejemplo de como calcular la [permutation importance](https://scikit-learn.org/stable/modules/permutation_importance.html) de los features"
   ]
  },
  {
   "cell_type": "code",
   "execution_count": 46,
   "id": "4faf5d7e",
   "metadata": {
    "execution": {
     "iopub.execute_input": "2023-10-22T15:46:37.230203Z",
     "iopub.status.busy": "2023-10-22T15:46:37.229376Z",
     "iopub.status.idle": "2023-10-22T15:46:37.267197Z",
     "shell.execute_reply": "2023-10-22T15:46:37.266183Z"
    },
    "papermill": {
     "duration": 0.076236,
     "end_time": "2023-10-22T15:46:37.269795",
     "exception": false,
     "start_time": "2023-10-22T15:46:37.193559",
     "status": "completed"
    },
    "tags": []
   },
   "outputs": [
    {
     "data": {
      "text/html": [
       "\n",
       "    <style>\n",
       "    table.eli5-weights tr:hover {\n",
       "        filter: brightness(85%);\n",
       "    }\n",
       "</style>\n",
       "\n",
       "\n",
       "\n",
       "    \n",
       "\n",
       "    \n",
       "\n",
       "    \n",
       "\n",
       "    \n",
       "\n",
       "    \n",
       "\n",
       "    \n",
       "\n",
       "\n",
       "    \n",
       "\n",
       "    \n",
       "\n",
       "    \n",
       "\n",
       "    \n",
       "\n",
       "    \n",
       "\n",
       "    \n",
       "\n",
       "\n",
       "    \n",
       "\n",
       "    \n",
       "\n",
       "    \n",
       "\n",
       "    \n",
       "\n",
       "    \n",
       "        <table class=\"eli5-weights eli5-feature-importances\" style=\"border-collapse: collapse; border: none; margin-top: 0em; table-layout: auto;\">\n",
       "    <thead>\n",
       "    <tr style=\"border: none;\">\n",
       "        <th style=\"padding: 0 1em 0 0.5em; text-align: right; border: none;\">Weight</th>\n",
       "        <th style=\"padding: 0 0.5em 0 0.5em; text-align: left; border: none;\">Feature</th>\n",
       "    </tr>\n",
       "    </thead>\n",
       "    <tbody>\n",
       "    \n",
       "        <tr style=\"background-color: hsl(120, 100.00%, 80.00%); border: none;\">\n",
       "            <td style=\"padding: 0 1em 0 0.5em; text-align: right; border: none;\">\n",
       "                2.0104\n",
       "                \n",
       "                    &plusmn; 0.0375\n",
       "                \n",
       "            </td>\n",
       "            <td style=\"padding: 0 0.5em 0 0.5em; text-align: left; border: none;\">\n",
       "                property_value\n",
       "            </td>\n",
       "        </tr>\n",
       "    \n",
       "    \n",
       "    </tbody>\n",
       "</table>\n",
       "    \n",
       "\n",
       "    \n",
       "\n",
       "\n",
       "    \n",
       "\n",
       "    \n",
       "\n",
       "    \n",
       "\n",
       "    \n",
       "\n",
       "    \n",
       "\n",
       "    \n",
       "\n",
       "\n",
       "\n"
      ],
      "text/plain": [
       "<IPython.core.display.HTML object>"
      ]
     },
     "execution_count": 46,
     "metadata": {},
     "output_type": "execute_result"
    }
   ],
   "source": [
    "from eli5.sklearn import PermutationImportance\n",
    "\n",
    "perm_import = PermutationImportance(regressor, random_state=1).fit(X_train, y_train)\n",
    "\n",
    "eli5.show_weights(perm_import, top=None, feature_names = feature_names)"
   ]
  },
  {
   "cell_type": "markdown",
   "id": "758b9cd0",
   "metadata": {
    "papermill": {
     "duration": 0.035185,
     "end_time": "2023-10-22T15:46:37.341455",
     "exception": false,
     "start_time": "2023-10-22T15:46:37.306270",
     "status": "completed"
    },
    "tags": []
   },
   "source": [
    "# Evaluacón final: predicciones para los datos de `X_test`\n",
    "\n",
    "Leer los datos del ``test``"
   ]
  },
  {
   "cell_type": "code",
   "execution_count": 47,
   "id": "f118fa90",
   "metadata": {
    "execution": {
     "iopub.execute_input": "2023-10-22T15:46:37.418120Z",
     "iopub.status.busy": "2023-10-22T15:46:37.417512Z",
     "iopub.status.idle": "2023-10-22T15:46:37.444710Z",
     "shell.execute_reply": "2023-10-22T15:46:37.443800Z"
    },
    "papermill": {
     "duration": 0.070695,
     "end_time": "2023-10-22T15:46:37.447275",
     "exception": false,
     "start_time": "2023-10-22T15:46:37.376580",
     "status": "completed"
    },
    "tags": []
   },
   "outputs": [],
   "source": [
    "X_test  = pd.read_csv(\"/kaggle/input/big-data-granada-precio-de-pisos-competicin/test.csv\", index_col=\"piso_id\")"
   ]
  },
  {
   "cell_type": "code",
   "execution_count": 48,
   "id": "6a1d212c",
   "metadata": {
    "execution": {
     "iopub.execute_input": "2023-10-22T15:46:37.520074Z",
     "iopub.status.busy": "2023-10-22T15:46:37.519451Z",
     "iopub.status.idle": "2023-10-22T15:46:37.525156Z",
     "shell.execute_reply": "2023-10-22T15:46:37.524367Z"
    },
    "papermill": {
     "duration": 0.043334,
     "end_time": "2023-10-22T15:46:37.527519",
     "exception": false,
     "start_time": "2023-10-22T15:46:37.484185",
     "status": "completed"
    },
    "tags": []
   },
   "outputs": [
    {
     "data": {
      "text/plain": [
       "(4652, 15)"
      ]
     },
     "execution_count": 48,
     "metadata": {},
     "output_type": "execute_result"
    }
   ],
   "source": [
    "X_test.shape"
   ]
  },
  {
   "cell_type": "markdown",
   "id": "179f8735",
   "metadata": {
    "papermill": {
     "duration": 0.034721,
     "end_time": "2023-10-22T15:46:37.597469",
     "exception": false,
     "start_time": "2023-10-22T15:46:37.562748",
     "status": "completed"
    },
    "tags": []
   },
   "source": [
    "Limpiar `X_test` del mismo manera que los datos de entrenamiento `X_train`"
   ]
  },
  {
   "cell_type": "code",
   "execution_count": 49,
   "id": "293ee693",
   "metadata": {
    "execution": {
     "iopub.execute_input": "2023-10-22T15:46:37.668529Z",
     "iopub.status.busy": "2023-10-22T15:46:37.667913Z",
     "iopub.status.idle": "2023-10-22T15:46:37.681643Z",
     "shell.execute_reply": "2023-10-22T15:46:37.680476Z"
    },
    "papermill": {
     "duration": 0.05237,
     "end_time": "2023-10-22T15:46:37.684246",
     "exception": false,
     "start_time": "2023-10-22T15:46:37.631876",
     "status": "completed"
    },
    "tags": []
   },
   "outputs": [],
   "source": [
    "# data cleaning\n",
    "X_test = cleaning(X_test)\n",
    "# usar la misma transformación que la aplicada a los datos de entrenamiento:\n",
    "X_test = RS.transform(X_test)"
   ]
  },
  {
   "cell_type": "markdown",
   "id": "6b7482cf",
   "metadata": {
    "papermill": {
     "duration": 0.033525,
     "end_time": "2023-10-22T15:46:37.752618",
     "exception": false,
     "start_time": "2023-10-22T15:46:37.719093",
     "status": "completed"
    },
    "tags": []
   },
   "source": [
    "### Usar nuestro modelo para predecir todos los valores `y_pred` ($\\hat{y}$) para los datos `test` finales"
   ]
  },
  {
   "cell_type": "code",
   "execution_count": 50,
   "id": "1b772b7d",
   "metadata": {
    "execution": {
     "iopub.execute_input": "2023-10-22T15:46:37.822589Z",
     "iopub.status.busy": "2023-10-22T15:46:37.822143Z",
     "iopub.status.idle": "2023-10-22T15:46:37.829251Z",
     "shell.execute_reply": "2023-10-22T15:46:37.828122Z"
    },
    "papermill": {
     "duration": 0.044845,
     "end_time": "2023-10-22T15:46:37.831456",
     "exception": false,
     "start_time": "2023-10-22T15:46:37.786611",
     "status": "completed"
    },
    "tags": []
   },
   "outputs": [],
   "source": [
    "# We do a test of this data\n",
    "y_pred = regressor.predict(X_test)"
   ]
  },
  {
   "cell_type": "markdown",
   "id": "6ab7e884",
   "metadata": {
    "papermill": {
     "duration": 0.034541,
     "end_time": "2023-10-22T15:46:37.901377",
     "exception": false,
     "start_time": "2023-10-22T15:46:37.866836",
     "status": "completed"
    },
    "tags": []
   },
   "source": [
    "### Escribir un fichero `submission.csv` con tus $\\hat{y}$\n",
    "Nuestro Leaderboard score será el RMSE entre los datos escritos en `submission.csv` y los datos `y_true` \"secretos\""
   ]
  },
  {
   "cell_type": "code",
   "execution_count": 51,
   "id": "99c863ec",
   "metadata": {
    "execution": {
     "iopub.execute_input": "2023-10-22T15:46:37.974760Z",
     "iopub.status.busy": "2023-10-22T15:46:37.973621Z",
     "iopub.status.idle": "2023-10-22T15:46:38.010053Z",
     "shell.execute_reply": "2023-10-22T15:46:38.008854Z"
    },
    "papermill": {
     "duration": 0.077337,
     "end_time": "2023-10-22T15:46:38.013203",
     "exception": false,
     "start_time": "2023-10-22T15:46:37.935866",
     "status": "completed"
    },
    "tags": []
   },
   "outputs": [],
   "source": [
    "sample_submission = pd.read_csv(\"/kaggle/input/big-data-granada-precio-de-pisos-competicin/sample_submission.csv\")\n",
    "sample_submission[\"precio\"] = y_pred\n",
    "sample_submission.to_csv('submission.csv',index=False)"
   ]
  },
  {
   "cell_type": "code",
   "execution_count": 52,
   "id": "d544cb49",
   "metadata": {
    "execution": {
     "iopub.execute_input": "2023-10-22T15:46:38.085336Z",
     "iopub.status.busy": "2023-10-22T15:46:38.084689Z",
     "iopub.status.idle": "2023-10-22T15:46:38.094090Z",
     "shell.execute_reply": "2023-10-22T15:46:38.093070Z"
    },
    "papermill": {
     "duration": 0.047757,
     "end_time": "2023-10-22T15:46:38.096263",
     "exception": false,
     "start_time": "2023-10-22T15:46:38.048506",
     "status": "completed"
    },
    "tags": []
   },
   "outputs": [
    {
     "data": {
      "text/html": [
       "<div>\n",
       "<style scoped>\n",
       "    .dataframe tbody tr th:only-of-type {\n",
       "        vertical-align: middle;\n",
       "    }\n",
       "\n",
       "    .dataframe tbody tr th {\n",
       "        vertical-align: top;\n",
       "    }\n",
       "\n",
       "    .dataframe thead th {\n",
       "        text-align: right;\n",
       "    }\n",
       "</style>\n",
       "<table border=\"1\" class=\"dataframe\">\n",
       "  <thead>\n",
       "    <tr style=\"text-align: right;\">\n",
       "      <th></th>\n",
       "      <th>piso_id</th>\n",
       "      <th>precio</th>\n",
       "    </tr>\n",
       "  </thead>\n",
       "  <tbody>\n",
       "    <tr>\n",
       "      <th>0</th>\n",
       "      <td>10852</td>\n",
       "      <td>9.909507e+05</td>\n",
       "    </tr>\n",
       "    <tr>\n",
       "      <th>1</th>\n",
       "      <td>10853</td>\n",
       "      <td>1.251362e+06</td>\n",
       "    </tr>\n",
       "    <tr>\n",
       "      <th>2</th>\n",
       "      <td>10854</td>\n",
       "      <td>4.301100e+05</td>\n",
       "    </tr>\n",
       "    <tr>\n",
       "      <th>3</th>\n",
       "      <td>10855</td>\n",
       "      <td>1.066675e+05</td>\n",
       "    </tr>\n",
       "    <tr>\n",
       "      <th>4</th>\n",
       "      <td>10856</td>\n",
       "      <td>5.652887e+05</td>\n",
       "    </tr>\n",
       "  </tbody>\n",
       "</table>\n",
       "</div>"
      ],
      "text/plain": [
       "   piso_id        precio\n",
       "0    10852  9.909507e+05\n",
       "1    10853  1.251362e+06\n",
       "2    10854  4.301100e+05\n",
       "3    10855  1.066675e+05\n",
       "4    10856  5.652887e+05"
      ]
     },
     "execution_count": 52,
     "metadata": {},
     "output_type": "execute_result"
    }
   ],
   "source": [
    "sample_submission.head()"
   ]
  },
  {
   "cell_type": "markdown",
   "id": "c2b9465e",
   "metadata": {
    "papermill": {
     "duration": 0.033862,
     "end_time": "2023-10-22T15:46:38.164430",
     "exception": false,
     "start_time": "2023-10-22T15:46:38.130568",
     "status": "completed"
    },
    "tags": []
   },
   "source": [
    "# ¿Como entregar tus predicciones al [leaderboard](https://www.kaggle.com/competitions/big-data-mlaga-precio-de-pisos-competicin/leaderboard)?\n",
    "\n",
    "Cuando estas contento con tu notebook, y quieres entregar tu trabajo para su evaluación (es decir, hacer una *submission*) en el lado derecho de tu pantalla ir a **Submit to competition** y pinchar sobre **Submit**. "
   ]
  }
 ],
 "metadata": {
  "kernelspec": {
   "display_name": "Python 3",
   "language": "python",
   "name": "python3"
  },
  "language_info": {
   "codemirror_mode": {
    "name": "ipython",
    "version": 3
   },
   "file_extension": ".py",
   "mimetype": "text/x-python",
   "name": "python",
   "nbconvert_exporter": "python",
   "pygments_lexer": "ipython3",
   "version": "3.10.12"
  },
  "papermill": {
   "default_parameters": {},
   "duration": 28.51081,
   "end_time": "2023-10-22T15:46:40.666718",
   "environment_variables": {},
   "exception": null,
   "input_path": "__notebook__.ipynb",
   "output_path": "__notebook__.ipynb",
   "parameters": {},
   "start_time": "2023-10-22T15:46:12.155908",
   "version": "2.4.0"
  }
 },
 "nbformat": 4,
 "nbformat_minor": 5
}
